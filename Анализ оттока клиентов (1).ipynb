{
 "cells": [
  {
   "cell_type": "markdown",
   "metadata": {},
   "source": [
    "# Анализ оттока клиентов\n"
   ]
  },
  {
   "cell_type": "markdown",
   "metadata": {},
   "source": [
    "# Ссылка на презентацию: https://disk.yandex.ru/i/DDu2yMKSw6QZpg "
   ]
  },
  {
   "cell_type": "markdown",
   "metadata": {},
   "source": [
    "**Описание проекта**"
   ]
  },
  {
   "cell_type": "markdown",
   "metadata": {},
   "source": [
    "Менеджер банка «Метанпромбанк» попросил разобраться, какие клиенты уходят из банка. Анализ покажет, какие клиенты уходят из банка, а так же поможет нам составить сегменты клиентов, которые склонны уходить из банка."
   ]
  },
  {
   "cell_type": "markdown",
   "metadata": {},
   "source": [
    "**Цель проекта**"
   ]
  },
  {
   "cell_type": "markdown",
   "metadata": {},
   "source": [
    "Составить портрет уходящего клиента. Дать рекомендации, которые помогут уменьшить отток клиентов."
   ]
  },
  {
   "cell_type": "markdown",
   "metadata": {},
   "source": [
    "**Описание данных**"
   ]
  },
  {
   "cell_type": "markdown",
   "metadata": {},
   "source": [
    "Данные предоставлены из банка, находяшегося в Ярославле и областных городах: Ростов Великий и Рыбинск."
   ]
  },
  {
   "cell_type": "markdown",
   "metadata": {},
   "source": [
    "# Декомпозиция"
   ]
  },
  {
   "cell_type": "markdown",
   "metadata": {},
   "source": [
    "**Приблизительные пункты, которые будут рассмотрены в исследовании:**\n",
    "1. Обзор и предобработка данных\n",
    "  - Проработать названия столбцов, привести их к одной стилистике.\n",
    "  - Привести данные к нужному типу.\n",
    "  - Проверить на пропуски. Решить что с ними сделать.\n",
    "  - Проверить на явные дубликаты.\n",
    "2. Анализ данных   \n",
    "  - Как разные сегменты (пол, возраст, город, количество объектов в собственности, баланс на счете, заработная плата) связаны с оттоком клиентов. Построить графики, на которых будет показана зависимость между разными сегментами и оттоком клиентов.\n",
    "  - Посчитать процент оттока клиентов в каждом сегменте.\n",
    "  - Посмотреть распределение, какие группы можно объединить? (скорее всего, все графики будут посторены методом hist)\n",
    "  - Построить матрицу корреляции данных.\n",
    "3. Проверка гипотез.\n",
    "  -  Проверить гипотезу различия дохода между теми клиентами, которые ушли и теми, которые остались.\n",
    "     - Нулевая: *Доход между клиентами, которые уши и которые остались, разный*\n",
    "     - Альтернативная: *Доход между клиентами, которые уши и которые остались, одинаковый*\n",
    "  - Сформулировать вторую гипотезу (нулевую и альтернативную).\n",
    "4. Сделть общие выводы, сформулировать профиль уходящего клиента. Дать рекомендации по удержанию клиента."
   ]
  },
  {
   "cell_type": "markdown",
   "metadata": {},
   "source": [
    "После каждого пункта должны быть промежуточные выводы, соответсвующие ходу исследования."
   ]
  },
  {
   "cell_type": "markdown",
   "metadata": {},
   "source": [
    "## Обзор и предобработка данных "
   ]
  },
  {
   "cell_type": "code",
   "execution_count": 2,
   "metadata": {},
   "outputs": [],
   "source": [
    "# импорт библиотек\n",
    "\n",
    "import pandas as pd\n",
    "import numpy as np\n",
    "import matplotlib.pyplot as plt\n",
    "from matplotlib.ticker import ScalarFormatter\n",
    "import seaborn as sns\n",
    "import math\n",
    "import scipy.stats as stats\n",
    "from plotly import graph_objects as go\n",
    "from scipy import stats as st\n",
    "import numpy as np\n",
    "\n",
    "\n",
    "pd.set_option('display.max_colwidth', 200)\n",
    "\n",
    "import warnings\n",
    "warnings.filterwarnings(\"ignore\")"
   ]
  },
  {
   "cell_type": "code",
   "execution_count": 3,
   "metadata": {},
   "outputs": [
    {
     "name": "stdout",
     "output_type": "stream",
     "text": [
      "<class 'pandas.core.frame.DataFrame'>\n",
      "RangeIndex: 10000 entries, 0 to 9999\n",
      "Data columns (total 12 columns):\n",
      " #   Column         Non-Null Count  Dtype  \n",
      "---  ------         --------------  -----  \n",
      " 0   USERID         10000 non-null  int64  \n",
      " 1   score          10000 non-null  float64\n",
      " 2   city           10000 non-null  object \n",
      " 3   gender         10000 non-null  object \n",
      " 4   age            9974 non-null   float64\n",
      " 5   equity         10000 non-null  int64  \n",
      " 6   balance        7705 non-null   float64\n",
      " 7   products       10000 non-null  int64  \n",
      " 8   credit_card    10000 non-null  int64  \n",
      " 9   last_activity  10000 non-null  int64  \n",
      " 10  EST_SALARY     10000 non-null  float64\n",
      " 11  churn          10000 non-null  int64  \n",
      "dtypes: float64(4), int64(6), object(2)\n",
      "memory usage: 937.6+ KB\n"
     ]
    }
   ],
   "source": [
    "# Выгрузим файл\n",
    "\n",
    "d = 'https://code.s3.yandex.net/datasets/bank_scrooge.csv'\n",
    "bank = pd.read_csv(d)\n",
    "\n",
    "#Посмотрим типы данных\n",
    "\n",
    "bank.info()"
   ]
  },
  {
   "cell_type": "code",
   "execution_count": 4,
   "metadata": {},
   "outputs": [
    {
     "data": {
      "text/html": [
       "<div>\n",
       "<style scoped>\n",
       "    .dataframe tbody tr th:only-of-type {\n",
       "        vertical-align: middle;\n",
       "    }\n",
       "\n",
       "    .dataframe tbody tr th {\n",
       "        vertical-align: top;\n",
       "    }\n",
       "\n",
       "    .dataframe thead th {\n",
       "        text-align: right;\n",
       "    }\n",
       "</style>\n",
       "<table border=\"1\" class=\"dataframe\">\n",
       "  <thead>\n",
       "    <tr style=\"text-align: right;\">\n",
       "      <th></th>\n",
       "      <th>user_id</th>\n",
       "      <th>score</th>\n",
       "      <th>city</th>\n",
       "      <th>gender</th>\n",
       "      <th>age</th>\n",
       "      <th>equity</th>\n",
       "      <th>balance</th>\n",
       "      <th>products</th>\n",
       "      <th>credit_card</th>\n",
       "      <th>last_activity</th>\n",
       "      <th>est_salary</th>\n",
       "      <th>churn</th>\n",
       "    </tr>\n",
       "  </thead>\n",
       "  <tbody>\n",
       "    <tr>\n",
       "      <th>0</th>\n",
       "      <td>183012</td>\n",
       "      <td>850.0</td>\n",
       "      <td>Рыбинск</td>\n",
       "      <td>Ж</td>\n",
       "      <td>25.0</td>\n",
       "      <td>1</td>\n",
       "      <td>59214.82</td>\n",
       "      <td>2</td>\n",
       "      <td>0</td>\n",
       "      <td>1</td>\n",
       "      <td>75719.14</td>\n",
       "      <td>1</td>\n",
       "    </tr>\n",
       "    <tr>\n",
       "      <th>1</th>\n",
       "      <td>146556</td>\n",
       "      <td>861.0</td>\n",
       "      <td>Рыбинск</td>\n",
       "      <td>Ж</td>\n",
       "      <td>37.0</td>\n",
       "      <td>5</td>\n",
       "      <td>850594.33</td>\n",
       "      <td>3</td>\n",
       "      <td>1</td>\n",
       "      <td>0</td>\n",
       "      <td>86621.77</td>\n",
       "      <td>0</td>\n",
       "    </tr>\n",
       "    <tr>\n",
       "      <th>2</th>\n",
       "      <td>120722</td>\n",
       "      <td>892.0</td>\n",
       "      <td>Рыбинск</td>\n",
       "      <td>Ж</td>\n",
       "      <td>30.0</td>\n",
       "      <td>0</td>\n",
       "      <td>NaN</td>\n",
       "      <td>1</td>\n",
       "      <td>1</td>\n",
       "      <td>1</td>\n",
       "      <td>107683.34</td>\n",
       "      <td>0</td>\n",
       "    </tr>\n",
       "    <tr>\n",
       "      <th>3</th>\n",
       "      <td>225363</td>\n",
       "      <td>866.0</td>\n",
       "      <td>Ярославль</td>\n",
       "      <td>Ж</td>\n",
       "      <td>51.0</td>\n",
       "      <td>5</td>\n",
       "      <td>1524746.26</td>\n",
       "      <td>2</td>\n",
       "      <td>0</td>\n",
       "      <td>1</td>\n",
       "      <td>174423.53</td>\n",
       "      <td>1</td>\n",
       "    </tr>\n",
       "    <tr>\n",
       "      <th>4</th>\n",
       "      <td>157978</td>\n",
       "      <td>730.0</td>\n",
       "      <td>Ярославль</td>\n",
       "      <td>М</td>\n",
       "      <td>34.0</td>\n",
       "      <td>5</td>\n",
       "      <td>174.00</td>\n",
       "      <td>1</td>\n",
       "      <td>1</td>\n",
       "      <td>0</td>\n",
       "      <td>67353.16</td>\n",
       "      <td>1</td>\n",
       "    </tr>\n",
       "    <tr>\n",
       "      <th>5</th>\n",
       "      <td>202305</td>\n",
       "      <td>856.0</td>\n",
       "      <td>Рыбинск</td>\n",
       "      <td>М</td>\n",
       "      <td>56.0</td>\n",
       "      <td>4</td>\n",
       "      <td>863687.24</td>\n",
       "      <td>3</td>\n",
       "      <td>1</td>\n",
       "      <td>0</td>\n",
       "      <td>156619.80</td>\n",
       "      <td>0</td>\n",
       "    </tr>\n",
       "    <tr>\n",
       "      <th>6</th>\n",
       "      <td>177259</td>\n",
       "      <td>807.0</td>\n",
       "      <td>Ярославль</td>\n",
       "      <td>Ж</td>\n",
       "      <td>39.0</td>\n",
       "      <td>3</td>\n",
       "      <td>405042.44</td>\n",
       "      <td>3</td>\n",
       "      <td>0</td>\n",
       "      <td>1</td>\n",
       "      <td>103838.32</td>\n",
       "      <td>0</td>\n",
       "    </tr>\n",
       "  </tbody>\n",
       "</table>\n",
       "</div>"
      ],
      "text/plain": [
       "   user_id  score       city gender   age  equity     balance  products  \\\n",
       "0   183012  850.0    Рыбинск      Ж  25.0       1    59214.82         2   \n",
       "1   146556  861.0    Рыбинск      Ж  37.0       5   850594.33         3   \n",
       "2   120722  892.0    Рыбинск      Ж  30.0       0         NaN         1   \n",
       "3   225363  866.0  Ярославль      Ж  51.0       5  1524746.26         2   \n",
       "4   157978  730.0  Ярославль      М  34.0       5      174.00         1   \n",
       "5   202305  856.0    Рыбинск      М  56.0       4   863687.24         3   \n",
       "6   177259  807.0  Ярославль      Ж  39.0       3   405042.44         3   \n",
       "\n",
       "   credit_card  last_activity  est_salary  churn  \n",
       "0            0              1    75719.14      1  \n",
       "1            1              0    86621.77      0  \n",
       "2            1              1   107683.34      0  \n",
       "3            0              1   174423.53      1  \n",
       "4            1              0    67353.16      1  \n",
       "5            1              0   156619.80      0  \n",
       "6            0              1   103838.32      0  "
      ]
     },
     "execution_count": 4,
     "metadata": {},
     "output_type": "execute_result"
    }
   ],
   "source": [
    "# Переименуем столбцы\n",
    "\n",
    "bank = bank.rename(columns = {'USERID':'user_id', 'EST_SALARY':'est_salary'})\n",
    "\n",
    "bank.head(7)"
   ]
  },
  {
   "cell_type": "code",
   "execution_count": 5,
   "metadata": {},
   "outputs": [
    {
     "name": "stdout",
     "output_type": "stream",
     "text": [
      "Пропуски:\n",
      " user_id             0\n",
      "score               0\n",
      "city                0\n",
      "gender              0\n",
      "age                26\n",
      "equity              0\n",
      "balance          2295\n",
      "products            0\n",
      "credit_card         0\n",
      "last_activity       0\n",
      "est_salary          0\n",
      "churn               0\n",
      "dtype: int64\n",
      "Явные дубликаты: 0\n"
     ]
    }
   ],
   "source": [
    "# Проверим количество пропусков и явных дубликатов\n",
    "\n",
    "print('Пропуски:\\n', bank.isna().sum())\n",
    "print('Явные дубликаты:', bank.duplicated().sum())"
   ]
  },
  {
   "cell_type": "code",
   "execution_count": 6,
   "metadata": {},
   "outputs": [
    {
     "name": "stdout",
     "output_type": "stream",
     "text": [
      "Пропуски по возрасту 0.26 %\n",
      "Пропуски по балансу 22.95 %\n"
     ]
    }
   ],
   "source": [
    "age_duplicat = (bank['age'].isnull().sum() / len(bank)) * 100\n",
    "balance_duplicat = (bank['balance'].isnull().sum() / len(bank)) * 100\n",
    "print('Пропуски по возрасту', age_duplicat.round(10), '%')\n",
    "print('Пропуски по балансу', balance_duplicat.round(2), '%')"
   ]
  },
  {
   "cell_type": "code",
   "execution_count": 7,
   "metadata": {},
   "outputs": [
    {
     "data": {
      "text/plain": [
       "age               0\n",
       "balance          10\n",
       "churn            26\n",
       "city             26\n",
       "credit_card      26\n",
       "equity           26\n",
       "est_salary       26\n",
       "gender           26\n",
       "last_activity    26\n",
       "products         26\n",
       "score            26\n",
       "dtype: int64"
      ]
     },
     "execution_count": 7,
     "metadata": {},
     "output_type": "execute_result"
    }
   ],
   "source": [
    "# Посмотрим в каких столбцах преобладает количество пропусков по возрасту\n",
    "\n",
    "age_t = bank.loc[bank['age'].isnull()]\n",
    "age_sum = age_t.pivot_table(index='user_id', aggfunc='count')\n",
    "age_sum.sum()"
   ]
  },
  {
   "cell_type": "code",
   "execution_count": 8,
   "metadata": {},
   "outputs": [
    {
     "data": {
      "text/plain": [
       "user_id             0\n",
       "score               0\n",
       "city                0\n",
       "gender              0\n",
       "age                 0\n",
       "equity              0\n",
       "balance          2279\n",
       "products            0\n",
       "credit_card         0\n",
       "last_activity       0\n",
       "est_salary          0\n",
       "churn               0\n",
       "dtype: int64"
      ]
     },
     "execution_count": 8,
     "metadata": {},
     "output_type": "execute_result"
    }
   ],
   "source": [
    "# Удалим пропуски в стобце возраст\n",
    "\n",
    "bank = bank.dropna(subset=['age'])\n",
    "bank.isna().sum()"
   ]
  },
  {
   "cell_type": "code",
   "execution_count": 9,
   "metadata": {},
   "outputs": [
    {
     "name": "stdout",
     "output_type": "stream",
     "text": [
      "<class 'pandas.core.frame.DataFrame'>\n",
      "Int64Index: 9974 entries, 0 to 9999\n",
      "Data columns (total 12 columns):\n",
      " #   Column         Non-Null Count  Dtype  \n",
      "---  ------         --------------  -----  \n",
      " 0   user_id        9974 non-null   int64  \n",
      " 1   score          9974 non-null   int64  \n",
      " 2   city           9974 non-null   object \n",
      " 3   gender         9974 non-null   object \n",
      " 4   age            9974 non-null   int64  \n",
      " 5   equity         9974 non-null   int64  \n",
      " 6   balance        7695 non-null   float64\n",
      " 7   products       9974 non-null   int64  \n",
      " 8   credit_card    9974 non-null   int64  \n",
      " 9   last_activity  9974 non-null   int64  \n",
      " 10  est_salary     9974 non-null   float64\n",
      " 11  churn          9974 non-null   int64  \n",
      "dtypes: float64(2), int64(8), object(2)\n",
      "memory usage: 1013.0+ KB\n"
     ]
    }
   ],
   "source": [
    "# Приведем столбцы к нужному типу \n",
    "\n",
    "bank['score'] = bank['score'].astype(int)\n",
    "bank['age'] = bank['age'].astype(int)\n",
    "bank.info()"
   ]
  },
  {
   "cell_type": "code",
   "execution_count": 10,
   "metadata": {},
   "outputs": [
    {
     "name": "stdout",
     "output_type": "stream",
     "text": [
      "Количество уникальных значений в столбце user_id: 9924\n",
      "Всего значений в столбце user_id: 9974\n"
     ]
    }
   ],
   "source": [
    "print('Количество уникальных значений в столбце user_id:', bank['user_id'].nunique())\n",
    "print('Всего значений в столбце user_id:', bank['user_id'].count())"
   ]
  },
  {
   "cell_type": "code",
   "execution_count": 11,
   "metadata": {},
   "outputs": [
    {
     "data": {
      "text/html": [
       "<div>\n",
       "<style scoped>\n",
       "    .dataframe tbody tr th:only-of-type {\n",
       "        vertical-align: middle;\n",
       "    }\n",
       "\n",
       "    .dataframe tbody tr th {\n",
       "        vertical-align: top;\n",
       "    }\n",
       "\n",
       "    .dataframe thead th {\n",
       "        text-align: right;\n",
       "    }\n",
       "</style>\n",
       "<table border=\"1\" class=\"dataframe\">\n",
       "  <thead>\n",
       "    <tr style=\"text-align: right;\">\n",
       "      <th></th>\n",
       "      <th>user_id</th>\n",
       "      <th>score</th>\n",
       "      <th>city</th>\n",
       "      <th>gender</th>\n",
       "      <th>age</th>\n",
       "      <th>equity</th>\n",
       "      <th>balance</th>\n",
       "      <th>products</th>\n",
       "      <th>credit_card</th>\n",
       "      <th>last_activity</th>\n",
       "      <th>est_salary</th>\n",
       "      <th>churn</th>\n",
       "    </tr>\n",
       "  </thead>\n",
       "  <tbody>\n",
       "    <tr>\n",
       "      <th>58</th>\n",
       "      <td>164676</td>\n",
       "      <td>860</td>\n",
       "      <td>Ярославль</td>\n",
       "      <td>М</td>\n",
       "      <td>37</td>\n",
       "      <td>5</td>\n",
       "      <td>648594.03</td>\n",
       "      <td>2</td>\n",
       "      <td>1</td>\n",
       "      <td>1</td>\n",
       "      <td>213586.86</td>\n",
       "      <td>1</td>\n",
       "    </tr>\n",
       "    <tr>\n",
       "      <th>150</th>\n",
       "      <td>185748</td>\n",
       "      <td>850</td>\n",
       "      <td>Рыбинск</td>\n",
       "      <td>М</td>\n",
       "      <td>36</td>\n",
       "      <td>5</td>\n",
       "      <td>1203376.67</td>\n",
       "      <td>2</td>\n",
       "      <td>0</td>\n",
       "      <td>1</td>\n",
       "      <td>89401.82</td>\n",
       "      <td>1</td>\n",
       "    </tr>\n",
       "    <tr>\n",
       "      <th>161</th>\n",
       "      <td>197364</td>\n",
       "      <td>928</td>\n",
       "      <td>Рыбинск</td>\n",
       "      <td>Ж</td>\n",
       "      <td>53</td>\n",
       "      <td>6</td>\n",
       "      <td>1347183.86</td>\n",
       "      <td>2</td>\n",
       "      <td>0</td>\n",
       "      <td>1</td>\n",
       "      <td>168189.49</td>\n",
       "      <td>1</td>\n",
       "    </tr>\n",
       "    <tr>\n",
       "      <th>231</th>\n",
       "      <td>190253</td>\n",
       "      <td>823</td>\n",
       "      <td>Рыбинск</td>\n",
       "      <td>М</td>\n",
       "      <td>37</td>\n",
       "      <td>4</td>\n",
       "      <td>373348.39</td>\n",
       "      <td>2</td>\n",
       "      <td>0</td>\n",
       "      <td>1</td>\n",
       "      <td>131947.92</td>\n",
       "      <td>1</td>\n",
       "    </tr>\n",
       "    <tr>\n",
       "      <th>690</th>\n",
       "      <td>152479</td>\n",
       "      <td>768</td>\n",
       "      <td>Рыбинск</td>\n",
       "      <td>Ж</td>\n",
       "      <td>42</td>\n",
       "      <td>0</td>\n",
       "      <td>126787.79</td>\n",
       "      <td>4</td>\n",
       "      <td>1</td>\n",
       "      <td>1</td>\n",
       "      <td>143233.23</td>\n",
       "      <td>1</td>\n",
       "    </tr>\n",
       "    <tr>\n",
       "      <th>...</th>\n",
       "      <td>...</td>\n",
       "      <td>...</td>\n",
       "      <td>...</td>\n",
       "      <td>...</td>\n",
       "      <td>...</td>\n",
       "      <td>...</td>\n",
       "      <td>...</td>\n",
       "      <td>...</td>\n",
       "      <td>...</td>\n",
       "      <td>...</td>\n",
       "      <td>...</td>\n",
       "      <td>...</td>\n",
       "    </tr>\n",
       "    <tr>\n",
       "      <th>9659</th>\n",
       "      <td>195884</td>\n",
       "      <td>767</td>\n",
       "      <td>Рыбинск</td>\n",
       "      <td>Ж</td>\n",
       "      <td>45</td>\n",
       "      <td>1</td>\n",
       "      <td>335652.56</td>\n",
       "      <td>3</td>\n",
       "      <td>1</td>\n",
       "      <td>1</td>\n",
       "      <td>100197.67</td>\n",
       "      <td>0</td>\n",
       "    </tr>\n",
       "    <tr>\n",
       "      <th>9775</th>\n",
       "      <td>124450</td>\n",
       "      <td>758</td>\n",
       "      <td>Рыбинск</td>\n",
       "      <td>Ж</td>\n",
       "      <td>36</td>\n",
       "      <td>0</td>\n",
       "      <td>73574.07</td>\n",
       "      <td>2</td>\n",
       "      <td>0</td>\n",
       "      <td>1</td>\n",
       "      <td>79963.59</td>\n",
       "      <td>0</td>\n",
       "    </tr>\n",
       "    <tr>\n",
       "      <th>9785</th>\n",
       "      <td>168998</td>\n",
       "      <td>895</td>\n",
       "      <td>Рыбинск</td>\n",
       "      <td>М</td>\n",
       "      <td>44</td>\n",
       "      <td>0</td>\n",
       "      <td>282653.53</td>\n",
       "      <td>3</td>\n",
       "      <td>0</td>\n",
       "      <td>0</td>\n",
       "      <td>255296.47</td>\n",
       "      <td>0</td>\n",
       "    </tr>\n",
       "    <tr>\n",
       "      <th>9880</th>\n",
       "      <td>217412</td>\n",
       "      <td>886</td>\n",
       "      <td>Ярославль</td>\n",
       "      <td>Ж</td>\n",
       "      <td>35</td>\n",
       "      <td>3</td>\n",
       "      <td>1026172.14</td>\n",
       "      <td>2</td>\n",
       "      <td>1</td>\n",
       "      <td>0</td>\n",
       "      <td>53099.16</td>\n",
       "      <td>0</td>\n",
       "    </tr>\n",
       "    <tr>\n",
       "      <th>9970</th>\n",
       "      <td>175730</td>\n",
       "      <td>816</td>\n",
       "      <td>Рыбинск</td>\n",
       "      <td>М</td>\n",
       "      <td>36</td>\n",
       "      <td>4</td>\n",
       "      <td>477892.07</td>\n",
       "      <td>3</td>\n",
       "      <td>1</td>\n",
       "      <td>0</td>\n",
       "      <td>81100.60</td>\n",
       "      <td>0</td>\n",
       "    </tr>\n",
       "  </tbody>\n",
       "</table>\n",
       "<p>100 rows × 12 columns</p>\n",
       "</div>"
      ],
      "text/plain": [
       "      user_id  score       city gender  age  equity     balance  products  \\\n",
       "58     164676    860  Ярославль      М   37       5   648594.03         2   \n",
       "150    185748    850    Рыбинск      М   36       5  1203376.67         2   \n",
       "161    197364    928    Рыбинск      Ж   53       6  1347183.86         2   \n",
       "231    190253    823    Рыбинск      М   37       4   373348.39         2   \n",
       "690    152479    768    Рыбинск      Ж   42       0   126787.79         4   \n",
       "...       ...    ...        ...    ...  ...     ...         ...       ...   \n",
       "9659   195884    767    Рыбинск      Ж   45       1   335652.56         3   \n",
       "9775   124450    758    Рыбинск      Ж   36       0    73574.07         2   \n",
       "9785   168998    895    Рыбинск      М   44       0   282653.53         3   \n",
       "9880   217412    886  Ярославль      Ж   35       3  1026172.14         2   \n",
       "9970   175730    816    Рыбинск      М   36       4   477892.07         3   \n",
       "\n",
       "      credit_card  last_activity  est_salary  churn  \n",
       "58              1              1   213586.86      1  \n",
       "150             0              1    89401.82      1  \n",
       "161             0              1   168189.49      1  \n",
       "231             0              1   131947.92      1  \n",
       "690             1              1   143233.23      1  \n",
       "...           ...            ...         ...    ...  \n",
       "9659            1              1   100197.67      0  \n",
       "9775            0              1    79963.59      0  \n",
       "9785            0              0   255296.47      0  \n",
       "9880            1              0    53099.16      0  \n",
       "9970            1              0    81100.60      0  \n",
       "\n",
       "[100 rows x 12 columns]"
      ]
     },
     "execution_count": 11,
     "metadata": {},
     "output_type": "execute_result"
    }
   ],
   "source": [
    "# Выведем клиентов у которых одинаковое id\n",
    "\n",
    "user_dubl = bank[bank.duplicated(['user_id'], keep=False)]\n",
    "user_dubl"
   ]
  },
  {
   "cell_type": "markdown",
   "metadata": {},
   "source": [
    "**Промежуточный вывод:** Привела данные к нужному типу. Явных дубликатов не обнаружила. Нашла 50 клиентов у которых одинаковое id, но разные данные, что позволяет мне сделать вывод, что при сборе данных была сделана ошибка. Так же удалила пропуски по возрасту, тк их было всего ничего, это не повлияет на ход исследования. Обнаружила достаточно большое количество пропусков в столбце баланс, скорее всего ошибка так же при сборе данных."
   ]
  },
  {
   "cell_type": "markdown",
   "metadata": {},
   "source": [
    "## Анализ данных"
   ]
  },
  {
   "cell_type": "code",
   "execution_count": 11,
   "metadata": {},
   "outputs": [
    {
     "name": "stdout",
     "output_type": "stream",
     "text": [
      "Всего клиентов ушло: 1819 это 18.2 %\n",
      "Всего клиентов осталось: 8155 это 81.8 %\n"
     ]
    }
   ],
   "source": [
    "# Посмотрим сколько всего клиентов ушло а сколько осталось \n",
    "\n",
    "churn_1 = bank[bank['churn'] == 1]['user_id'].count()\n",
    "churn_0 = bank['user_id'].count() - churn_1\n",
    "churn_sum = churn_1 + churn_0\n",
    "percent_churn_1 = churn_1 * 100 / churn_sum\n",
    "percent_churn_0 = churn_0 * 100 / churn_sum\n",
    "print('Всего клиентов ушло:', churn_1, 'это', percent_churn_1.round(1),'%')\n",
    "print('Всего клиентов осталось:', churn_0,'это', percent_churn_0.round(1),'%')"
   ]
  },
  {
   "cell_type": "code",
   "execution_count": 12,
   "metadata": {},
   "outputs": [
    {
     "data": {
      "image/png": "[encoded data removed]",
      "text/plain": [
       "<Figure size 432x288 with 1 Axes>"
      ]
     },
     "metadata": {
      "needs_background": "light"
     },
     "output_type": "display_data"
    }
   ],
   "source": [
    "# Построим график общего оттока клиентов\n",
    "y = ['Ушли', 'Остались']\n",
    "x = [percent_churn_1, percent_churn_0]\n",
    "\n",
    "plt.ylabel('Проценты')\n",
    "plt.title('Отток клиентов')\n",
    "\n",
    "plt.bar(y, x, color='#E1AEFF')\n",
    "plt.show()"
   ]
  },
  {
   "cell_type": "markdown",
   "metadata": {},
   "source": [
    "**Промежуточный вывод:** Всего клиентов которые ушли 1819 это 18.2%, от общего колличества."
   ]
  },
  {
   "cell_type": "markdown",
   "metadata": {},
   "source": [
    "### Как разные сегменты связаны с оттоком клиентов?"
   ]
  },
  {
   "cell_type": "code",
   "execution_count": 13,
   "metadata": {},
   "outputs": [
    {
     "data": {
      "text/html": [
       "<div>\n",
       "<style scoped>\n",
       "    .dataframe tbody tr th:only-of-type {\n",
       "        vertical-align: middle;\n",
       "    }\n",
       "\n",
       "    .dataframe tbody tr th {\n",
       "        vertical-align: top;\n",
       "    }\n",
       "\n",
       "    .dataframe thead th {\n",
       "        text-align: right;\n",
       "    }\n",
       "</style>\n",
       "<table border=\"1\" class=\"dataframe\">\n",
       "  <thead>\n",
       "    <tr style=\"text-align: right;\">\n",
       "      <th>churn</th>\n",
       "      <th>0</th>\n",
       "      <th>1</th>\n",
       "    </tr>\n",
       "  </thead>\n",
       "  <tbody>\n",
       "    <tr>\n",
       "      <th>user_id</th>\n",
       "      <td>171928.1</td>\n",
       "      <td>170980.1</td>\n",
       "    </tr>\n",
       "    <tr>\n",
       "      <th>score</th>\n",
       "      <td>845.4</td>\n",
       "      <td>863.4</td>\n",
       "    </tr>\n",
       "    <tr>\n",
       "      <th>age</th>\n",
       "      <td>43.0</td>\n",
       "      <td>41.5</td>\n",
       "    </tr>\n",
       "    <tr>\n",
       "      <th>equity</th>\n",
       "      <td>2.4</td>\n",
       "      <td>3.8</td>\n",
       "    </tr>\n",
       "    <tr>\n",
       "      <th>balance</th>\n",
       "      <td>733031.6</td>\n",
       "      <td>1134458.2</td>\n",
       "    </tr>\n",
       "    <tr>\n",
       "      <th>products</th>\n",
       "      <td>1.8</td>\n",
       "      <td>2.4</td>\n",
       "    </tr>\n",
       "    <tr>\n",
       "      <th>credit_card</th>\n",
       "      <td>0.7</td>\n",
       "      <td>0.6</td>\n",
       "    </tr>\n",
       "    <tr>\n",
       "      <th>last_activity</th>\n",
       "      <td>0.5</td>\n",
       "      <td>0.7</td>\n",
       "    </tr>\n",
       "    <tr>\n",
       "      <th>est_salary</th>\n",
       "      <td>147674.6</td>\n",
       "      <td>148289.7</td>\n",
       "    </tr>\n",
       "  </tbody>\n",
       "</table>\n",
       "</div>"
      ],
      "text/plain": [
       "churn                 0          1\n",
       "user_id        171928.1   170980.1\n",
       "score             845.4      863.4\n",
       "age                43.0       41.5\n",
       "equity              2.4        3.8\n",
       "balance        733031.6  1134458.2\n",
       "products            1.8        2.4\n",
       "credit_card         0.7        0.6\n",
       "last_activity       0.5        0.7\n",
       "est_salary     147674.6   148289.7"
      ]
     },
     "execution_count": 13,
     "metadata": {},
     "output_type": "execute_result"
    }
   ],
   "source": [
    "# Постоим таблицу как средние значения по столбцам распределяются между теми клиентами кто ушел, а кто остался \n",
    "\n",
    "bank.groupby('churn').agg('mean').round(1).T"
   ]
  },
  {
   "cell_type": "markdown",
   "metadata": {},
   "source": []
  },
  {
   "cell_type": "code",
   "execution_count": 14,
   "metadata": {},
   "outputs": [
    {
     "data": {
      "image/png": "[encoded data removed]",
      "text/plain": [
       "<Figure size 720x432 with 1 Axes>"
      ]
     },
     "metadata": {
      "needs_background": "light"
     },
     "output_type": "display_data"
    },
    {
     "data": {
      "image/png": "[encoded data removed]",
      "text/plain": [
       "<Figure size 720x432 with 1 Axes>"
      ]
     },
     "metadata": {
      "needs_background": "light"
     },
     "output_type": "display_data"
    }
   ],
   "source": [
    "# Построим график оттока по городам\n",
    "\n",
    "churn_city = bank.groupby('city')['churn'].value_counts(normalize=True) * 100\n",
    "\n",
    "fig, ax = plt.subplots(figsize=(10, 6))\n",
    "colors = [\"pink\", '#E1AEFF'] \n",
    "churn_city.unstack().plot(kind='bar', stacked=True, color=colors, ax=ax)\n",
    "\n",
    "ax.set_xlabel('Город')\n",
    "ax.set_ylabel('Проценты')\n",
    "ax.set_title('Отток по городам')\n",
    "ax.legend(title='Churn')\n",
    "\n",
    "for p in ax.patches:\n",
    "    width, height = p.get_width(), p.get_height()\n",
    "    x, y = p.get_xy()\n",
    "    ax.annotate(f'{height:.1f}%', (x + width/2, y + height), ha='center', va='bottom')\n",
    "\n",
    "    plt.xticks(rotation=0)\n",
    "plt.legend(['Остались', 'Ушли'])\n",
    "plt.show()\n",
    "\n",
    "# Построим график распределения клиентов по городам \n",
    "\n",
    "plt.figure(figsize=(10, 6))\n",
    "plt.hist(bank['city'], bins=5, color='#E1AEFF')\n",
    "plt.xlabel('Город')\n",
    "plt.ylabel('Количество клиентов')\n",
    "plt.title('Распределение клиентов по городам')\n",
    "\n",
    "plt.show()"
   ]
  },
  {
   "cell_type": "markdown",
   "metadata": {},
   "source": [
    "**Промежуточный вывод:** Отток клиентов по городам не сильно различается, по сколько Ярославль достаточно большой город, в нем самый большой отток из за большей выборки 19,0%. Рыбинск занимает второе место и по количеству клиентов, но отток там самый маленкий 16,3%. Третье место, по количеству клиентов, занимает Ростов, по оттоку он находится на втором месте."
   ]
  },
  {
   "cell_type": "code",
   "execution_count": 15,
   "metadata": {},
   "outputs": [
    {
     "data": {
      "image/png": "[encoded data removed]",
      "text/plain": [
       "<Figure size 720x432 with 1 Axes>"
      ]
     },
     "metadata": {
      "needs_background": "light"
     },
     "output_type": "display_data"
    },
    {
     "data": {
      "image/png": "[encoded data removed]",
      "text/plain": [
       "<Figure size 720x432 with 1 Axes>"
      ]
     },
     "metadata": {
      "needs_background": "light"
     },
     "output_type": "display_data"
    }
   ],
   "source": [
    "# Построим график оттока по гендеру\n",
    "\n",
    "churn_gender = bank.groupby('gender')['churn'].value_counts(normalize=True) * 100\n",
    "\n",
    "fig, ax = plt.subplots(figsize=(10, 6))\n",
    "colors = [\"pink\", '#E1AEFF'] \n",
    "churn_gender.unstack().plot(kind='bar', stacked=True, color=colors, ax=ax)\n",
    "\n",
    "ax.set_xlabel('Гендер')\n",
    "ax.set_ylabel('Проценты')\n",
    "ax.set_title('Отток по гендеру')\n",
    "ax.legend(title='Churn')\n",
    "\n",
    "for p in ax.patches:\n",
    "    width, height = p.get_width(), p.get_height()\n",
    "    x, y = p.get_xy()\n",
    "    ax.annotate(f'{height:.1f}%', (x + width/2, y + height), ha='center', va='bottom')\n",
    "\n",
    "plt.legend(['Остались', 'Ушли'])\n",
    "plt.xticks(rotation=0)\n",
    "plt.show()\n",
    "\n",
    "# Построим график распределения клиентов по гендеру\n",
    "\n",
    "plt.figure(figsize=(10, 6))\n",
    "plt.hist(bank['gender'], bins=3, color='#E1AEFF')\n",
    "plt.xlabel('Гендер')\n",
    "plt.ylabel('Количество клиентов')\n",
    "plt.title('Распределение клиентов по гендеру')\n",
    "\n",
    "plt.show()"
   ]
  },
  {
   "cell_type": "code",
   "execution_count": 16,
   "metadata": {},
   "outputs": [
    {
     "data": {
      "image/png": "[encoded data removed]",
      "text/plain": [
       "<Figure size 720x432 with 1 Axes>"
      ]
     },
     "metadata": {
      "needs_background": "light"
     },
     "output_type": "display_data"
    }
   ],
   "source": [
    "\n",
    "\n",
    "plt.figure(figsize=(10, 6))\n",
    "sns.barplot(data=bank, x='gender', y='churn', color='pink')\n",
    "plt.axhline(y=bank['churn'].mean(), color='red', linestyle='--', label='Средний отток')\n",
    "plt.xlabel('Гендер')\n",
    "plt.ylabel('Уровень оттока')\n",
    "plt.title('Уровень оттока по гендеру')\n",
    "plt.legend()\n",
    "plt.grid(True)\n",
    "\n",
    "plt.show()"
   ]
  },
  {
   "cell_type": "markdown",
   "metadata": {},
   "source": [
    "**Промежуточный вывод:** Клиентов мужского и женского пола одинаковое количество. При этом клиенты мужского уходят чаще (23,7%), чем клиенты женского пола (12,8%)"
   ]
  },
  {
   "cell_type": "code",
   "execution_count": 17,
   "metadata": {},
   "outputs": [
    {
     "data": {
      "image/png": "[encoded data removed]",
      "text/plain": [
       "<Figure size 720x432 with 1 Axes>"
      ]
     },
     "metadata": {
      "needs_background": "light"
     },
     "output_type": "display_data"
    },
    {
     "data": {
      "image/png": "[encoded data removed]",
      "text/plain": [
       "<Figure size 720x432 with 1 Axes>"
      ]
     },
     "metadata": {
      "needs_background": "light"
     },
     "output_type": "display_data"
    }
   ],
   "source": [
    "# Построим график оттока по возрасту \n",
    "\n",
    "churn_age = bank.groupby('age')['churn'].sum()\n",
    "churn_age_0 = bank.groupby('age')['churn'].apply(lambda x: (x==0).sum())\n",
    "\n",
    "plt.figure(figsize=(10, 6))\n",
    "plt.bar(churn_age.index, churn_age.values, label='Ушли', color='#E1AEFF')\n",
    "plt.bar(churn_age_0.index, churn_age_0.values, label='Остались', color=\"pink\", alpha=0.5)\n",
    "plt.xlabel('Возраст')\n",
    "plt.ylabel('Количество клиентов')\n",
    "plt.title('Отток по возрасту')\n",
    "plt.legend()\n",
    "plt.grid(True)\n",
    "\n",
    "plt.show()\n",
    "\n",
    "# Построим график распределения клиентов по возрасту\n",
    "\n",
    "plt.figure(figsize=(10, 6))\n",
    "plt.hist(bank['age'], bins=60, color='#E1AEFF')\n",
    "plt.xlabel('Возраст')\n",
    "plt.ylabel('Количество клиентов')\n",
    "plt.title('Распределение клиентов по возрасту')\n",
    "\n",
    "plt.show()"
   ]
  },
  {
   "cell_type": "markdown",
   "metadata": {},
   "source": [
    "**Промежуточный вывод:** Клиенты по возрасту рапределены не равномерно, больше всего клиентов от 30 до 40 лет, меньше всего клиентов от 70 до 90 лет. Самый высокий отток так же наблюдается в возрастной группе 30-40 лет, 40-50 лет отток немного падает, после чего снова возрастает в группе 50-60 лет, но уже не так сильно как в группе 30-40."
   ]
  },
  {
   "cell_type": "code",
   "execution_count": 18,
   "metadata": {},
   "outputs": [
    {
     "data": {
      "image/png": "[encoded data removed]",
      "text/plain": [
       "<Figure size 720x432 with 1 Axes>"
      ]
     },
     "metadata": {
      "needs_background": "light"
     },
     "output_type": "display_data"
    }
   ],
   "source": [
    "# Построим график по оттоку количества баллов собственности \n",
    "\n",
    "churn_equity = bank.groupby('equity')['churn'].value_counts(normalize=True) * 100\n",
    "\n",
    "fig, ax = plt.subplots(figsize=(10, 6))\n",
    "colors = [\"pink\", '#E1AEFF'] \n",
    "churn_equity.unstack().plot(kind='bar', stacked=True, color=colors, ax=ax)\n",
    "\n",
    "ax.set_xlabel('Количество баллов в собственности')\n",
    "ax.set_ylabel('Проценты')\n",
    "ax.set_title('Отток по количеству баллов в собственности')\n",
    "ax.legend(title='Churn')\n",
    "\n",
    "for p in ax.patches:\n",
    "    width, height = p.get_width(), p.get_height()\n",
    "    x, y = p.get_xy()\n",
    "    ax.annotate(f'{height:.1f}%', (x + width/2, y + height), ha='center', va='bottom')\n",
    "\n",
    "plt.legend(['Остались', 'Ушли'])\n",
    "plt.xticks(rotation=0)\n",
    "plt.show()"
   ]
  },
  {
   "cell_type": "markdown",
   "metadata": {},
   "source": [
    "**Промежуточный вывод:** Самый большой отток у клиентов которые имеют 9 баллов в собственности(53,8%). Второе место, 7 баллов - 46,3%. Третье место, 6 баллов - 36,0%"
   ]
  },
  {
   "cell_type": "code",
   "execution_count": 19,
   "metadata": {},
   "outputs": [
    {
     "data": {
      "image/png": "[encoded data removed]",
      "text/plain": [
       "<Figure size 720x432 with 1 Axes>"
      ]
     },
     "metadata": {
      "needs_background": "light"
     },
     "output_type": "display_data"
    }
   ],
   "source": [
    "# Построим график по количеству продуктов\n",
    "\n",
    "churn_products = bank.groupby('products')['churn'].value_counts(normalize=True) * 100\n",
    "\n",
    "fig, ax = plt.subplots(figsize=(10, 6))\n",
    "colors = [\"pink\", '#E1AEFF'] \n",
    "churn_products.unstack().plot(kind='bar', stacked=True, color=colors, ax=ax)\n",
    "\n",
    "ax.set_xlabel('Количество используемых продуктов')\n",
    "ax.set_ylabel('Проценты')\n",
    "ax.set_title('Отток по количеству продуктов')\n",
    "ax.legend(title='Churn')\n",
    "\n",
    "for p in ax.patches:\n",
    "    width, height = p.get_width(), p.get_height()\n",
    "    x, y = p.get_xy()\n",
    "    ax.annotate(f'{height:.1f}%', (x + width/2, y + height), ha='center', va='bottom')\n",
    "\n",
    "plt.legend(['Остались', 'Ушли'])\n",
    "plt.xticks(rotation=0)\n",
    "plt.show()"
   ]
  },
  {
   "cell_type": "markdown",
   "metadata": {},
   "source": [
    "**Промежуточный вывод:** 100% пользователей, кторые не используют продукты банка уходят, так же 63,3% процента клиентов использующих 4 продукта склонны к оттоку."
   ]
  },
  {
   "cell_type": "code",
   "execution_count": 20,
   "metadata": {},
   "outputs": [
    {
     "data": {
      "image/png": "[encoded data removed]",
      "text/plain": [
       "<Figure size 720x432 with 1 Axes>"
      ]
     },
     "metadata": {
      "needs_background": "light"
     },
     "output_type": "display_data"
    }
   ],
   "source": [
    "# Построим график оттока по баллам кредитного скоринга\n",
    "\n",
    "churn_score = bank.groupby('score')['churn'].sum()\n",
    "churn_score_0 = bank.groupby('score')['churn'].apply(lambda x: (x==0).sum())\n",
    "\n",
    "plt.figure(figsize=(10, 6))\n",
    "plt.bar(churn_score.index, churn_score.values, label='Ушли', color='#E1AEFF')\n",
    "plt.bar(churn_score_0.index, churn_score_0.values, label='Остались', color=\"pink\", alpha=0.5)\n",
    "plt.xlabel('Баллы кредитного скоринга')\n",
    "plt.ylabel('Количество клиентов')\n",
    "plt.title('Отток по баллам кредитного скоринга')\n",
    "plt.legend()\n",
    "plt.grid(True)\n",
    "\n",
    "plt.show()"
   ]
  },
  {
   "cell_type": "markdown",
   "metadata": {},
   "source": [
    "**Промежуточный вывод:** Чаще уходят клиенты, которые имеют баллы кредитного скоринга от 850  до 900. Меньне всего уходят клиенты у которых баллы от 600 до 750 и 950 до 1000.  "
   ]
  },
  {
   "cell_type": "code",
   "execution_count": 21,
   "metadata": {},
   "outputs": [
    {
     "data": {
      "image/png": "[encoded data removed]",
      "text/plain": [
       "<Figure size 720x432 with 1 Axes>"
      ]
     },
     "metadata": {
      "needs_background": "light"
     },
     "output_type": "display_data"
    },
    {
     "data": {
      "image/png": "[encoded data removed]",
      "text/plain": [
       "<Figure size 720x432 with 1 Axes>"
      ]
     },
     "metadata": {
      "needs_background": "light"
     },
     "output_type": "display_data"
    }
   ],
   "source": [
    "# Построим график оттока по зарплате клиента\n",
    "\n",
    "churn_salary_0 = bank[bank['churn'] == 0]['est_salary']\n",
    "churn_salary = bank[bank['churn'] == 1]['est_salary']\n",
    "\n",
    "plt.figure(figsize=(10, 6))\n",
    "sns.kdeplot(churn_salary_0, color='pink', label='Остались')\n",
    "sns.kdeplot(churn_salary, color='blue', label='Ушли')\n",
    "\n",
    "plt.xlabel('Зарплата')\n",
    "plt.ylabel('Плотность распределения')\n",
    "plt.title('Отток по зарплате клиента')\n",
    "plt.legend()\n",
    "\n",
    "plt.show()\n",
    "\n",
    "plt.figure(figsize=(10, 6))\n",
    "sns.histplot(bank.query('churn == 0')['est_salary'], color='pink',stat='density', common_norm=False, label='Остались')\n",
    "sns.histplot(bank.query('churn == 1')['est_salary'], color='#E1AEFF',stat='density', common_norm=False, label='Ушли')\n",
    "plt.xlim(right=0.6e6)\n",
    "plt.xlim(left=0)\n",
    "plt.legend()\n",
    "plt.show()"
   ]
  },
  {
   "cell_type": "code",
   "execution_count": 22,
   "metadata": {},
   "outputs": [
    {
     "name": "stdout",
     "output_type": "stream",
     "text": [
      "Процент неоттока: 39.35\n",
      "Процент оттока: 60.65\n"
     ]
    }
   ],
   "source": [
    "bank['churn_client'] = np.where(bank['est_salary'] < 100000, 'Неотток', 'Отток')\n",
    "\n",
    "total = len(bank)\n",
    "\n",
    "percent = bank['churn_client'].value_counts() / total * 100\n",
    "\n",
    "print('Процент неоттока:', percent['Неотток'].round(2))\n",
    "print('Процент оттока:', percent['Отток'].round(2))"
   ]
  },
  {
   "cell_type": "markdown",
   "metadata": {},
   "source": [
    "**Промежуточный вывод:** Клиенты у которых зарплата больше 100000 уходят чаще. Процент оттока 60.65"
   ]
  },
  {
   "cell_type": "code",
   "execution_count": 23,
   "metadata": {},
   "outputs": [
    {
     "data": {
      "image/png": "[encoded data removed]",
      "text/plain": [
       "<Figure size 720x432 with 1 Axes>"
      ]
     },
     "metadata": {
      "needs_background": "light"
     },
     "output_type": "display_data"
    },
    {
     "data": {
      "image/png": "[encoded data removed]",
      "text/plain": [
       "<Figure size 720x432 with 1 Axes>"
      ]
     },
     "metadata": {
      "needs_background": "light"
     },
     "output_type": "display_data"
    }
   ],
   "source": [
    "# Построим график оттока по балансу\n",
    "\n",
    "churn_balance_0 = bank[bank['churn'] == 0]['balance']\n",
    "churn_balance = bank[bank['churn'] == 1]['balance']\n",
    "\n",
    "plt.figure(figsize=(10, 6))\n",
    "sns.kdeplot(churn_balance_0, color='pink', label='Остались')\n",
    "sns.kdeplot(churn_balance, color='blue', label='Ушли')\n",
    "\n",
    "plt.xlabel('Баланс')\n",
    "plt.ylabel('Плотность распределения')\n",
    "plt.title('Отток клиентов по балансу')\n",
    "plt.legend()\n",
    "\n",
    "plt.show()\n",
    "\n",
    "plt.figure(figsize=(10, 6))\n",
    "sns.histplot(bank.query('churn == 0')['balance'], color='pink', stat='density', common_norm=False, label='Остались')\n",
    "sns.histplot(bank.query('churn == 1')['balance'], color='#E1AEFF', stat='density', common_norm=False, label='Ушли')\n",
    "plt.xlim(right=3e6)\n",
    "plt.xlim(left=0)\n",
    "plt.legend()\n",
    "plt.show()"
   ]
  },
  {
   "cell_type": "code",
   "execution_count": 24,
   "metadata": {},
   "outputs": [
    {
     "name": "stdout",
     "output_type": "stream",
     "text": [
      "Процент неоттока: 3.86\n",
      "Процент оттока: 96.14\n"
     ]
    }
   ],
   "source": [
    "bank['churn_client_balance'] = np.where(bank['balance'] < 100000, 'Неотток', 'Отток')\n",
    "\n",
    "total_clients = len(bank)\n",
    "\n",
    "churn_percent = bank['churn_client_balance'].value_counts() / total_clients * 100\n",
    "\n",
    "print('Процент неоттока:', churn_percent['Неотток'].round(2))\n",
    "print('Процент оттока:', churn_percent['Отток'].round(2))"
   ]
  },
  {
   "cell_type": "markdown",
   "metadata": {},
   "source": [
    "**Промежуточный вывод:** клиенты, у которых на счету больше 1000000 уходят чаще. Процент оттока 96.14"
   ]
  },
  {
   "cell_type": "code",
   "execution_count": 25,
   "metadata": {},
   "outputs": [
    {
     "data": {
      "image/png": "[encoded data removed]",
      "text/plain": [
       "<Figure size 720x432 with 1 Axes>"
      ]
     },
     "metadata": {
      "needs_background": "light"
     },
     "output_type": "display_data"
    }
   ],
   "source": [
    "# Построим график оттока по наличию кредитной карты\n",
    "bank['credit_card_1'] = bank['credit_card'].replace({1: 'Нет', 0: 'Да'})\n",
    "\n",
    "churn_credit_card = bank.groupby('credit_card_1')['churn'].value_counts(normalize=True) * 100\n",
    "\n",
    "fig, ax = plt.subplots(figsize=(10, 6))\n",
    "colors = [\"pink\", '#E1AEFF'] \n",
    "churn_credit_card.unstack().plot(kind='bar', stacked=True, color=colors, ax=ax)\n",
    "\n",
    "ax.set_xlabel('Кредитная карта')\n",
    "ax.set_ylabel('Проценты')\n",
    "ax.set_title('Отток наличию кредитной карты')\n",
    "ax.legend(title='Churn')\n",
    "\n",
    "for p in ax.patches:\n",
    "    width, height = p.get_width(), p.get_height()\n",
    "    x, y = p.get_xy()\n",
    "    ax.annotate(f'{height:.1f}%', (x + width/2, y + height), ha='center', va='bottom')\n",
    "\n",
    "plt.legend(['Остались', 'Ушли'])\n",
    "plt.xticks(rotation=0)\n",
    "plt.show()"
   ]
  },
  {
   "cell_type": "markdown",
   "metadata": {},
   "source": [
    "**Промежуточный вывод:** Те, у кого есть кредитная карта уходят чаще (25,6%)."
   ]
  },
  {
   "cell_type": "code",
   "execution_count": 26,
   "metadata": {},
   "outputs": [
    {
     "data": {
      "image/png": "[encoded data removed]",
      "text/plain": [
       "<Figure size 720x432 with 1 Axes>"
      ]
     },
     "metadata": {
      "needs_background": "light"
     },
     "output_type": "display_data"
    }
   ],
   "source": [
    "# Построим график оттока по активности клиента\n",
    "bank['last_activity_1'] = bank['last_activity'].replace({1: 'Не активный', 0: 'Активный'})\n",
    "\n",
    "churn_last_activity = bank.groupby('last_activity_1')['churn'].value_counts(normalize=True) * 100\n",
    "\n",
    "fig, ax = plt.subplots(figsize=(10, 6))\n",
    "colors = [\"pink\", '#E1AEFF'] \n",
    "churn_last_activity.unstack().plot(kind='bar', stacked=True, color=colors, ax=ax)\n",
    "\n",
    "ax.set_xlabel('Активность клиента')\n",
    "ax.set_ylabel('Проценты')\n",
    "ax.set_title('Отток по активности клиента')\n",
    "ax.legend(title='Churn')\n",
    "\n",
    "for p in ax.patches:\n",
    "    width, height = p.get_width(), p.get_height()\n",
    "    x, y = p.get_xy()\n",
    "    ax.annotate(f'{height:.1f}%', (x + width/2, y + height), ha='center', va='bottom')\n",
    "\n",
    "plt.legend(['Остались', 'Ушли'])\n",
    "plt.xticks(rotation=0)\n",
    "plt.show()"
   ]
  },
  {
   "cell_type": "markdown",
   "metadata": {},
   "source": [
    "**Промежуточный вывод:** Не активные клиенты уходят чаще (24,5%)"
   ]
  },
  {
   "cell_type": "code",
   "execution_count": 34,
   "metadata": {},
   "outputs": [
    {
     "data": {
      "image/png": "[encoded data removed]",
      "text/plain": [
       "<Figure size 864x288 with 2 Axes>"
      ]
     },
     "metadata": {
      "needs_background": "light"
     },
     "output_type": "display_data"
    }
   ],
   "source": [
    "# Смотрим пару показателей пол-возраст\n",
    "plt.figure(figsize=(12, 4))\n",
    "sns.heatmap(bank.assign(\n",
    "                age = bank.age.round(-1))\\\n",
    "            .pivot_table(\n",
    "                index='age',\n",
    "                columns='gender',\n",
    "                values='churn',\n",
    "                aggfunc='mean'), \n",
    "            cmap='Oranges', annot=True, fmt='.1%',vmin=0, vmax=1)\n",
    "plt.title('Уровень оттока по полу и возрасту')\n",
    "plt.show()"
   ]
  },
  {
   "cell_type": "markdown",
   "metadata": {},
   "source": [
    "### Матрица корреляции"
   ]
  },
  {
   "cell_type": "code",
   "execution_count": 27,
   "metadata": {},
   "outputs": [],
   "source": [
    "#bank['gender'] = bank['gender'].map({'М':1, 'Ж':0})\n",
    "#bank['city_1'] = bank['city'].map({'Ярославль':0, 'Рыбинск':1, 'Ростов':2})\n",
    "bank_1 = pd.get_dummies(bank)"
   ]
  },
  {
   "cell_type": "code",
   "execution_count": 28,
   "metadata": {},
   "outputs": [
    {
     "data": {
      "image/png": "[encoded data removed]",
      "text/plain": [
       "<Figure size 1080x1080 with 2 Axes>"
      ]
     },
     "metadata": {
      "needs_background": "light"
     },
     "output_type": "display_data"
    }
   ],
   "source": [
    "#corr_m = bank.drop(['user_id', 'city_1'], axis=1).corr()\n",
    "\n",
    "plt.figure(figsize = (15,15))\n",
    "sns.heatmap(bank_1.corr(), square=True, vmax=0.8, annot = True)\n",
    "\n",
    "plt.show()\n"
   ]
  },
  {
   "cell_type": "markdown",
   "metadata": {},
   "source": [
    "**Промежуточный вывод:** Высокая корреляция обратной свяи (-0.73) наблюдается у связи Рыбинск - Ярославль, так же умеренная (-0.49) у связи Ярославь - Ростов, у связи продукты и количество баллов в собственности(0.43), баланс - зарплата(0.34). Во всех остальных сегментах слабая корреляция."
   ]
  },
  {
   "cell_type": "markdown",
   "metadata": {},
   "source": [
    "## Проверка гипотез "
   ]
  },
  {
   "cell_type": "markdown",
   "metadata": {},
   "source": [
    "### Проверка гипотезы различия дохода между теми клиентами, которые ушли и теми, которые остались."
   ]
  },
  {
   "cell_type": "markdown",
   "metadata": {},
   "source": [
    "- **Нулевая:** Различий в среднем доходе между клиентами, которые остались, и клиентами, которые ушли, нет\n",
    "- **Альтернативная:** Средний доход различается между клиентами, которые остались, и клиентами, которые ушли"
   ]
  },
  {
   "cell_type": "markdown",
   "metadata": {},
   "source": [
    "Критический уровень статистической значимости alpha = 0.05"
   ]
  },
  {
   "cell_type": "code",
   "execution_count": 29,
   "metadata": {},
   "outputs": [],
   "source": [
    "alpha = 0.05 "
   ]
  },
  {
   "cell_type": "code",
   "execution_count": 30,
   "metadata": {},
   "outputs": [
    {
     "name": "stdout",
     "output_type": "stream",
     "text": [
      "p-значение: 0.8647861589211189\n",
      "Не получилось отвергнуть нулевую гипотезу\n"
     ]
    }
   ],
   "source": [
    "array1 = bank.loc[bank['churn'] == 0, 'est_salary']\n",
    "array2 = bank.loc[bank['churn'] == 1, 'est_salary']\n",
    "\n",
    "results = st.ttest_ind(array1, array2)\n",
    "\n",
    "print('p-значение:', results.pvalue)\n",
    "\n",
    "if (results.pvalue < alpha):\n",
    "    print(\"Отвергаем нулевую гипотезу\")\n",
    "else:\n",
    "    print(\"Не получилось отвергнуть нулевую гипотезу\")"
   ]
  },
  {
   "cell_type": "markdown",
   "metadata": {},
   "source": [
    "**Промежуточный вывод:** Различий в среднем доходе между клиентами, которые остались, и клиентами, которые ушли, нет"
   ]
  },
  {
   "cell_type": "markdown",
   "metadata": {},
   "source": [
    "### Проверка гипотезы влияния пола на отток клиентов"
   ]
  },
  {
   "cell_type": "markdown",
   "metadata": {},
   "source": [
    "- **Нулевая:** Средний отток у межчин и женщин одинаковый\n",
    "- **Альтернативная:** Средний отток у межчин и женщин разный"
   ]
  },
  {
   "cell_type": "markdown",
   "metadata": {},
   "source": [
    "Критический уровень статистической значимости alpha = 0.05"
   ]
  },
  {
   "cell_type": "code",
   "execution_count": 31,
   "metadata": {},
   "outputs": [
    {
     "name": "stdout",
     "output_type": "stream",
     "text": [
      "p-значение: 7.29429008630903e-46\n",
      "Отвергаем нулевую гипотезу\n"
     ]
    }
   ],
   "source": [
    "bank['gender'] = bank['gender'].map({'М':1, 'Ж':0})\n",
    "\n",
    "array3 = bank.loc[bank['gender'] == 0, 'churn']   \n",
    "array4 = bank.loc[bank['gender'] == 1, 'churn']\n",
    "        \n",
    "\n",
    "results = st.ttest_ind(array3, array4)\n",
    "    \n",
    "print('p-значение:', results.pvalue)\n",
    "    \n",
    "if (results.pvalue < alpha):\n",
    "    print(\"Отвергаем нулевую гипотезу\")\n",
    "else:\n",
    "    print(\"Не получилось отвергнуть нулевую гипотезу\")"
   ]
  },
  {
   "cell_type": "markdown",
   "metadata": {},
   "source": [
    "**Промежуточный вывод:** средний отток у мужчин и женщин разный "
   ]
  },
  {
   "cell_type": "markdown",
   "metadata": {},
   "source": [
    "В обоих гипотезах выборки достаточно большие и независимые, поэтому мы можем использовать критерий Стьюдента"
   ]
  },
  {
   "cell_type": "code",
   "execution_count": 32,
   "metadata": {},
   "outputs": [],
   "source": [
    "columns = ['Профиль клиента', 'Город', 'Пол', 'Возраст', 'Баллы в собственности', 'Количество продуктов', 'Скоринг', 'Зарплата', 'Баланс', 'Кредитная карта', ' Активность клиента']\n",
    "df = pd.DataFrame(columns=columns)\n",
    "df.loc[0] = ['Отточный', 'Ростов', 'Мужской', '30-40 лет', '6-9', '0 и больше 4', '850-900', 'Больше 100000', 'Больше 100000', 'Есть', 'Не активный']\n",
    "df.loc[1] = ['Неотточный', 'Рыбинск', 'Женский', '40-50 лет', '0-5', '1-3', '600-750, 950-1000', 'До 100000', 'До 100000', 'Нет', 'Активный']"
   ]
  },
  {
   "cell_type": "markdown",
   "metadata": {},
   "source": [
    "## Выводы и рекомендации"
   ]
  },
  {
   "cell_type": "markdown",
   "metadata": {},
   "source": [
    "Всего клиентов 9974,ушли из них 1819 это 18.2%"
   ]
  },
  {
   "cell_type": "markdown",
   "metadata": {},
   "source": [
    "**Профиль клиента, который ушел:**\n",
    "- Город - Ростов (отток - 18.7%)\n",
    "- Пол - Мужской (отток - 23.7%)\n",
    "- Возраст от 30 до 40 лет\n",
    "- Имееет больше 6 баллов в собственности (самый большой отток у те кто имеет 9 баллов - 53%)\n",
    "- Не пользуется продуктами банка или использует больше 4 (100% отток у тех кто не пользуется)\n",
    "- Имеет от 850 до 900 баллов кредитного скоринга\n",
    "- Получает зарпалату примерно 100000р (отток - 60.65%)\n",
    "- Имеет баланс больше 100000р (отток - 96.14%)\n",
    "- Имеет кредитную карту (отток - 25.6%)\n",
    "- Является не активным клиентом (отток - 24.5%)"
   ]
  },
  {
   "cell_type": "code",
   "execution_count": 33,
   "metadata": {},
   "outputs": [
    {
     "data": {
      "text/html": [
       "<div>\n",
       "<style scoped>\n",
       "    .dataframe tbody tr th:only-of-type {\n",
       "        vertical-align: middle;\n",
       "    }\n",
       "\n",
       "    .dataframe tbody tr th {\n",
       "        vertical-align: top;\n",
       "    }\n",
       "\n",
       "    .dataframe thead th {\n",
       "        text-align: right;\n",
       "    }\n",
       "</style>\n",
       "<table border=\"1\" class=\"dataframe\">\n",
       "  <thead>\n",
       "    <tr style=\"text-align: right;\">\n",
       "      <th></th>\n",
       "      <th>Профиль клиента</th>\n",
       "      <th>Город</th>\n",
       "      <th>Пол</th>\n",
       "      <th>Возраст</th>\n",
       "      <th>Баллы в собственности</th>\n",
       "      <th>Количество продуктов</th>\n",
       "      <th>Скоринг</th>\n",
       "      <th>Зарплата</th>\n",
       "      <th>Баланс</th>\n",
       "      <th>Кредитная карта</th>\n",
       "      <th>Активность клиента</th>\n",
       "    </tr>\n",
       "  </thead>\n",
       "  <tbody>\n",
       "    <tr>\n",
       "      <th>0</th>\n",
       "      <td>Отточный</td>\n",
       "      <td>Ростов</td>\n",
       "      <td>Мужской</td>\n",
       "      <td>30-40 лет</td>\n",
       "      <td>6-9</td>\n",
       "      <td>0 и больше 4</td>\n",
       "      <td>850-900</td>\n",
       "      <td>Больше 100000</td>\n",
       "      <td>Больше 100000</td>\n",
       "      <td>Есть</td>\n",
       "      <td>Не активный</td>\n",
       "    </tr>\n",
       "    <tr>\n",
       "      <th>1</th>\n",
       "      <td>Неотточный</td>\n",
       "      <td>Рыбинск</td>\n",
       "      <td>Женский</td>\n",
       "      <td>40-50 лет</td>\n",
       "      <td>0-5</td>\n",
       "      <td>1-3</td>\n",
       "      <td>600-750, 950-1000</td>\n",
       "      <td>До 100000</td>\n",
       "      <td>До 100000</td>\n",
       "      <td>Нет</td>\n",
       "      <td>Активный</td>\n",
       "    </tr>\n",
       "  </tbody>\n",
       "</table>\n",
       "</div>"
      ],
      "text/plain": [
       "  Профиль клиента    Город      Пол    Возраст Баллы в собственности  \\\n",
       "0        Отточный   Ростов  Мужской  30-40 лет                   6-9   \n",
       "1      Неотточный  Рыбинск  Женский  40-50 лет                   0-5   \n",
       "\n",
       "  Количество продуктов            Скоринг       Зарплата         Баланс  \\\n",
       "0         0 и больше 4            850-900  Больше 100000  Больше 100000   \n",
       "1                  1-3  600-750, 950-1000      До 100000      До 100000   \n",
       "\n",
       "  Кредитная карта  Активность клиента  \n",
       "0            Есть         Не активный  \n",
       "1             Нет            Активный  "
      ]
     },
     "execution_count": 33,
     "metadata": {},
     "output_type": "execute_result"
    }
   ],
   "source": [
    "df"
   ]
  },
  {
   "cell_type": "markdown",
   "metadata": {},
   "source": [
    "Так же были проверены две гипотезы: \n",
    "- Гипотеза различия дохода между теми клиентами, которые ушли и теми, которые остались. Проверка гипотезы показала что различий в среднем доходе между клиентами, которые остались, и клиентами, которые ушли, нет\n",
    "- Гипотеза влияния пола на отток клиентов. Она показала, что средний отток у мужчин и женщин разный"
   ]
  },
  {
   "cell_type": "markdown",
   "metadata": {},
   "source": [
    "Матрица корреляции показала нам, что высокая корреляция обратной свяи (-0.73) наблюдается у связи Рыбинск - Ярославль, так же умеренная (-0.49) у связи Ярославь - Ростов, у связи продукты и количество баллов в собственности(0.43), баланс - зарплата(0.34). Во всех остальных сегментах слабая корреляция."
   ]
  },
  {
   "cell_type": "markdown",
   "metadata": {},
   "source": [
    "**Рекомендации:**\n",
    "- Увеличить продажи продуктов банка, чтобы каждый клиент использовал от 1 до 3 продуктов банка\n",
    "- Стоит обратить внимание на возрастной сегмент от 40 до 50 лет, в этом сегменте не такой большой процент оттока.\n",
    "- Баллы кредитного скоринга у идеального клиента должны быть 750 - 800."
   ]
  }
 ],
 "metadata": {
  "ExecuteTimeLog": [
   {
    "duration": 1486,
    "start_time": "2023-06-29T11:51:40.204Z"
   },
   {
    "duration": 80,
    "start_time": "2023-06-29T11:53:59.234Z"
   },
   {
    "duration": 101,
    "start_time": "2023-06-29T11:56:00.286Z"
   },
   {
    "duration": 18,
    "start_time": "2023-06-29T11:56:17.458Z"
   },
   {
    "duration": 15,
    "start_time": "2023-06-29T11:57:04.706Z"
   },
   {
    "duration": 26,
    "start_time": "2023-06-29T12:01:28.590Z"
   },
   {
    "duration": 15,
    "start_time": "2023-06-29T12:01:45.144Z"
   },
   {
    "duration": 13,
    "start_time": "2023-06-29T12:01:55.364Z"
   },
   {
    "duration": 12,
    "start_time": "2023-06-29T12:02:02.859Z"
   },
   {
    "duration": 12,
    "start_time": "2023-06-29T12:06:21.247Z"
   },
   {
    "duration": 8,
    "start_time": "2023-06-29T12:08:23.124Z"
   },
   {
    "duration": 6,
    "start_time": "2023-06-29T12:08:32.614Z"
   },
   {
    "duration": 8,
    "start_time": "2023-06-29T12:08:42.816Z"
   },
   {
    "duration": 15,
    "start_time": "2023-06-29T12:12:32.005Z"
   },
   {
    "duration": 4667,
    "start_time": "2023-06-29T12:16:46.637Z"
   },
   {
    "duration": 4686,
    "start_time": "2023-06-29T12:17:10.653Z"
   },
   {
    "duration": 12,
    "start_time": "2023-06-29T12:17:39.557Z"
   },
   {
    "duration": 16,
    "start_time": "2023-06-29T12:17:58.313Z"
   },
   {
    "duration": 8,
    "start_time": "2023-06-29T12:22:31.519Z"
   },
   {
    "duration": 7,
    "start_time": "2023-06-29T12:23:41.860Z"
   },
   {
    "duration": 218,
    "start_time": "2023-06-29T12:24:55.487Z"
   },
   {
    "duration": 7,
    "start_time": "2023-06-29T12:25:09.315Z"
   },
   {
    "duration": 10,
    "start_time": "2023-06-29T12:29:22.215Z"
   },
   {
    "duration": 38,
    "start_time": "2023-06-29T12:29:39.835Z"
   },
   {
    "duration": 37,
    "start_time": "2023-06-29T12:30:43.573Z"
   },
   {
    "duration": 23,
    "start_time": "2023-06-29T12:31:15.213Z"
   },
   {
    "duration": 25,
    "start_time": "2023-06-29T12:31:24.489Z"
   },
   {
    "duration": 31,
    "start_time": "2023-06-29T12:31:36.227Z"
   },
   {
    "duration": 19,
    "start_time": "2023-06-29T12:34:33.151Z"
   },
   {
    "duration": 10,
    "start_time": "2023-06-29T12:47:42.232Z"
   },
   {
    "duration": 27,
    "start_time": "2023-06-29T12:48:10.833Z"
   },
   {
    "duration": 25,
    "start_time": "2023-06-29T12:48:20.652Z"
   },
   {
    "duration": 21,
    "start_time": "2023-06-29T12:48:38.962Z"
   },
   {
    "duration": 15,
    "start_time": "2023-06-29T12:48:53.209Z"
   },
   {
    "duration": 167,
    "start_time": "2023-06-29T12:49:10.103Z"
   },
   {
    "duration": 168,
    "start_time": "2023-06-29T12:51:25.493Z"
   },
   {
    "duration": 145542,
    "start_time": "2023-06-29T12:59:00.526Z"
   },
   {
    "duration": 175,
    "start_time": "2023-06-29T13:02:57.495Z"
   },
   {
    "duration": 1123,
    "start_time": "2023-06-29T13:07:03.345Z"
   },
   {
    "duration": 52,
    "start_time": "2023-06-30T17:05:21.292Z"
   },
   {
    "duration": 1353,
    "start_time": "2023-06-30T17:05:31.208Z"
   },
   {
    "duration": 138,
    "start_time": "2023-06-30T17:05:32.563Z"
   },
   {
    "duration": 18,
    "start_time": "2023-06-30T17:05:33.170Z"
   },
   {
    "duration": 14,
    "start_time": "2023-06-30T17:05:33.703Z"
   },
   {
    "duration": 10,
    "start_time": "2023-06-30T17:05:34.234Z"
   },
   {
    "duration": 13,
    "start_time": "2023-06-30T17:05:34.714Z"
   },
   {
    "duration": 6,
    "start_time": "2023-06-30T17:05:35.175Z"
   },
   {
    "duration": 19,
    "start_time": "2023-06-30T17:05:35.807Z"
   },
   {
    "duration": 1794,
    "start_time": "2023-06-30T17:05:37.408Z"
   },
   {
    "duration": 13452,
    "start_time": "2023-06-30T17:06:02.111Z"
   },
   {
    "duration": 15118,
    "start_time": "2023-06-30T17:06:45.667Z"
   },
   {
    "duration": 15776,
    "start_time": "2023-06-30T17:08:17.891Z"
   },
   {
    "duration": 185,
    "start_time": "2023-06-30T17:13:32.889Z"
   },
   {
    "duration": 170,
    "start_time": "2023-06-30T17:15:20.401Z"
   },
   {
    "duration": 1202,
    "start_time": "2023-06-30T17:17:05.327Z"
   },
   {
    "duration": 17,
    "start_time": "2023-06-30T17:18:49.031Z"
   },
   {
    "duration": 12,
    "start_time": "2023-06-30T17:20:13.551Z"
   },
   {
    "duration": 17,
    "start_time": "2023-06-30T17:20:32.494Z"
   },
   {
    "duration": 182,
    "start_time": "2023-06-30T17:21:54.700Z"
   },
   {
    "duration": 46,
    "start_time": "2023-07-01T07:54:34.748Z"
   },
   {
    "duration": 1241,
    "start_time": "2023-07-01T07:54:42.781Z"
   },
   {
    "duration": 63,
    "start_time": "2023-07-01T07:54:44.024Z"
   },
   {
    "duration": 22,
    "start_time": "2023-07-01T07:54:44.587Z"
   },
   {
    "duration": 12,
    "start_time": "2023-07-01T07:54:45.257Z"
   },
   {
    "duration": 10,
    "start_time": "2023-07-01T07:54:45.836Z"
   },
   {
    "duration": 13,
    "start_time": "2023-07-01T07:54:46.371Z"
   },
   {
    "duration": 4,
    "start_time": "2023-07-01T07:54:46.941Z"
   },
   {
    "duration": 17,
    "start_time": "2023-07-01T07:54:47.527Z"
   },
   {
    "duration": 13,
    "start_time": "2023-07-01T07:54:48.910Z"
   },
   {
    "duration": 4,
    "start_time": "2023-07-01T07:54:49.402Z"
   },
   {
    "duration": 5,
    "start_time": "2023-07-01T08:01:48.844Z"
   },
   {
    "duration": 7,
    "start_time": "2023-07-01T08:02:05.379Z"
   },
   {
    "duration": 7,
    "start_time": "2023-07-01T08:05:53.674Z"
   },
   {
    "duration": 7,
    "start_time": "2023-07-01T08:08:23.571Z"
   },
   {
    "duration": 7,
    "start_time": "2023-07-01T08:10:52.788Z"
   },
   {
    "duration": 78,
    "start_time": "2023-07-01T08:11:29.906Z"
   },
   {
    "duration": 7,
    "start_time": "2023-07-01T08:11:38.534Z"
   },
   {
    "duration": 106,
    "start_time": "2023-07-01T10:03:09.890Z"
   },
   {
    "duration": 8,
    "start_time": "2023-07-01T10:06:25.294Z"
   },
   {
    "duration": 95,
    "start_time": "2023-07-01T10:06:25.955Z"
   },
   {
    "duration": 110,
    "start_time": "2023-07-01T10:11:01.123Z"
   },
   {
    "duration": 96,
    "start_time": "2023-07-01T10:11:41.266Z"
   },
   {
    "duration": 90,
    "start_time": "2023-07-01T10:19:02.719Z"
   },
   {
    "duration": 69,
    "start_time": "2023-07-01T10:20:08.321Z"
   },
   {
    "duration": 24,
    "start_time": "2023-07-01T10:20:20.843Z"
   },
   {
    "duration": 13,
    "start_time": "2023-07-01T10:21:00.614Z"
   },
   {
    "duration": 13,
    "start_time": "2023-07-01T10:21:23.785Z"
   },
   {
    "duration": 12,
    "start_time": "2023-07-01T10:21:43.069Z"
   },
   {
    "duration": 12,
    "start_time": "2023-07-01T10:23:06.352Z"
   },
   {
    "duration": 13,
    "start_time": "2023-07-01T10:23:22.749Z"
   },
   {
    "duration": 16,
    "start_time": "2023-07-01T10:31:55.940Z"
   },
   {
    "duration": 14,
    "start_time": "2023-07-01T10:32:31.114Z"
   },
   {
    "duration": 171,
    "start_time": "2023-07-01T10:38:07.691Z"
   },
   {
    "duration": 166,
    "start_time": "2023-07-01T10:38:20.234Z"
   },
   {
    "duration": 161,
    "start_time": "2023-07-01T10:38:35.053Z"
   },
   {
    "duration": 221,
    "start_time": "2023-07-01T10:39:11.446Z"
   },
   {
    "duration": 165,
    "start_time": "2023-07-01T10:39:21.990Z"
   },
   {
    "duration": 163,
    "start_time": "2023-07-01T10:39:52.203Z"
   },
   {
    "duration": 157,
    "start_time": "2023-07-01T10:41:58.457Z"
   },
   {
    "duration": 95,
    "start_time": "2023-07-01T10:42:12.728Z"
   },
   {
    "duration": 157,
    "start_time": "2023-07-01T10:43:13.718Z"
   },
   {
    "duration": 159,
    "start_time": "2023-07-01T10:44:16.600Z"
   },
   {
    "duration": 148,
    "start_time": "2023-07-01T10:44:39.711Z"
   },
   {
    "duration": 138,
    "start_time": "2023-07-01T10:45:28.304Z"
   },
   {
    "duration": 148,
    "start_time": "2023-07-01T10:46:03.509Z"
   },
   {
    "duration": 141,
    "start_time": "2023-07-01T10:46:26.970Z"
   },
   {
    "duration": 221,
    "start_time": "2023-07-01T10:49:43.637Z"
   },
   {
    "duration": 130,
    "start_time": "2023-07-01T10:50:40.289Z"
   },
   {
    "duration": 130,
    "start_time": "2023-07-01T10:50:53.133Z"
   },
   {
    "duration": 132,
    "start_time": "2023-07-01T10:51:16.470Z"
   },
   {
    "duration": 124,
    "start_time": "2023-07-01T10:52:40.365Z"
   },
   {
    "duration": 143,
    "start_time": "2023-07-01T10:52:53.315Z"
   },
   {
    "duration": 404,
    "start_time": "2023-07-01T10:55:19.408Z"
   },
   {
    "duration": 234,
    "start_time": "2023-07-01T10:56:18.192Z"
   },
   {
    "duration": 423,
    "start_time": "2023-07-01T10:58:30.899Z"
   },
   {
    "duration": 344,
    "start_time": "2023-07-01T10:59:16.789Z"
   },
   {
    "duration": 356,
    "start_time": "2023-07-01T11:00:06.222Z"
   },
   {
    "duration": 378,
    "start_time": "2023-07-01T11:00:23.240Z"
   },
   {
    "duration": 437,
    "start_time": "2023-07-01T11:00:31.657Z"
   },
   {
    "duration": 359,
    "start_time": "2023-07-01T11:01:11.324Z"
   },
   {
    "duration": 386,
    "start_time": "2023-07-01T11:02:25.110Z"
   },
   {
    "duration": 364,
    "start_time": "2023-07-01T11:02:59.284Z"
   },
   {
    "duration": 514,
    "start_time": "2023-07-01T11:03:12.154Z"
   },
   {
    "duration": 348,
    "start_time": "2023-07-01T11:03:34.454Z"
   },
   {
    "duration": 202,
    "start_time": "2023-07-01T11:04:34.603Z"
   },
   {
    "duration": 380,
    "start_time": "2023-07-01T11:04:36.409Z"
   },
   {
    "duration": 477,
    "start_time": "2023-07-01T11:06:44.858Z"
   },
   {
    "duration": 353,
    "start_time": "2023-07-01T11:07:11.120Z"
   },
   {
    "duration": 27191,
    "start_time": "2023-07-01T11:09:30.093Z"
   },
   {
    "duration": 358,
    "start_time": "2023-07-01T11:10:56.358Z"
   },
   {
    "duration": 31014,
    "start_time": "2023-07-01T11:13:54.889Z"
   },
   {
    "duration": 28452,
    "start_time": "2023-07-01T11:18:10.755Z"
   },
   {
    "duration": 31859,
    "start_time": "2023-07-01T11:21:00.855Z"
   },
   {
    "duration": 278,
    "start_time": "2023-07-01T11:24:01.817Z"
   },
   {
    "duration": 208,
    "start_time": "2023-07-01T11:24:42.312Z"
   },
   {
    "duration": 262,
    "start_time": "2023-07-01T11:25:19.570Z"
   },
   {
    "duration": 270,
    "start_time": "2023-07-01T11:26:35.156Z"
   },
   {
    "duration": 266,
    "start_time": "2023-07-01T11:27:17.615Z"
   },
   {
    "duration": 216,
    "start_time": "2023-07-01T11:27:37.129Z"
   },
   {
    "duration": 209,
    "start_time": "2023-07-01T11:27:53.049Z"
   },
   {
    "duration": 216,
    "start_time": "2023-07-01T11:29:07.437Z"
   },
   {
    "duration": 295,
    "start_time": "2023-07-01T11:29:56.925Z"
   },
   {
    "duration": 296,
    "start_time": "2023-07-01T11:30:07.669Z"
   },
   {
    "duration": 158,
    "start_time": "2023-07-01T11:30:26.449Z"
   },
   {
    "duration": 362,
    "start_time": "2023-07-01T11:31:21.987Z"
   },
   {
    "duration": 254,
    "start_time": "2023-07-01T11:31:25.285Z"
   },
   {
    "duration": 220,
    "start_time": "2023-07-01T11:31:25.700Z"
   },
   {
    "duration": 1176,
    "start_time": "2023-07-01T11:32:36.034Z"
   },
   {
    "duration": 1211,
    "start_time": "2023-07-01T11:35:42.385Z"
   },
   {
    "duration": 1223,
    "start_time": "2023-07-01T11:36:12.887Z"
   },
   {
    "duration": 1196,
    "start_time": "2023-07-01T11:36:40.846Z"
   },
   {
    "duration": 1245,
    "start_time": "2023-07-01T11:36:58.089Z"
   },
   {
    "duration": 4116,
    "start_time": "2023-07-01T11:37:08.794Z"
   },
   {
    "duration": 384,
    "start_time": "2023-07-01T11:38:43.825Z"
   },
   {
    "duration": 38731,
    "start_time": "2023-07-01T11:41:42.704Z"
   },
   {
    "duration": 1381,
    "start_time": "2023-07-02T13:00:20.500Z"
   },
   {
    "duration": 158,
    "start_time": "2023-07-02T13:00:21.891Z"
   },
   {
    "duration": 21,
    "start_time": "2023-07-02T13:00:22.051Z"
   },
   {
    "duration": 21,
    "start_time": "2023-07-02T13:00:22.078Z"
   },
   {
    "duration": 12,
    "start_time": "2023-07-02T13:00:22.105Z"
   },
   {
    "duration": 19,
    "start_time": "2023-07-02T13:00:22.118Z"
   },
   {
    "duration": 5,
    "start_time": "2023-07-02T13:00:22.138Z"
   },
   {
    "duration": 33,
    "start_time": "2023-07-02T13:00:22.144Z"
   },
   {
    "duration": 10,
    "start_time": "2023-07-02T13:00:22.181Z"
   },
   {
    "duration": 127,
    "start_time": "2023-07-02T13:00:22.192Z"
   },
   {
    "duration": 14,
    "start_time": "2023-07-02T13:00:22.321Z"
   },
   {
    "duration": 193,
    "start_time": "2023-07-02T13:00:22.337Z"
   },
   {
    "duration": 174,
    "start_time": "2023-07-02T13:00:22.532Z"
   },
   {
    "duration": 404,
    "start_time": "2023-07-02T13:00:22.709Z"
   },
   {
    "duration": 287,
    "start_time": "2023-07-02T13:00:23.115Z"
   },
   {
    "duration": 222,
    "start_time": "2023-07-02T13:00:23.404Z"
   },
   {
    "duration": 1509,
    "start_time": "2023-07-02T13:00:23.627Z"
   },
   {
    "duration": 39078,
    "start_time": "2023-07-02T13:00:25.137Z"
   },
   {
    "duration": 2051,
    "start_time": "2023-07-02T13:01:22.799Z"
   },
   {
    "duration": 306,
    "start_time": "2023-07-02T13:01:36.215Z"
   },
   {
    "duration": 177,
    "start_time": "2023-07-02T13:03:06.424Z"
   },
   {
    "duration": 599,
    "start_time": "2023-07-02T13:08:53.115Z"
   },
   {
    "duration": 31,
    "start_time": "2023-07-02T13:10:06.741Z"
   },
   {
    "duration": 190,
    "start_time": "2023-07-02T13:12:51.229Z"
   },
   {
    "duration": 235,
    "start_time": "2023-07-02T13:16:03.143Z"
   },
   {
    "duration": 190,
    "start_time": "2023-07-02T13:16:24.636Z"
   },
   {
    "duration": 243,
    "start_time": "2023-07-02T13:18:29.204Z"
   },
   {
    "duration": 210,
    "start_time": "2023-07-02T13:18:39.012Z"
   },
   {
    "duration": 216,
    "start_time": "2023-07-02T13:18:45.124Z"
   },
   {
    "duration": 184,
    "start_time": "2023-07-02T13:18:58.165Z"
   },
   {
    "duration": 221,
    "start_time": "2023-07-02T13:21:10.544Z"
   },
   {
    "duration": 187,
    "start_time": "2023-07-02T13:21:29.520Z"
   },
   {
    "duration": 229,
    "start_time": "2023-07-02T13:24:19.495Z"
   },
   {
    "duration": 265,
    "start_time": "2023-07-02T13:24:40.280Z"
   },
   {
    "duration": 265,
    "start_time": "2023-07-02T13:24:51.108Z"
   },
   {
    "duration": 247,
    "start_time": "2023-07-02T13:25:12.612Z"
   },
   {
    "duration": 253,
    "start_time": "2023-07-02T13:25:20.732Z"
   },
   {
    "duration": 43026,
    "start_time": "2023-07-02T13:27:47.592Z"
   },
   {
    "duration": 128,
    "start_time": "2023-07-02T13:35:37.220Z"
   },
   {
    "duration": 220,
    "start_time": "2023-07-02T13:37:16.557Z"
   },
   {
    "duration": 198,
    "start_time": "2023-07-02T13:38:38.433Z"
   },
   {
    "duration": 202,
    "start_time": "2023-07-02T13:39:35.110Z"
   },
   {
    "duration": 220,
    "start_time": "2023-07-02T13:41:13.297Z"
   },
   {
    "duration": 271,
    "start_time": "2023-07-02T13:41:15.635Z"
   },
   {
    "duration": 192,
    "start_time": "2023-07-02T17:21:25.540Z"
   },
   {
    "duration": 503,
    "start_time": "2023-07-02T17:21:34.207Z"
   },
   {
    "duration": 438,
    "start_time": "2023-07-02T17:23:11.897Z"
   },
   {
    "duration": 326,
    "start_time": "2023-07-02T17:23:22.990Z"
   },
   {
    "duration": 455,
    "start_time": "2023-07-02T17:23:35.791Z"
   },
   {
    "duration": 412,
    "start_time": "2023-07-02T17:23:57.751Z"
   },
   {
    "duration": 4,
    "start_time": "2023-07-02T17:25:22.243Z"
   },
   {
    "duration": 246,
    "start_time": "2023-07-02T17:25:39.631Z"
   },
   {
    "duration": 217,
    "start_time": "2023-07-02T17:27:10.295Z"
   },
   {
    "duration": 440,
    "start_time": "2023-07-02T17:27:57.792Z"
   },
   {
    "duration": 239,
    "start_time": "2023-07-02T17:29:00.305Z"
   },
   {
    "duration": 214,
    "start_time": "2023-07-02T17:29:06.499Z"
   },
   {
    "duration": 266,
    "start_time": "2023-07-02T17:29:09.264Z"
   },
   {
    "duration": 227,
    "start_time": "2023-07-02T17:29:23.114Z"
   },
   {
    "duration": 306,
    "start_time": "2023-07-02T17:29:33.909Z"
   },
   {
    "duration": 24,
    "start_time": "2023-07-02T17:30:24.050Z"
   },
   {
    "duration": 14,
    "start_time": "2023-07-02T17:31:22.951Z"
   },
   {
    "duration": 253,
    "start_time": "2023-07-02T17:31:36.363Z"
   },
   {
    "duration": 247,
    "start_time": "2023-07-02T17:32:18.311Z"
   },
   {
    "duration": 24558,
    "start_time": "2023-07-02T17:35:36.561Z"
   },
   {
    "duration": 23175,
    "start_time": "2023-07-02T17:36:48.266Z"
   },
   {
    "duration": 24139,
    "start_time": "2023-07-02T17:37:29.419Z"
   },
   {
    "duration": 16,
    "start_time": "2023-07-02T17:39:28.508Z"
   },
   {
    "duration": 21726,
    "start_time": "2023-07-02T17:40:08.532Z"
   },
   {
    "duration": 112,
    "start_time": "2023-07-02T17:44:04.585Z"
   },
   {
    "duration": 145,
    "start_time": "2023-07-02T17:44:16.037Z"
   },
   {
    "duration": 125,
    "start_time": "2023-07-02T17:44:55.828Z"
   },
   {
    "duration": 123,
    "start_time": "2023-07-02T17:45:20.812Z"
   },
   {
    "duration": 401,
    "start_time": "2023-07-02T17:56:57.280Z"
   },
   {
    "duration": 638,
    "start_time": "2023-07-02T17:58:02.639Z"
   },
   {
    "duration": 741,
    "start_time": "2023-07-02T17:58:15.658Z"
   },
   {
    "duration": 607,
    "start_time": "2023-07-02T17:58:25.629Z"
   },
   {
    "duration": 633,
    "start_time": "2023-07-02T17:58:34.167Z"
   },
   {
    "duration": 2293,
    "start_time": "2023-07-02T17:58:45.225Z"
   },
   {
    "duration": 814,
    "start_time": "2023-07-02T17:59:09.613Z"
   },
   {
    "duration": 751,
    "start_time": "2023-07-02T17:59:24.295Z"
   },
   {
    "duration": 691,
    "start_time": "2023-07-02T17:59:33.845Z"
   },
   {
    "duration": 798,
    "start_time": "2023-07-02T17:59:46.396Z"
   },
   {
    "duration": 306,
    "start_time": "2023-07-02T18:00:40.130Z"
   },
   {
    "duration": 186,
    "start_time": "2023-07-02T18:00:49.397Z"
   },
   {
    "duration": 168,
    "start_time": "2023-07-02T18:00:58.598Z"
   },
   {
    "duration": 278,
    "start_time": "2023-07-02T18:01:20.248Z"
   },
   {
    "duration": 21331,
    "start_time": "2023-07-02T18:03:32.407Z"
   },
   {
    "duration": 23641,
    "start_time": "2023-07-02T18:04:05.366Z"
   },
   {
    "duration": 23538,
    "start_time": "2023-07-02T18:04:49.543Z"
   },
   {
    "duration": 22303,
    "start_time": "2023-07-02T18:05:31.299Z"
   },
   {
    "duration": 24885,
    "start_time": "2023-07-02T18:14:20.570Z"
   },
   {
    "duration": 197,
    "start_time": "2023-07-02T18:19:24.868Z"
   },
   {
    "duration": 208,
    "start_time": "2023-07-02T18:19:56.988Z"
   },
   {
    "duration": 5,
    "start_time": "2023-07-02T18:23:41.000Z"
   },
   {
    "duration": 5,
    "start_time": "2023-07-02T18:23:59.989Z"
   },
   {
    "duration": 9,
    "start_time": "2023-07-02T18:25:23.232Z"
   },
   {
    "duration": 382,
    "start_time": "2023-07-02T18:28:02.453Z"
   },
   {
    "duration": 221,
    "start_time": "2023-07-02T18:29:23.303Z"
   },
   {
    "duration": 1456,
    "start_time": "2023-07-02T18:30:20.056Z"
   },
   {
    "duration": 1633,
    "start_time": "2023-07-02T18:30:54.257Z"
   },
   {
    "duration": 1637,
    "start_time": "2023-07-02T18:31:39.896Z"
   },
   {
    "duration": 135,
    "start_time": "2023-07-02T18:31:52.554Z"
   },
   {
    "duration": 282,
    "start_time": "2023-07-02T18:34:14.297Z"
   },
   {
    "duration": 246,
    "start_time": "2023-07-02T18:35:02.095Z"
   },
   {
    "duration": 236,
    "start_time": "2023-07-02T18:35:13.120Z"
   },
   {
    "duration": 255,
    "start_time": "2023-07-02T18:35:30.889Z"
   },
   {
    "duration": 57,
    "start_time": "2023-07-03T10:07:09.262Z"
   },
   {
    "duration": 1628,
    "start_time": "2023-07-03T10:07:19.674Z"
   },
   {
    "duration": 107,
    "start_time": "2023-07-03T10:07:21.304Z"
   },
   {
    "duration": 19,
    "start_time": "2023-07-03T10:07:21.413Z"
   },
   {
    "duration": 64,
    "start_time": "2023-07-03T10:07:21.434Z"
   },
   {
    "duration": 32,
    "start_time": "2023-07-03T10:07:21.500Z"
   },
   {
    "duration": 41,
    "start_time": "2023-07-03T10:07:21.533Z"
   },
   {
    "duration": 38,
    "start_time": "2023-07-03T10:07:21.576Z"
   },
   {
    "duration": 38,
    "start_time": "2023-07-03T10:07:21.616Z"
   },
   {
    "duration": 17,
    "start_time": "2023-07-03T10:07:21.656Z"
   },
   {
    "duration": 153,
    "start_time": "2023-07-03T10:07:21.675Z"
   },
   {
    "duration": 15,
    "start_time": "2023-07-03T10:07:21.829Z"
   },
   {
    "duration": 249,
    "start_time": "2023-07-03T10:07:21.846Z"
   },
   {
    "duration": 181,
    "start_time": "2023-07-03T10:07:22.097Z"
   },
   {
    "duration": 458,
    "start_time": "2023-07-03T10:07:22.282Z"
   },
   {
    "duration": 336,
    "start_time": "2023-07-03T10:07:22.742Z"
   },
   {
    "duration": 303,
    "start_time": "2023-07-03T10:07:23.080Z"
   },
   {
    "duration": 1409,
    "start_time": "2023-07-03T10:07:23.385Z"
   },
   {
    "duration": 239,
    "start_time": "2023-07-03T10:07:24.796Z"
   },
   {
    "duration": 314,
    "start_time": "2023-07-03T10:07:25.036Z"
   },
   {
    "duration": 229,
    "start_time": "2023-07-03T10:08:43.080Z"
   },
   {
    "duration": 242,
    "start_time": "2023-07-03T10:10:28.004Z"
   },
   {
    "duration": 163,
    "start_time": "2023-07-03T10:11:45.358Z"
   },
   {
    "duration": 207,
    "start_time": "2023-07-03T10:15:36.499Z"
   },
   {
    "duration": 209,
    "start_time": "2023-07-03T10:18:10.227Z"
   },
   {
    "duration": 237,
    "start_time": "2023-07-03T10:20:37.259Z"
   },
   {
    "duration": 215,
    "start_time": "2023-07-03T10:20:51.681Z"
   },
   {
    "duration": 178,
    "start_time": "2023-07-03T10:21:19.092Z"
   },
   {
    "duration": 226,
    "start_time": "2023-07-03T10:22:13.717Z"
   },
   {
    "duration": 241,
    "start_time": "2023-07-03T10:22:33.058Z"
   },
   {
    "duration": 294,
    "start_time": "2023-07-03T10:22:46.030Z"
   },
   {
    "duration": 292,
    "start_time": "2023-07-03T10:22:57.721Z"
   },
   {
    "duration": 289,
    "start_time": "2023-07-03T10:23:11.156Z"
   },
   {
    "duration": 170,
    "start_time": "2023-07-03T10:23:28.027Z"
   },
   {
    "duration": 215,
    "start_time": "2023-07-03T10:23:33.557Z"
   },
   {
    "duration": 202,
    "start_time": "2023-07-03T10:24:04.807Z"
   },
   {
    "duration": 163,
    "start_time": "2023-07-03T10:24:07.283Z"
   },
   {
    "duration": 179,
    "start_time": "2023-07-03T10:28:12.243Z"
   },
   {
    "duration": 237,
    "start_time": "2023-07-03T10:28:24.561Z"
   },
   {
    "duration": 189,
    "start_time": "2023-07-03T10:28:50.194Z"
   },
   {
    "duration": 188,
    "start_time": "2023-07-03T10:29:33.479Z"
   },
   {
    "duration": 246,
    "start_time": "2023-07-03T10:30:47.322Z"
   },
   {
    "duration": 161,
    "start_time": "2023-07-03T10:31:14.701Z"
   },
   {
    "duration": 22,
    "start_time": "2023-07-03T10:32:04.063Z"
   },
   {
    "duration": 1416,
    "start_time": "2023-07-03T10:35:40.197Z"
   },
   {
    "duration": 1248,
    "start_time": "2023-07-03T10:37:32.570Z"
   },
   {
    "duration": 1101,
    "start_time": "2023-07-03T10:38:50.887Z"
   },
   {
    "duration": 150,
    "start_time": "2023-07-03T11:23:11.780Z"
   },
   {
    "duration": 3,
    "start_time": "2023-07-03T15:37:49.353Z"
   },
   {
    "duration": 10,
    "start_time": "2023-07-03T15:37:50.362Z"
   },
   {
    "duration": 1563,
    "start_time": "2023-07-03T15:38:15.192Z"
   },
   {
    "duration": 22,
    "start_time": "2023-07-03T15:38:34.732Z"
   },
   {
    "duration": 4,
    "start_time": "2023-07-03T15:41:25.442Z"
   },
   {
    "duration": 4,
    "start_time": "2023-07-03T15:41:54.912Z"
   },
   {
    "duration": 3,
    "start_time": "2023-07-03T15:43:49.622Z"
   },
   {
    "duration": 24,
    "start_time": "2023-07-03T15:43:50.814Z"
   },
   {
    "duration": 22,
    "start_time": "2023-07-03T15:46:31.080Z"
   },
   {
    "duration": 25,
    "start_time": "2023-07-03T15:52:26.145Z"
   },
   {
    "duration": 22,
    "start_time": "2023-07-03T15:52:44.919Z"
   },
   {
    "duration": 284,
    "start_time": "2023-07-03T16:04:28.403Z"
   },
   {
    "duration": 372,
    "start_time": "2023-07-03T16:04:43.780Z"
   },
   {
    "duration": 266,
    "start_time": "2023-07-03T16:04:58.443Z"
   },
   {
    "duration": 278,
    "start_time": "2023-07-03T16:05:21.823Z"
   },
   {
    "duration": 288,
    "start_time": "2023-07-03T16:05:59.814Z"
   },
   {
    "duration": 291,
    "start_time": "2023-07-03T16:11:55.254Z"
   },
   {
    "duration": 251,
    "start_time": "2023-07-03T16:12:11.085Z"
   },
   {
    "duration": 323,
    "start_time": "2023-07-03T16:12:17.810Z"
   },
   {
    "duration": 276,
    "start_time": "2023-07-03T16:12:22.699Z"
   },
   {
    "duration": 251,
    "start_time": "2023-07-03T16:12:28.292Z"
   },
   {
    "duration": 237,
    "start_time": "2023-07-03T16:12:40.460Z"
   },
   {
    "duration": 244,
    "start_time": "2023-07-03T16:13:12.893Z"
   },
   {
    "duration": 619,
    "start_time": "2023-07-03T16:16:33.594Z"
   },
   {
    "duration": 539,
    "start_time": "2023-07-03T16:17:07.841Z"
   },
   {
    "duration": 544,
    "start_time": "2023-07-03T16:17:18.736Z"
   },
   {
    "duration": 725,
    "start_time": "2023-07-03T16:17:53.107Z"
   },
   {
    "duration": 547,
    "start_time": "2023-07-03T16:18:00.065Z"
   },
   {
    "duration": 635,
    "start_time": "2023-07-03T16:18:09.935Z"
   },
   {
    "duration": 1311,
    "start_time": "2023-07-04T11:26:12.938Z"
   },
   {
    "duration": 83,
    "start_time": "2023-07-04T11:26:14.251Z"
   },
   {
    "duration": 16,
    "start_time": "2023-07-04T11:26:14.336Z"
   },
   {
    "duration": 27,
    "start_time": "2023-07-04T11:26:14.353Z"
   },
   {
    "duration": 31,
    "start_time": "2023-07-04T11:26:14.381Z"
   },
   {
    "duration": 15,
    "start_time": "2023-07-04T11:26:14.413Z"
   },
   {
    "duration": 5,
    "start_time": "2023-07-04T11:26:14.429Z"
   },
   {
    "duration": 25,
    "start_time": "2023-07-04T11:26:14.435Z"
   },
   {
    "duration": 14,
    "start_time": "2023-07-04T11:26:14.462Z"
   },
   {
    "duration": 107,
    "start_time": "2023-07-04T11:26:14.477Z"
   },
   {
    "duration": 14,
    "start_time": "2023-07-04T11:26:14.585Z"
   },
   {
    "duration": 303,
    "start_time": "2023-07-04T11:26:14.600Z"
   },
   {
    "duration": 261,
    "start_time": "2023-07-04T11:26:14.904Z"
   },
   {
    "duration": 640,
    "start_time": "2023-07-04T11:26:15.168Z"
   },
   {
    "duration": 247,
    "start_time": "2023-07-04T11:26:15.810Z"
   },
   {
    "duration": 209,
    "start_time": "2023-07-04T11:26:16.059Z"
   },
   {
    "duration": 1265,
    "start_time": "2023-07-04T11:26:16.269Z"
   },
   {
    "duration": 193,
    "start_time": "2023-07-04T11:26:17.535Z"
   },
   {
    "duration": 185,
    "start_time": "2023-07-04T11:26:17.729Z"
   },
   {
    "duration": 150,
    "start_time": "2023-07-04T11:26:17.915Z"
   },
   {
    "duration": 161,
    "start_time": "2023-07-04T11:26:18.067Z"
   },
   {
    "duration": 934,
    "start_time": "2023-07-04T11:26:18.230Z"
   },
   {
    "duration": 3,
    "start_time": "2023-07-04T11:26:19.165Z"
   },
   {
    "duration": 64,
    "start_time": "2023-07-04T11:26:19.169Z"
   },
   {
    "duration": 69,
    "start_time": "2023-07-04T11:26:19.234Z"
   },
   {
    "duration": 1212,
    "start_time": "2023-07-04T23:00:27.443Z"
   },
   {
    "duration": 137,
    "start_time": "2023-07-04T23:00:28.656Z"
   },
   {
    "duration": 19,
    "start_time": "2023-07-04T23:00:28.794Z"
   },
   {
    "duration": 14,
    "start_time": "2023-07-04T23:00:28.814Z"
   },
   {
    "duration": 10,
    "start_time": "2023-07-04T23:00:28.830Z"
   },
   {
    "duration": 25,
    "start_time": "2023-07-04T23:00:28.841Z"
   },
   {
    "duration": 4,
    "start_time": "2023-07-04T23:00:28.868Z"
   },
   {
    "duration": 24,
    "start_time": "2023-07-04T23:00:28.873Z"
   },
   {
    "duration": 6,
    "start_time": "2023-07-04T23:00:28.898Z"
   },
   {
    "duration": 136,
    "start_time": "2023-07-04T23:00:28.906Z"
   },
   {
    "duration": 22,
    "start_time": "2023-07-04T23:00:29.044Z"
   },
   {
    "duration": 319,
    "start_time": "2023-07-04T23:00:29.068Z"
   },
   {
    "duration": 299,
    "start_time": "2023-07-04T23:00:29.389Z"
   },
   {
    "duration": 700,
    "start_time": "2023-07-04T23:00:29.691Z"
   },
   {
    "duration": 284,
    "start_time": "2023-07-04T23:00:30.393Z"
   },
   {
    "duration": 225,
    "start_time": "2023-07-04T23:00:30.678Z"
   },
   {
    "duration": 1395,
    "start_time": "2023-07-04T23:00:30.905Z"
   },
   {
    "duration": 248,
    "start_time": "2023-07-04T23:00:32.303Z"
   },
   {
    "duration": 228,
    "start_time": "2023-07-04T23:00:32.556Z"
   },
   {
    "duration": 173,
    "start_time": "2023-07-04T23:00:32.786Z"
   },
   {
    "duration": 168,
    "start_time": "2023-07-04T23:00:32.961Z"
   },
   {
    "duration": 1011,
    "start_time": "2023-07-04T23:00:33.131Z"
   },
   {
    "duration": 3,
    "start_time": "2023-07-04T23:00:34.144Z"
   },
   {
    "duration": 46,
    "start_time": "2023-07-04T23:00:34.148Z"
   },
   {
    "duration": 25,
    "start_time": "2023-07-04T23:00:34.196Z"
   },
   {
    "duration": 1301,
    "start_time": "2023-07-05T06:57:11.621Z"
   },
   {
    "duration": 69,
    "start_time": "2023-07-05T06:57:12.924Z"
   },
   {
    "duration": 17,
    "start_time": "2023-07-05T06:57:12.995Z"
   },
   {
    "duration": 15,
    "start_time": "2023-07-05T06:57:13.013Z"
   },
   {
    "duration": 29,
    "start_time": "2023-07-05T06:57:13.030Z"
   },
   {
    "duration": 21,
    "start_time": "2023-07-05T06:57:13.060Z"
   },
   {
    "duration": 15,
    "start_time": "2023-07-05T06:57:13.082Z"
   },
   {
    "duration": 28,
    "start_time": "2023-07-05T06:57:13.099Z"
   },
   {
    "duration": 10,
    "start_time": "2023-07-05T06:57:13.129Z"
   },
   {
    "duration": 140,
    "start_time": "2023-07-05T06:57:13.140Z"
   },
   {
    "duration": 15,
    "start_time": "2023-07-05T06:57:13.282Z"
   },
   {
    "duration": 318,
    "start_time": "2023-07-05T06:57:13.298Z"
   },
   {
    "duration": 290,
    "start_time": "2023-07-05T06:57:13.618Z"
   },
   {
    "duration": 693,
    "start_time": "2023-07-05T06:57:13.914Z"
   },
   {
    "duration": 279,
    "start_time": "2023-07-05T06:57:14.609Z"
   },
   {
    "duration": 218,
    "start_time": "2023-07-05T06:57:14.890Z"
   },
   {
    "duration": 1382,
    "start_time": "2023-07-05T06:57:15.112Z"
   },
   {
    "duration": 224,
    "start_time": "2023-07-05T06:57:16.496Z"
   },
   {
    "duration": 225,
    "start_time": "2023-07-05T06:57:16.722Z"
   },
   {
    "duration": 193,
    "start_time": "2023-07-05T06:57:16.949Z"
   },
   {
    "duration": 193,
    "start_time": "2023-07-05T06:57:17.144Z"
   },
   {
    "duration": 996,
    "start_time": "2023-07-05T06:57:17.339Z"
   },
   {
    "duration": 2,
    "start_time": "2023-07-05T06:57:18.337Z"
   },
   {
    "duration": 42,
    "start_time": "2023-07-05T06:57:18.341Z"
   },
   {
    "duration": 24,
    "start_time": "2023-07-05T06:57:18.385Z"
   },
   {
    "duration": 152,
    "start_time": "2023-07-05T06:57:54.308Z"
   },
   {
    "duration": 236,
    "start_time": "2023-07-05T10:24:00.637Z"
   },
   {
    "duration": 364,
    "start_time": "2023-07-05T10:30:45.912Z"
   },
   {
    "duration": 363,
    "start_time": "2023-07-05T10:31:23.008Z"
   },
   {
    "duration": 368,
    "start_time": "2023-07-05T10:32:50.488Z"
   },
   {
    "duration": 340,
    "start_time": "2023-07-05T10:32:58.628Z"
   },
   {
    "duration": 343,
    "start_time": "2023-07-05T10:33:18.740Z"
   },
   {
    "duration": 365,
    "start_time": "2023-07-05T10:33:54.403Z"
   },
   {
    "duration": 365,
    "start_time": "2023-07-05T10:34:36.106Z"
   },
   {
    "duration": 24,
    "start_time": "2023-07-05T10:40:52.763Z"
   },
   {
    "duration": 2506,
    "start_time": "2023-07-05T10:40:53.569Z"
   },
   {
    "duration": 2046,
    "start_time": "2023-07-05T10:42:36.562Z"
   },
   {
    "duration": 2044,
    "start_time": "2023-07-05T10:45:53.336Z"
   },
   {
    "duration": 234,
    "start_time": "2023-07-05T10:49:10.663Z"
   },
   {
    "duration": 219,
    "start_time": "2023-07-05T10:50:45.041Z"
   },
   {
    "duration": 304,
    "start_time": "2023-07-05T10:51:10.553Z"
   },
   {
    "duration": 471,
    "start_time": "2023-07-05T10:52:43.211Z"
   },
   {
    "duration": 227,
    "start_time": "2023-07-05T10:54:54.611Z"
   },
   {
    "duration": 214,
    "start_time": "2023-07-05T10:55:16.917Z"
   },
   {
    "duration": 234,
    "start_time": "2023-07-05T11:00:35.702Z"
   },
   {
    "duration": 252,
    "start_time": "2023-07-05T11:01:05.293Z"
   },
   {
    "duration": 3360,
    "start_time": "2023-07-05T11:02:08.161Z"
   },
   {
    "duration": 3426,
    "start_time": "2023-07-05T11:02:35.547Z"
   },
   {
    "duration": 3523,
    "start_time": "2023-07-05T11:02:46.291Z"
   },
   {
    "duration": 3509,
    "start_time": "2023-07-05T11:03:12.130Z"
   },
   {
    "duration": 3498,
    "start_time": "2023-07-05T11:04:36.674Z"
   },
   {
    "duration": 3539,
    "start_time": "2023-07-05T11:05:41.159Z"
   },
   {
    "duration": 3449,
    "start_time": "2023-07-05T11:05:59.272Z"
   },
   {
    "duration": 4430,
    "start_time": "2023-07-05T11:08:31.749Z"
   },
   {
    "duration": 4290,
    "start_time": "2023-07-05T11:08:59.002Z"
   },
   {
    "duration": 717,
    "start_time": "2023-07-05T11:09:45.088Z"
   },
   {
    "duration": 475,
    "start_time": "2023-07-05T11:09:55.364Z"
   },
   {
    "duration": 194,
    "start_time": "2023-07-05T11:16:08.213Z"
   },
   {
    "duration": 247,
    "start_time": "2023-07-05T11:16:54.293Z"
   },
   {
    "duration": 199,
    "start_time": "2023-07-05T11:18:24.141Z"
   },
   {
    "duration": 538,
    "start_time": "2023-07-05T11:19:24.671Z"
   },
   {
    "duration": 487,
    "start_time": "2023-07-05T11:19:36.605Z"
   },
   {
    "duration": 3356,
    "start_time": "2023-07-05T16:35:19.729Z"
   },
   {
    "duration": 4308,
    "start_time": "2023-07-05T20:03:40.318Z"
   },
   {
    "duration": 358,
    "start_time": "2023-07-05T20:06:14.438Z"
   },
   {
    "duration": 714,
    "start_time": "2023-07-05T20:06:23.580Z"
   },
   {
    "duration": 385,
    "start_time": "2023-07-05T20:06:56.241Z"
   },
   {
    "duration": 407,
    "start_time": "2023-07-05T20:07:17.074Z"
   },
   {
    "duration": 394,
    "start_time": "2023-07-05T20:07:44.713Z"
   },
   {
    "duration": 584,
    "start_time": "2023-07-05T20:08:19.236Z"
   },
   {
    "duration": 860,
    "start_time": "2023-07-05T20:08:47.646Z"
   },
   {
    "duration": 5197,
    "start_time": "2023-07-05T20:09:47.732Z"
   },
   {
    "duration": 1013,
    "start_time": "2023-07-05T20:09:52.933Z"
   },
   {
    "duration": 681,
    "start_time": "2023-07-05T20:10:16.766Z"
   },
   {
    "duration": 726,
    "start_time": "2023-07-05T20:10:30.585Z"
   },
   {
    "duration": 5395,
    "start_time": "2023-07-05T20:10:36.065Z"
   },
   {
    "duration": 5602,
    "start_time": "2023-07-05T20:10:59.854Z"
   },
   {
    "duration": 6135,
    "start_time": "2023-07-05T20:11:33.887Z"
   },
   {
    "duration": 1047,
    "start_time": "2023-07-05T20:12:39.910Z"
   },
   {
    "duration": 6431,
    "start_time": "2023-07-05T20:13:02.998Z"
   },
   {
    "duration": 8808,
    "start_time": "2023-07-05T20:33:51.591Z"
   },
   {
    "duration": 1550,
    "start_time": "2023-07-05T20:34:25.547Z"
   },
   {
    "duration": 145,
    "start_time": "2023-07-05T20:34:27.099Z"
   },
   {
    "duration": 33,
    "start_time": "2023-07-05T20:34:27.246Z"
   },
   {
    "duration": 23,
    "start_time": "2023-07-05T20:34:27.281Z"
   },
   {
    "duration": 13,
    "start_time": "2023-07-05T20:34:27.306Z"
   },
   {
    "duration": 19,
    "start_time": "2023-07-05T20:34:27.321Z"
   },
   {
    "duration": 5,
    "start_time": "2023-07-05T20:34:27.344Z"
   },
   {
    "duration": 31,
    "start_time": "2023-07-05T20:34:27.351Z"
   },
   {
    "duration": 28,
    "start_time": "2023-07-05T20:34:27.385Z"
   },
   {
    "duration": 192,
    "start_time": "2023-07-05T20:34:27.418Z"
   },
   {
    "duration": 33,
    "start_time": "2023-07-05T20:34:27.612Z"
   },
   {
    "duration": 523,
    "start_time": "2023-07-05T20:34:27.647Z"
   },
   {
    "duration": 447,
    "start_time": "2023-07-05T20:34:28.172Z"
   },
   {
    "duration": 474,
    "start_time": "2023-07-05T20:34:28.626Z"
   },
   {
    "duration": 991,
    "start_time": "2023-07-05T20:34:29.106Z"
   },
   {
    "duration": 408,
    "start_time": "2023-07-05T20:34:30.103Z"
   },
   {
    "duration": 296,
    "start_time": "2023-07-05T20:34:30.518Z"
   },
   {
    "duration": 2101,
    "start_time": "2023-07-05T20:34:30.820Z"
   },
   {
    "duration": 1182,
    "start_time": "2023-07-05T20:34:32.928Z"
   },
   {
    "duration": 5991,
    "start_time": "2023-07-05T20:34:34.115Z"
   },
   {
    "duration": 245,
    "start_time": "2023-07-05T20:34:40.116Z"
   },
   {
    "duration": 279,
    "start_time": "2023-07-05T20:34:40.364Z"
   },
   {
    "duration": 24,
    "start_time": "2023-07-05T20:34:40.644Z"
   },
   {
    "duration": 2876,
    "start_time": "2023-07-05T20:34:40.671Z"
   },
   {
    "duration": 3,
    "start_time": "2023-07-05T20:34:43.549Z"
   },
   {
    "duration": 8986,
    "start_time": "2023-07-05T20:34:43.553Z"
   },
   {
    "duration": 0,
    "start_time": "2023-07-05T20:34:52.546Z"
   },
   {
    "duration": 8631,
    "start_time": "2023-07-05T20:35:37.964Z"
   },
   {
    "duration": 26,
    "start_time": "2023-07-05T20:39:51.208Z"
   },
   {
    "duration": 57,
    "start_time": "2023-07-05T20:42:45.110Z"
   },
   {
    "duration": 4,
    "start_time": "2023-07-05T20:43:29.403Z"
   },
   {
    "duration": 21,
    "start_time": "2023-07-05T20:43:35.089Z"
   },
   {
    "duration": 34,
    "start_time": "2023-07-05T20:43:54.867Z"
   },
   {
    "duration": 6,
    "start_time": "2023-07-05T20:44:17.275Z"
   },
   {
    "duration": 53,
    "start_time": "2023-07-05T20:44:23.708Z"
   },
   {
    "duration": 1445,
    "start_time": "2023-07-05T20:45:14.984Z"
   },
   {
    "duration": 17,
    "start_time": "2023-07-05T20:50:43.387Z"
   },
   {
    "duration": 7,
    "start_time": "2023-07-05T20:50:50.576Z"
   },
   {
    "duration": 20,
    "start_time": "2023-07-05T20:50:54.370Z"
   },
   {
    "duration": 12,
    "start_time": "2023-07-05T20:54:34.307Z"
   },
   {
    "duration": 12,
    "start_time": "2023-07-05T21:02:45.110Z"
   },
   {
    "duration": 6,
    "start_time": "2023-07-05T21:03:08.577Z"
   },
   {
    "duration": 7,
    "start_time": "2023-07-05T21:16:18.670Z"
   },
   {
    "duration": 7,
    "start_time": "2023-07-05T21:16:24.680Z"
   },
   {
    "duration": 5,
    "start_time": "2023-07-05T21:20:45.189Z"
   },
   {
    "duration": 11,
    "start_time": "2023-07-05T21:21:28.739Z"
   },
   {
    "duration": 7,
    "start_time": "2023-07-05T21:26:05.486Z"
   },
   {
    "duration": 15,
    "start_time": "2023-07-05T21:27:00.767Z"
   },
   {
    "duration": 77,
    "start_time": "2023-07-05T21:28:09.887Z"
   },
   {
    "duration": 32,
    "start_time": "2023-07-05T21:28:19.409Z"
   },
   {
    "duration": 1835,
    "start_time": "2023-07-05T21:28:35.065Z"
   },
   {
    "duration": 90,
    "start_time": "2023-07-05T21:29:21.588Z"
   },
   {
    "duration": 19,
    "start_time": "2023-07-05T21:29:34.993Z"
   },
   {
    "duration": 48,
    "start_time": "2023-07-05T21:29:46.888Z"
   },
   {
    "duration": 39,
    "start_time": "2023-07-05T21:30:05.841Z"
   },
   {
    "duration": 1523,
    "start_time": "2023-07-05T21:30:23.344Z"
   },
   {
    "duration": 1338,
    "start_time": "2023-07-05T21:30:35.880Z"
   },
   {
    "duration": 19,
    "start_time": "2023-07-05T21:30:49.192Z"
   },
   {
    "duration": 34,
    "start_time": "2023-07-05T21:31:00.131Z"
   },
   {
    "duration": 27,
    "start_time": "2023-07-05T21:31:11.562Z"
   },
   {
    "duration": 1855,
    "start_time": "2023-07-05T21:31:21.390Z"
   },
   {
    "duration": 37,
    "start_time": "2023-07-05T21:31:30.555Z"
   },
   {
    "duration": 31,
    "start_time": "2023-07-05T21:31:46.410Z"
   },
   {
    "duration": 1611,
    "start_time": "2023-07-05T21:31:55.751Z"
   },
   {
    "duration": 13,
    "start_time": "2023-07-05T21:32:19.585Z"
   },
   {
    "duration": 23,
    "start_time": "2023-07-05T21:35:25.561Z"
   },
   {
    "duration": 1541,
    "start_time": "2023-07-05T21:35:41.801Z"
   },
   {
    "duration": 1340,
    "start_time": "2023-07-05T21:35:53.318Z"
   },
   {
    "duration": 84,
    "start_time": "2023-07-05T21:36:07.197Z"
   },
   {
    "duration": 45,
    "start_time": "2023-07-05T21:36:20.011Z"
   },
   {
    "duration": 27,
    "start_time": "2023-07-05T21:36:39.241Z"
   },
   {
    "duration": 30,
    "start_time": "2023-07-05T21:36:46.905Z"
   },
   {
    "duration": 1158,
    "start_time": "2023-07-05T21:36:56.000Z"
   },
   {
    "duration": 39,
    "start_time": "2023-07-05T21:37:08.547Z"
   },
   {
    "duration": 21,
    "start_time": "2023-07-05T21:37:19.973Z"
   },
   {
    "duration": 31,
    "start_time": "2023-07-05T21:37:33.245Z"
   },
   {
    "duration": 1405,
    "start_time": "2023-07-05T21:37:50.833Z"
   },
   {
    "duration": 14,
    "start_time": "2023-07-05T21:38:04.079Z"
   },
   {
    "duration": 24,
    "start_time": "2023-07-05T21:40:03.712Z"
   },
   {
    "duration": 5,
    "start_time": "2023-07-05T21:40:38.095Z"
   },
   {
    "duration": 477,
    "start_time": "2023-07-05T21:40:38.864Z"
   },
   {
    "duration": 20,
    "start_time": "2023-07-05T21:40:39.471Z"
   },
   {
    "duration": 26,
    "start_time": "2023-07-05T21:40:40.179Z"
   },
   {
    "duration": 15,
    "start_time": "2023-07-05T21:40:41.596Z"
   },
   {
    "duration": 2004,
    "start_time": "2023-07-05T21:41:31.955Z"
   },
   {
    "duration": 127,
    "start_time": "2023-07-05T21:41:44.077Z"
   },
   {
    "duration": 68,
    "start_time": "2023-07-05T21:41:57.111Z"
   },
   {
    "duration": 22,
    "start_time": "2023-07-05T21:42:22.764Z"
   },
   {
    "duration": 38,
    "start_time": "2023-07-05T21:42:32.039Z"
   },
   {
    "duration": 121,
    "start_time": "2023-07-05T21:43:20.076Z"
   },
   {
    "duration": 1238,
    "start_time": "2023-07-05T21:43:32.603Z"
   },
   {
    "duration": 29,
    "start_time": "2023-07-05T21:43:41.242Z"
   },
   {
    "duration": 29,
    "start_time": "2023-07-05T21:44:18.938Z"
   },
   {
    "duration": 11,
    "start_time": "2023-07-05T21:45:00.642Z"
   },
   {
    "duration": 8,
    "start_time": "2023-07-05T21:45:20.277Z"
   },
   {
    "duration": 42,
    "start_time": "2023-07-05T21:47:27.907Z"
   },
   {
    "duration": 20,
    "start_time": "2023-07-05T21:48:11.518Z"
   },
   {
    "duration": 21,
    "start_time": "2023-07-05T21:48:26.891Z"
   },
   {
    "duration": 38,
    "start_time": "2023-07-05T21:48:48.018Z"
   },
   {
    "duration": 36,
    "start_time": "2023-07-05T21:52:13.098Z"
   },
   {
    "duration": 18,
    "start_time": "2023-07-05T21:52:20.627Z"
   },
   {
    "duration": 32,
    "start_time": "2023-07-05T21:55:08.482Z"
   },
   {
    "duration": 15,
    "start_time": "2023-07-05T21:55:18.393Z"
   },
   {
    "duration": 23,
    "start_time": "2023-07-05T21:55:34.777Z"
   },
   {
    "duration": 57,
    "start_time": "2023-07-05T21:56:26.241Z"
   },
   {
    "duration": 19,
    "start_time": "2023-07-05T21:56:45.635Z"
   },
   {
    "duration": 15,
    "start_time": "2023-07-05T21:58:30.896Z"
   },
   {
    "duration": 50,
    "start_time": "2023-07-05T21:59:32.011Z"
   },
   {
    "duration": 234,
    "start_time": "2023-07-05T22:03:36.760Z"
   },
   {
    "duration": 2069,
    "start_time": "2023-07-05T22:11:29.409Z"
   },
   {
    "duration": 426,
    "start_time": "2023-07-05T22:11:31.483Z"
   },
   {
    "duration": 40,
    "start_time": "2023-07-05T22:11:31.911Z"
   },
   {
    "duration": 30,
    "start_time": "2023-07-05T22:11:31.958Z"
   },
   {
    "duration": 34,
    "start_time": "2023-07-05T22:11:31.995Z"
   },
   {
    "duration": 67,
    "start_time": "2023-07-05T22:11:32.035Z"
   },
   {
    "duration": 19,
    "start_time": "2023-07-05T22:11:32.104Z"
   },
   {
    "duration": 39,
    "start_time": "2023-07-05T22:11:32.125Z"
   },
   {
    "duration": 10,
    "start_time": "2023-07-05T22:11:32.167Z"
   },
   {
    "duration": 80,
    "start_time": "2023-07-05T22:11:32.179Z"
   },
   {
    "duration": 18,
    "start_time": "2023-07-05T22:11:32.262Z"
   },
   {
    "duration": 210,
    "start_time": "2023-07-05T22:11:32.284Z"
   },
   {
    "duration": 36,
    "start_time": "2023-07-05T22:11:32.500Z"
   },
   {
    "duration": 545,
    "start_time": "2023-07-05T22:11:32.544Z"
   },
   {
    "duration": 525,
    "start_time": "2023-07-05T22:11:33.095Z"
   },
   {
    "duration": 560,
    "start_time": "2023-07-05T22:11:33.627Z"
   },
   {
    "duration": 1067,
    "start_time": "2023-07-05T22:11:34.192Z"
   },
   {
    "duration": 392,
    "start_time": "2023-07-05T22:11:35.265Z"
   },
   {
    "duration": 363,
    "start_time": "2023-07-05T22:11:35.665Z"
   },
   {
    "duration": 2046,
    "start_time": "2023-07-05T22:11:36.038Z"
   },
   {
    "duration": 1105,
    "start_time": "2023-07-05T22:11:38.090Z"
   },
   {
    "duration": 6482,
    "start_time": "2023-07-05T22:11:39.201Z"
   },
   {
    "duration": 271,
    "start_time": "2023-07-05T22:11:45.693Z"
   },
   {
    "duration": 275,
    "start_time": "2023-07-05T22:11:45.970Z"
   },
   {
    "duration": 65,
    "start_time": "2023-07-05T22:11:46.256Z"
   },
   {
    "duration": 3401,
    "start_time": "2023-07-05T22:11:46.328Z"
   },
   {
    "duration": 6,
    "start_time": "2023-07-05T22:11:49.731Z"
   },
   {
    "duration": 43,
    "start_time": "2023-07-05T22:11:49.740Z"
   },
   {
    "duration": 41,
    "start_time": "2023-07-05T22:11:49.796Z"
   },
   {
    "duration": 57,
    "start_time": "2023-07-06T13:52:53.104Z"
   },
   {
    "duration": 8,
    "start_time": "2023-07-06T13:52:53.723Z"
   },
   {
    "duration": 1541,
    "start_time": "2023-07-06T13:53:03.167Z"
   },
   {
    "duration": 228,
    "start_time": "2023-07-06T13:53:04.710Z"
   },
   {
    "duration": 18,
    "start_time": "2023-07-06T13:53:04.940Z"
   },
   {
    "duration": 24,
    "start_time": "2023-07-06T13:53:04.960Z"
   },
   {
    "duration": 9,
    "start_time": "2023-07-06T13:53:04.987Z"
   },
   {
    "duration": 24,
    "start_time": "2023-07-06T13:53:04.997Z"
   },
   {
    "duration": 10,
    "start_time": "2023-07-06T13:53:05.023Z"
   },
   {
    "duration": 38,
    "start_time": "2023-07-06T13:53:05.034Z"
   },
   {
    "duration": 9,
    "start_time": "2023-07-06T13:53:05.075Z"
   },
   {
    "duration": 26,
    "start_time": "2023-07-06T13:53:05.088Z"
   },
   {
    "duration": 9,
    "start_time": "2023-07-06T13:53:05.116Z"
   },
   {
    "duration": 131,
    "start_time": "2023-07-06T13:53:05.127Z"
   },
   {
    "duration": 22,
    "start_time": "2023-07-06T13:53:05.260Z"
   },
   {
    "duration": 336,
    "start_time": "2023-07-06T13:53:05.284Z"
   },
   {
    "duration": 315,
    "start_time": "2023-07-06T13:53:05.622Z"
   },
   {
    "duration": 413,
    "start_time": "2023-07-06T13:53:05.939Z"
   },
   {
    "duration": 693,
    "start_time": "2023-07-06T13:53:06.354Z"
   },
   {
    "duration": 321,
    "start_time": "2023-07-06T13:53:07.048Z"
   },
   {
    "duration": 238,
    "start_time": "2023-07-06T13:53:07.379Z"
   },
   {
    "duration": 1511,
    "start_time": "2023-07-06T13:53:07.619Z"
   },
   {
    "duration": 778,
    "start_time": "2023-07-06T13:53:09.132Z"
   },
   {
    "duration": 4421,
    "start_time": "2023-07-06T13:53:09.913Z"
   },
   {
    "duration": 247,
    "start_time": "2023-07-06T13:53:14.336Z"
   },
   {
    "duration": 212,
    "start_time": "2023-07-06T13:53:14.587Z"
   },
   {
    "duration": 16,
    "start_time": "2023-07-06T13:53:14.801Z"
   },
   {
    "duration": 140,
    "start_time": "2023-07-06T13:53:14.819Z"
   },
   {
    "duration": 0,
    "start_time": "2023-07-06T13:53:14.961Z"
   },
   {
    "duration": 0,
    "start_time": "2023-07-06T13:53:14.962Z"
   },
   {
    "duration": 0,
    "start_time": "2023-07-06T13:53:14.964Z"
   },
   {
    "duration": 18,
    "start_time": "2023-07-06T13:53:53.563Z"
   },
   {
    "duration": 14,
    "start_time": "2023-07-06T13:54:54.513Z"
   },
   {
    "duration": 2563,
    "start_time": "2023-07-06T13:55:06.341Z"
   },
   {
    "duration": 16,
    "start_time": "2023-07-06T13:55:21.148Z"
   },
   {
    "duration": 2362,
    "start_time": "2023-07-06T13:55:21.851Z"
   },
   {
    "duration": 14,
    "start_time": "2023-07-06T13:55:42.865Z"
   },
   {
    "duration": 2097,
    "start_time": "2023-07-06T13:55:43.366Z"
   },
   {
    "duration": 10,
    "start_time": "2023-07-06T13:56:44.357Z"
   },
   {
    "duration": 2682,
    "start_time": "2023-07-06T13:56:45.022Z"
   },
   {
    "duration": 11,
    "start_time": "2023-07-06T13:56:51.594Z"
   },
   {
    "duration": 2436,
    "start_time": "2023-07-06T13:56:52.253Z"
   },
   {
    "duration": 2051,
    "start_time": "2023-07-06T13:57:00.583Z"
   },
   {
    "duration": 0,
    "start_time": "2023-07-06T13:57:02.636Z"
   },
   {
    "duration": 18,
    "start_time": "2023-07-06T13:57:13.883Z"
   },
   {
    "duration": 2187,
    "start_time": "2023-07-06T13:57:40.635Z"
   },
   {
    "duration": 0,
    "start_time": "2023-07-06T13:57:42.824Z"
   },
   {
    "duration": 2109,
    "start_time": "2023-07-06T13:57:57.311Z"
   },
   {
    "duration": 2356,
    "start_time": "2023-07-06T13:58:28.692Z"
   },
   {
    "duration": 1140,
    "start_time": "2023-07-06T13:58:39.925Z"
   },
   {
    "duration": 130,
    "start_time": "2023-07-06T13:58:41.067Z"
   },
   {
    "duration": 18,
    "start_time": "2023-07-06T13:58:41.199Z"
   },
   {
    "duration": 13,
    "start_time": "2023-07-06T13:58:41.219Z"
   },
   {
    "duration": 6,
    "start_time": "2023-07-06T13:58:41.233Z"
   },
   {
    "duration": 44,
    "start_time": "2023-07-06T13:58:41.241Z"
   },
   {
    "duration": 11,
    "start_time": "2023-07-06T13:58:41.286Z"
   },
   {
    "duration": 16,
    "start_time": "2023-07-06T13:58:41.299Z"
   },
   {
    "duration": 5,
    "start_time": "2023-07-06T13:58:41.317Z"
   },
   {
    "duration": 48,
    "start_time": "2023-07-06T13:58:41.324Z"
   },
   {
    "duration": 12,
    "start_time": "2023-07-06T13:58:41.374Z"
   },
   {
    "duration": 119,
    "start_time": "2023-07-06T13:58:41.390Z"
   },
   {
    "duration": 15,
    "start_time": "2023-07-06T13:58:41.511Z"
   },
   {
    "duration": 324,
    "start_time": "2023-07-06T13:58:41.527Z"
   },
   {
    "duration": 311,
    "start_time": "2023-07-06T13:58:41.853Z"
   },
   {
    "duration": 372,
    "start_time": "2023-07-06T13:58:42.171Z"
   },
   {
    "duration": 749,
    "start_time": "2023-07-06T13:58:42.544Z"
   },
   {
    "duration": 295,
    "start_time": "2023-07-06T13:58:43.295Z"
   },
   {
    "duration": 223,
    "start_time": "2023-07-06T13:58:43.592Z"
   },
   {
    "duration": 1614,
    "start_time": "2023-07-06T13:58:43.817Z"
   },
   {
    "duration": 920,
    "start_time": "2023-07-06T13:58:45.432Z"
   },
   {
    "duration": 4377,
    "start_time": "2023-07-06T13:58:46.354Z"
   },
   {
    "duration": 172,
    "start_time": "2023-07-06T13:58:50.733Z"
   },
   {
    "duration": 184,
    "start_time": "2023-07-06T13:58:50.907Z"
   },
   {
    "duration": 16,
    "start_time": "2023-07-06T13:58:51.093Z"
   },
   {
    "duration": 2921,
    "start_time": "2023-07-06T13:58:51.110Z"
   },
   {
    "duration": 4,
    "start_time": "2023-07-06T13:58:54.033Z"
   },
   {
    "duration": 28,
    "start_time": "2023-07-06T13:58:54.041Z"
   },
   {
    "duration": 9,
    "start_time": "2023-07-06T13:58:54.071Z"
   },
   {
    "duration": 10,
    "start_time": "2023-07-06T13:59:46.612Z"
   },
   {
    "duration": 2179,
    "start_time": "2023-07-06T13:59:47.636Z"
   },
   {
    "duration": 8,
    "start_time": "2023-07-06T14:00:11.397Z"
   },
   {
    "duration": 2284,
    "start_time": "2023-07-06T14:00:12.449Z"
   },
   {
    "duration": 2322,
    "start_time": "2023-07-06T14:00:32.787Z"
   },
   {
    "duration": 4,
    "start_time": "2023-07-06T14:00:41.446Z"
   },
   {
    "duration": 93,
    "start_time": "2023-07-06T14:00:42.212Z"
   },
   {
    "duration": 14,
    "start_time": "2023-07-06T14:00:42.894Z"
   },
   {
    "duration": 14,
    "start_time": "2023-07-06T14:00:43.293Z"
   },
   {
    "duration": 5,
    "start_time": "2023-07-06T14:00:43.759Z"
   },
   {
    "duration": 22,
    "start_time": "2023-07-06T14:00:44.163Z"
   },
   {
    "duration": 11,
    "start_time": "2023-07-06T14:00:45.417Z"
   },
   {
    "duration": 19,
    "start_time": "2023-07-06T14:00:46.602Z"
   },
   {
    "duration": 5,
    "start_time": "2023-07-06T14:00:46.998Z"
   },
   {
    "duration": 19,
    "start_time": "2023-07-06T14:00:47.402Z"
   },
   {
    "duration": 8,
    "start_time": "2023-07-06T14:00:49.137Z"
   },
   {
    "duration": 115,
    "start_time": "2023-07-06T14:00:49.476Z"
   },
   {
    "duration": 20,
    "start_time": "2023-07-06T14:00:50.636Z"
   },
   {
    "duration": 315,
    "start_time": "2023-07-06T14:00:51.409Z"
   },
   {
    "duration": 293,
    "start_time": "2023-07-06T14:00:52.194Z"
   },
   {
    "duration": 336,
    "start_time": "2023-07-06T14:00:52.605Z"
   },
   {
    "duration": 961,
    "start_time": "2023-07-06T14:00:53.460Z"
   },
   {
    "duration": 310,
    "start_time": "2023-07-06T14:00:54.696Z"
   },
   {
    "duration": 289,
    "start_time": "2023-07-06T14:00:56.136Z"
   },
   {
    "duration": 1489,
    "start_time": "2023-07-06T14:00:57.217Z"
   },
   {
    "duration": 756,
    "start_time": "2023-07-06T14:00:58.709Z"
   },
   {
    "duration": 4410,
    "start_time": "2023-07-06T14:00:59.560Z"
   },
   {
    "duration": 233,
    "start_time": "2023-07-06T14:01:03.975Z"
   },
   {
    "duration": 239,
    "start_time": "2023-07-06T14:01:04.210Z"
   },
   {
    "duration": 14,
    "start_time": "2023-07-06T14:01:04.694Z"
   },
   {
    "duration": 2541,
    "start_time": "2023-07-06T14:01:05.388Z"
   },
   {
    "duration": 118,
    "start_time": "2023-07-06T14:13:52.681Z"
   },
   {
    "duration": 11,
    "start_time": "2023-07-06T14:14:16.047Z"
   },
   {
    "duration": 15,
    "start_time": "2023-07-06T14:14:27.137Z"
   },
   {
    "duration": 24,
    "start_time": "2023-07-06T14:27:31.456Z"
   },
   {
    "duration": 26,
    "start_time": "2023-07-06T14:30:25.802Z"
   },
   {
    "duration": 32,
    "start_time": "2023-07-06T14:30:41.922Z"
   },
   {
    "duration": 19,
    "start_time": "2023-07-06T14:31:15.942Z"
   },
   {
    "duration": 16,
    "start_time": "2023-07-06T14:31:26.944Z"
   },
   {
    "duration": 21,
    "start_time": "2023-07-06T14:31:35.541Z"
   },
   {
    "duration": 30,
    "start_time": "2023-07-06T14:32:06.952Z"
   },
   {
    "duration": 13,
    "start_time": "2023-07-06T18:08:25.367Z"
   },
   {
    "duration": 11,
    "start_time": "2023-07-06T18:08:34.143Z"
   },
   {
    "duration": 13,
    "start_time": "2023-07-06T18:18:41.730Z"
   },
   {
    "duration": 1946,
    "start_time": "2023-07-06T18:19:33.228Z"
   },
   {
    "duration": 9,
    "start_time": "2023-07-06T18:20:10.765Z"
   },
   {
    "duration": 10,
    "start_time": "2023-07-06T18:21:13.339Z"
   },
   {
    "duration": 10,
    "start_time": "2023-07-06T18:33:19.340Z"
   },
   {
    "duration": 9,
    "start_time": "2023-07-06T18:34:03.030Z"
   },
   {
    "duration": 10,
    "start_time": "2023-07-06T18:34:07.039Z"
   },
   {
    "duration": 10,
    "start_time": "2023-07-06T18:34:25.350Z"
   },
   {
    "duration": 14,
    "start_time": "2023-07-06T18:35:39.067Z"
   },
   {
    "duration": 11,
    "start_time": "2023-07-06T18:36:15.184Z"
   },
   {
    "duration": 1937,
    "start_time": "2023-07-06T18:47:04.948Z"
   },
   {
    "duration": 8,
    "start_time": "2023-07-06T18:47:38.281Z"
   },
   {
    "duration": 9,
    "start_time": "2023-07-06T18:48:06.351Z"
   },
   {
    "duration": 9,
    "start_time": "2023-07-06T18:50:40.188Z"
   },
   {
    "duration": 9,
    "start_time": "2023-07-06T18:51:20.793Z"
   },
   {
    "duration": 9,
    "start_time": "2023-07-06T18:51:26.036Z"
   },
   {
    "duration": 10,
    "start_time": "2023-07-06T18:52:15.192Z"
   },
   {
    "duration": 8,
    "start_time": "2023-07-06T18:53:20.070Z"
   },
   {
    "duration": 8,
    "start_time": "2023-07-06T18:53:49.685Z"
   },
   {
    "duration": 13,
    "start_time": "2023-07-06T18:54:24.184Z"
   },
   {
    "duration": 10,
    "start_time": "2023-07-06T18:55:05.448Z"
   },
   {
    "duration": 10,
    "start_time": "2023-07-06T18:55:18.102Z"
   },
   {
    "duration": 9,
    "start_time": "2023-07-06T18:55:23.103Z"
   },
   {
    "duration": 1133,
    "start_time": "2023-07-06T18:55:58.131Z"
   },
   {
    "duration": 70,
    "start_time": "2023-07-06T18:55:59.266Z"
   },
   {
    "duration": 23,
    "start_time": "2023-07-06T18:55:59.337Z"
   },
   {
    "duration": 14,
    "start_time": "2023-07-06T18:55:59.362Z"
   },
   {
    "duration": 5,
    "start_time": "2023-07-06T18:55:59.379Z"
   },
   {
    "duration": 15,
    "start_time": "2023-07-06T18:55:59.386Z"
   },
   {
    "duration": 9,
    "start_time": "2023-07-06T18:55:59.403Z"
   },
   {
    "duration": 11,
    "start_time": "2023-07-06T18:55:59.413Z"
   },
   {
    "duration": 4,
    "start_time": "2023-07-06T18:55:59.426Z"
   },
   {
    "duration": 18,
    "start_time": "2023-07-06T18:55:59.468Z"
   },
   {
    "duration": 6,
    "start_time": "2023-07-06T18:55:59.488Z"
   },
   {
    "duration": 126,
    "start_time": "2023-07-06T18:55:59.495Z"
   },
   {
    "duration": 13,
    "start_time": "2023-07-06T18:55:59.623Z"
   },
   {
    "duration": 291,
    "start_time": "2023-07-06T18:55:59.639Z"
   },
   {
    "duration": 266,
    "start_time": "2023-07-06T18:55:59.931Z"
   },
   {
    "duration": 319,
    "start_time": "2023-07-06T18:56:00.199Z"
   },
   {
    "duration": 655,
    "start_time": "2023-07-06T18:56:00.520Z"
   },
   {
    "duration": 261,
    "start_time": "2023-07-06T18:56:01.177Z"
   },
   {
    "duration": 212,
    "start_time": "2023-07-06T18:56:01.440Z"
   },
   {
    "duration": 1337,
    "start_time": "2023-07-06T18:56:01.654Z"
   },
   {
    "duration": 694,
    "start_time": "2023-07-06T18:56:02.993Z"
   },
   {
    "duration": 11,
    "start_time": "2023-07-06T18:56:03.689Z"
   },
   {
    "duration": 3998,
    "start_time": "2023-07-06T18:56:03.702Z"
   },
   {
    "duration": 10,
    "start_time": "2023-07-06T18:56:07.702Z"
   },
   {
    "duration": 177,
    "start_time": "2023-07-06T18:56:07.714Z"
   },
   {
    "duration": 184,
    "start_time": "2023-07-06T18:56:07.893Z"
   },
   {
    "duration": 19,
    "start_time": "2023-07-06T18:56:08.078Z"
   },
   {
    "duration": 3398,
    "start_time": "2023-07-06T18:56:08.099Z"
   },
   {
    "duration": 2,
    "start_time": "2023-07-06T18:56:11.499Z"
   },
   {
    "duration": 11,
    "start_time": "2023-07-06T18:56:11.503Z"
   },
   {
    "duration": 1913,
    "start_time": "2023-07-06T18:56:11.516Z"
   },
   {
    "duration": 0,
    "start_time": "2023-07-06T18:56:13.430Z"
   },
   {
    "duration": 0,
    "start_time": "2023-07-06T18:56:13.432Z"
   },
   {
    "duration": 1786,
    "start_time": "2023-07-06T18:57:53.810Z"
   },
   {
    "duration": 1226,
    "start_time": "2023-07-06T18:58:17.612Z"
   },
   {
    "duration": 65,
    "start_time": "2023-07-06T18:58:18.840Z"
   },
   {
    "duration": 17,
    "start_time": "2023-07-06T18:58:18.906Z"
   },
   {
    "duration": 12,
    "start_time": "2023-07-06T18:58:18.925Z"
   },
   {
    "duration": 6,
    "start_time": "2023-07-06T18:58:18.939Z"
   },
   {
    "duration": 32,
    "start_time": "2023-07-06T18:58:18.946Z"
   },
   {
    "duration": 9,
    "start_time": "2023-07-06T18:58:18.979Z"
   },
   {
    "duration": 13,
    "start_time": "2023-07-06T18:58:18.989Z"
   },
   {
    "duration": 9,
    "start_time": "2023-07-06T18:58:19.003Z"
   },
   {
    "duration": 33,
    "start_time": "2023-07-06T18:58:19.013Z"
   },
   {
    "duration": 8,
    "start_time": "2023-07-06T18:58:19.074Z"
   },
   {
    "duration": 111,
    "start_time": "2023-07-06T18:58:19.084Z"
   },
   {
    "duration": 15,
    "start_time": "2023-07-06T18:58:19.197Z"
   },
   {
    "duration": 313,
    "start_time": "2023-07-06T18:58:19.215Z"
   },
   {
    "duration": 268,
    "start_time": "2023-07-06T18:58:19.531Z"
   },
   {
    "duration": 351,
    "start_time": "2023-07-06T18:58:19.801Z"
   },
   {
    "duration": 708,
    "start_time": "2023-07-06T18:58:20.154Z"
   },
   {
    "duration": 295,
    "start_time": "2023-07-06T18:58:20.863Z"
   },
   {
    "duration": 295,
    "start_time": "2023-07-06T18:58:21.168Z"
   },
   {
    "duration": 1407,
    "start_time": "2023-07-06T18:58:21.467Z"
   },
   {
    "duration": 716,
    "start_time": "2023-07-06T18:58:22.876Z"
   },
   {
    "duration": 12,
    "start_time": "2023-07-06T18:58:23.594Z"
   },
   {
    "duration": 4259,
    "start_time": "2023-07-06T18:58:23.608Z"
   },
   {
    "duration": 9,
    "start_time": "2023-07-06T18:58:27.868Z"
   },
   {
    "duration": 162,
    "start_time": "2023-07-06T18:58:27.879Z"
   },
   {
    "duration": 162,
    "start_time": "2023-07-06T18:58:28.043Z"
   },
   {
    "duration": 18,
    "start_time": "2023-07-06T18:58:28.207Z"
   },
   {
    "duration": 3300,
    "start_time": "2023-07-06T18:58:28.226Z"
   },
   {
    "duration": 4,
    "start_time": "2023-07-06T18:58:31.527Z"
   },
   {
    "duration": 27,
    "start_time": "2023-07-06T18:58:31.532Z"
   },
   {
    "duration": 1961,
    "start_time": "2023-07-06T18:58:31.561Z"
   },
   {
    "duration": 0,
    "start_time": "2023-07-06T18:58:33.524Z"
   },
   {
    "duration": 0,
    "start_time": "2023-07-06T18:58:33.525Z"
   },
   {
    "duration": 1753,
    "start_time": "2023-07-06T18:59:06.196Z"
   },
   {
    "duration": 115,
    "start_time": "2023-07-06T19:00:00.401Z"
   },
   {
    "duration": 2040,
    "start_time": "2023-07-06T19:00:07.672Z"
   },
   {
    "duration": 1849,
    "start_time": "2023-07-06T19:00:42.891Z"
   },
   {
    "duration": 1818,
    "start_time": "2023-07-06T19:01:33.384Z"
   },
   {
    "duration": 5,
    "start_time": "2023-07-06T19:04:48.881Z"
   },
   {
    "duration": 72,
    "start_time": "2023-07-06T19:04:49.239Z"
   },
   {
    "duration": 13,
    "start_time": "2023-07-06T19:04:49.723Z"
   },
   {
    "duration": 14,
    "start_time": "2023-07-06T19:04:50.195Z"
   },
   {
    "duration": 6,
    "start_time": "2023-07-06T19:04:50.685Z"
   },
   {
    "duration": 14,
    "start_time": "2023-07-06T19:04:51.140Z"
   },
   {
    "duration": 11,
    "start_time": "2023-07-06T19:04:52.423Z"
   },
   {
    "duration": 14,
    "start_time": "2023-07-06T19:04:53.523Z"
   },
   {
    "duration": 6,
    "start_time": "2023-07-06T19:04:53.937Z"
   },
   {
    "duration": 20,
    "start_time": "2023-07-06T19:04:54.381Z"
   },
   {
    "duration": 8,
    "start_time": "2023-07-06T19:04:55.985Z"
   },
   {
    "duration": 112,
    "start_time": "2023-07-06T19:04:56.358Z"
   },
   {
    "duration": 21,
    "start_time": "2023-07-06T19:04:57.682Z"
   },
   {
    "duration": 308,
    "start_time": "2023-07-06T19:04:58.597Z"
   },
   {
    "duration": 256,
    "start_time": "2023-07-06T19:04:59.583Z"
   },
   {
    "duration": 327,
    "start_time": "2023-07-06T19:04:59.990Z"
   },
   {
    "duration": 671,
    "start_time": "2023-07-06T19:05:01.020Z"
   },
   {
    "duration": 300,
    "start_time": "2023-07-06T19:05:02.245Z"
   },
   {
    "duration": 202,
    "start_time": "2023-07-06T19:05:03.584Z"
   },
   {
    "duration": 1362,
    "start_time": "2023-07-06T19:05:04.829Z"
   },
   {
    "duration": 695,
    "start_time": "2023-07-06T19:05:07.240Z"
   },
   {
    "duration": 12,
    "start_time": "2023-07-06T19:05:08.147Z"
   },
   {
    "duration": 3869,
    "start_time": "2023-07-06T19:05:09.595Z"
   },
   {
    "duration": 9,
    "start_time": "2023-07-06T19:05:13.466Z"
   },
   {
    "duration": 168,
    "start_time": "2023-07-06T19:05:13.476Z"
   },
   {
    "duration": 174,
    "start_time": "2023-07-06T19:05:13.645Z"
   },
   {
    "duration": 20,
    "start_time": "2023-07-06T19:05:16.422Z"
   },
   {
    "duration": 3706,
    "start_time": "2023-07-06T19:05:17.331Z"
   },
   {
    "duration": 3189,
    "start_time": "2023-07-06T19:06:06.093Z"
   },
   {
    "duration": 3,
    "start_time": "2023-07-06T19:06:18.788Z"
   },
   {
    "duration": 7,
    "start_time": "2023-07-06T19:06:19.257Z"
   },
   {
    "duration": 1917,
    "start_time": "2023-07-06T19:06:25.350Z"
   },
   {
    "duration": 11,
    "start_time": "2023-07-06T19:07:26.593Z"
   },
   {
    "duration": 11,
    "start_time": "2023-07-06T19:07:34.696Z"
   },
   {
    "duration": 3278,
    "start_time": "2023-07-06T19:07:35.196Z"
   },
   {
    "duration": 1959,
    "start_time": "2023-07-06T19:07:48.400Z"
   },
   {
    "duration": 1903,
    "start_time": "2023-07-06T19:08:02.203Z"
   },
   {
    "duration": 1148,
    "start_time": "2023-07-06T19:08:26.528Z"
   },
   {
    "duration": 112,
    "start_time": "2023-07-06T19:08:27.679Z"
   },
   {
    "duration": 19,
    "start_time": "2023-07-06T19:08:27.793Z"
   },
   {
    "duration": 12,
    "start_time": "2023-07-06T19:08:27.813Z"
   },
   {
    "duration": 5,
    "start_time": "2023-07-06T19:08:27.827Z"
   },
   {
    "duration": 45,
    "start_time": "2023-07-06T19:08:27.834Z"
   },
   {
    "duration": 13,
    "start_time": "2023-07-06T19:08:27.882Z"
   },
   {
    "duration": 14,
    "start_time": "2023-07-06T19:08:27.897Z"
   },
   {
    "duration": 5,
    "start_time": "2023-07-06T19:08:27.913Z"
   },
   {
    "duration": 71,
    "start_time": "2023-07-06T19:08:27.920Z"
   },
   {
    "duration": 8,
    "start_time": "2023-07-06T19:08:27.992Z"
   },
   {
    "duration": 134,
    "start_time": "2023-07-06T19:08:28.001Z"
   },
   {
    "duration": 14,
    "start_time": "2023-07-06T19:08:28.137Z"
   },
   {
    "duration": 339,
    "start_time": "2023-07-06T19:08:28.171Z"
   },
   {
    "duration": 283,
    "start_time": "2023-07-06T19:08:28.512Z"
   },
   {
    "duration": 359,
    "start_time": "2023-07-06T19:08:28.797Z"
   },
   {
    "duration": 647,
    "start_time": "2023-07-06T19:08:29.158Z"
   },
   {
    "duration": 293,
    "start_time": "2023-07-06T19:08:29.807Z"
   },
   {
    "duration": 226,
    "start_time": "2023-07-06T19:08:30.102Z"
   },
   {
    "duration": 1345,
    "start_time": "2023-07-06T19:08:30.330Z"
   },
   {
    "duration": 788,
    "start_time": "2023-07-06T19:08:31.677Z"
   },
   {
    "duration": 11,
    "start_time": "2023-07-06T19:08:32.466Z"
   },
   {
    "duration": 4014,
    "start_time": "2023-07-06T19:08:32.478Z"
   },
   {
    "duration": 8,
    "start_time": "2023-07-06T19:08:36.494Z"
   },
   {
    "duration": 175,
    "start_time": "2023-07-06T19:08:36.504Z"
   },
   {
    "duration": 167,
    "start_time": "2023-07-06T19:08:36.680Z"
   },
   {
    "duration": 27,
    "start_time": "2023-07-06T19:08:36.848Z"
   },
   {
    "duration": 3294,
    "start_time": "2023-07-06T19:08:36.876Z"
   },
   {
    "duration": 2,
    "start_time": "2023-07-06T19:08:40.172Z"
   },
   {
    "duration": 23,
    "start_time": "2023-07-06T19:08:40.176Z"
   },
   {
    "duration": 10,
    "start_time": "2023-07-06T19:08:40.201Z"
   },
   {
    "duration": 18,
    "start_time": "2023-07-06T19:08:40.212Z"
   },
   {
    "duration": 38,
    "start_time": "2023-07-06T19:08:40.232Z"
   },
   {
    "duration": 354,
    "start_time": "2023-07-06T19:24:23.456Z"
   },
   {
    "duration": 3438,
    "start_time": "2023-07-06T20:05:42.947Z"
   },
   {
    "duration": 1156,
    "start_time": "2023-07-06T20:06:00.326Z"
   },
   {
    "duration": 138,
    "start_time": "2023-07-06T20:06:01.485Z"
   },
   {
    "duration": 18,
    "start_time": "2023-07-06T20:06:01.625Z"
   },
   {
    "duration": 61,
    "start_time": "2023-07-06T20:06:01.645Z"
   },
   {
    "duration": 50,
    "start_time": "2023-07-06T20:06:01.708Z"
   },
   {
    "duration": 28,
    "start_time": "2023-07-06T20:06:01.760Z"
   },
   {
    "duration": 13,
    "start_time": "2023-07-06T20:06:01.790Z"
   },
   {
    "duration": 23,
    "start_time": "2023-07-06T20:06:01.804Z"
   },
   {
    "duration": 29,
    "start_time": "2023-07-06T20:06:01.828Z"
   },
   {
    "duration": 44,
    "start_time": "2023-07-06T20:06:01.859Z"
   },
   {
    "duration": 30,
    "start_time": "2023-07-06T20:06:01.905Z"
   },
   {
    "duration": 148,
    "start_time": "2023-07-06T20:06:01.937Z"
   },
   {
    "duration": 18,
    "start_time": "2023-07-06T20:06:02.087Z"
   },
   {
    "duration": 338,
    "start_time": "2023-07-06T20:06:02.108Z"
   },
   {
    "duration": 323,
    "start_time": "2023-07-06T20:06:02.448Z"
   },
   {
    "duration": 355,
    "start_time": "2023-07-06T20:06:02.772Z"
   },
   {
    "duration": 686,
    "start_time": "2023-07-06T20:06:03.129Z"
   },
   {
    "duration": 307,
    "start_time": "2023-07-06T20:06:03.817Z"
   },
   {
    "duration": 258,
    "start_time": "2023-07-06T20:06:04.126Z"
   },
   {
    "duration": 1424,
    "start_time": "2023-07-06T20:06:04.386Z"
   },
   {
    "duration": 781,
    "start_time": "2023-07-06T20:06:05.812Z"
   },
   {
    "duration": 9,
    "start_time": "2023-07-06T20:06:06.595Z"
   },
   {
    "duration": 4183,
    "start_time": "2023-07-06T20:06:06.605Z"
   },
   {
    "duration": 8,
    "start_time": "2023-07-06T20:06:10.790Z"
   },
   {
    "duration": 163,
    "start_time": "2023-07-06T20:06:10.799Z"
   },
   {
    "duration": 181,
    "start_time": "2023-07-06T20:06:10.970Z"
   },
   {
    "duration": 35,
    "start_time": "2023-07-06T20:06:11.152Z"
   },
   {
    "duration": 3703,
    "start_time": "2023-07-06T20:06:11.189Z"
   },
   {
    "duration": 3,
    "start_time": "2023-07-06T20:06:14.895Z"
   },
   {
    "duration": 14,
    "start_time": "2023-07-06T20:06:14.900Z"
   },
   {
    "duration": 11,
    "start_time": "2023-07-06T20:06:14.916Z"
   },
   {
    "duration": 11,
    "start_time": "2023-07-06T20:06:14.929Z"
   },
   {
    "duration": 40,
    "start_time": "2023-07-06T20:06:14.942Z"
   },
   {
    "duration": 1206,
    "start_time": "2023-07-06T20:37:09.321Z"
   },
   {
    "duration": 120,
    "start_time": "2023-07-06T20:37:10.528Z"
   },
   {
    "duration": 17,
    "start_time": "2023-07-06T20:37:10.650Z"
   },
   {
    "duration": 17,
    "start_time": "2023-07-06T20:37:10.669Z"
   },
   {
    "duration": 22,
    "start_time": "2023-07-06T20:37:10.688Z"
   },
   {
    "duration": 57,
    "start_time": "2023-07-06T20:37:10.712Z"
   },
   {
    "duration": 17,
    "start_time": "2023-07-06T20:37:10.778Z"
   },
   {
    "duration": 34,
    "start_time": "2023-07-06T20:37:10.797Z"
   },
   {
    "duration": 21,
    "start_time": "2023-07-06T20:37:10.833Z"
   },
   {
    "duration": 47,
    "start_time": "2023-07-06T20:37:10.856Z"
   },
   {
    "duration": 25,
    "start_time": "2023-07-06T20:37:10.905Z"
   },
   {
    "duration": 125,
    "start_time": "2023-07-06T20:37:10.932Z"
   },
   {
    "duration": 29,
    "start_time": "2023-07-06T20:37:11.059Z"
   },
   {
    "duration": 358,
    "start_time": "2023-07-06T20:37:11.092Z"
   },
   {
    "duration": 294,
    "start_time": "2023-07-06T20:37:11.451Z"
   },
   {
    "duration": 387,
    "start_time": "2023-07-06T20:37:11.747Z"
   },
   {
    "duration": 738,
    "start_time": "2023-07-06T20:37:12.136Z"
   },
   {
    "duration": 293,
    "start_time": "2023-07-06T20:37:12.878Z"
   },
   {
    "duration": 221,
    "start_time": "2023-07-06T20:37:13.175Z"
   },
   {
    "duration": 1609,
    "start_time": "2023-07-06T20:37:13.398Z"
   },
   {
    "duration": 796,
    "start_time": "2023-07-06T20:37:15.009Z"
   },
   {
    "duration": 14,
    "start_time": "2023-07-06T20:37:15.807Z"
   },
   {
    "duration": 4511,
    "start_time": "2023-07-06T20:37:15.823Z"
   },
   {
    "duration": 11,
    "start_time": "2023-07-06T20:37:20.336Z"
   },
   {
    "duration": 198,
    "start_time": "2023-07-06T20:37:20.348Z"
   },
   {
    "duration": 220,
    "start_time": "2023-07-06T20:37:20.548Z"
   },
   {
    "duration": 24,
    "start_time": "2023-07-06T20:37:20.770Z"
   },
   {
    "duration": 3935,
    "start_time": "2023-07-06T20:37:20.796Z"
   },
   {
    "duration": 3,
    "start_time": "2023-07-06T20:37:24.733Z"
   },
   {
    "duration": 41,
    "start_time": "2023-07-06T20:37:24.737Z"
   },
   {
    "duration": 12,
    "start_time": "2023-07-06T20:37:24.780Z"
   },
   {
    "duration": 35,
    "start_time": "2023-07-06T20:37:24.794Z"
   },
   {
    "duration": 26,
    "start_time": "2023-07-06T20:37:24.830Z"
   },
   {
    "duration": 1051,
    "start_time": "2023-07-06T21:44:01.956Z"
   },
   {
    "duration": 87,
    "start_time": "2023-07-06T21:44:03.009Z"
   },
   {
    "duration": 17,
    "start_time": "2023-07-06T21:44:03.097Z"
   },
   {
    "duration": 17,
    "start_time": "2023-07-06T21:44:03.116Z"
   },
   {
    "duration": 14,
    "start_time": "2023-07-06T21:44:03.134Z"
   },
   {
    "duration": 21,
    "start_time": "2023-07-06T21:44:03.149Z"
   },
   {
    "duration": 22,
    "start_time": "2023-07-06T21:44:03.171Z"
   },
   {
    "duration": 11,
    "start_time": "2023-07-06T21:44:03.195Z"
   },
   {
    "duration": 16,
    "start_time": "2023-07-06T21:44:03.208Z"
   },
   {
    "duration": 22,
    "start_time": "2023-07-06T21:44:03.227Z"
   },
   {
    "duration": 8,
    "start_time": "2023-07-06T21:44:03.251Z"
   },
   {
    "duration": 124,
    "start_time": "2023-07-06T21:44:03.260Z"
   },
   {
    "duration": 20,
    "start_time": "2023-07-06T21:44:03.386Z"
   },
   {
    "duration": 297,
    "start_time": "2023-07-06T21:44:03.409Z"
   },
   {
    "duration": 245,
    "start_time": "2023-07-06T21:44:03.708Z"
   },
   {
    "duration": 294,
    "start_time": "2023-07-06T21:44:03.955Z"
   },
   {
    "duration": 575,
    "start_time": "2023-07-06T21:44:04.251Z"
   },
   {
    "duration": 237,
    "start_time": "2023-07-06T21:44:04.827Z"
   },
   {
    "duration": 192,
    "start_time": "2023-07-06T21:44:05.065Z"
   },
   {
    "duration": 1189,
    "start_time": "2023-07-06T21:44:05.258Z"
   },
   {
    "duration": 610,
    "start_time": "2023-07-06T21:44:06.448Z"
   },
   {
    "duration": 8,
    "start_time": "2023-07-06T21:44:07.059Z"
   },
   {
    "duration": 3195,
    "start_time": "2023-07-06T21:44:07.069Z"
   },
   {
    "duration": 8,
    "start_time": "2023-07-06T21:44:10.265Z"
   },
   {
    "duration": 160,
    "start_time": "2023-07-06T21:44:10.275Z"
   },
   {
    "duration": 153,
    "start_time": "2023-07-06T21:44:10.436Z"
   },
   {
    "duration": 23,
    "start_time": "2023-07-06T21:44:10.590Z"
   },
   {
    "duration": 2814,
    "start_time": "2023-07-06T21:44:10.616Z"
   },
   {
    "duration": 2,
    "start_time": "2023-07-06T21:44:13.432Z"
   },
   {
    "duration": 9,
    "start_time": "2023-07-06T21:44:13.435Z"
   },
   {
    "duration": 7,
    "start_time": "2023-07-06T21:44:13.445Z"
   },
   {
    "duration": 11,
    "start_time": "2023-07-06T21:44:13.453Z"
   },
   {
    "duration": 12,
    "start_time": "2023-07-06T21:44:13.465Z"
   },
   {
    "duration": 1065,
    "start_time": "2023-07-06T22:02:28.114Z"
   },
   {
    "duration": 68,
    "start_time": "2023-07-06T22:02:29.181Z"
   },
   {
    "duration": 15,
    "start_time": "2023-07-06T22:02:29.251Z"
   },
   {
    "duration": 11,
    "start_time": "2023-07-06T22:02:29.268Z"
   },
   {
    "duration": 5,
    "start_time": "2023-07-06T22:02:29.280Z"
   },
   {
    "duration": 14,
    "start_time": "2023-07-06T22:02:29.286Z"
   },
   {
    "duration": 9,
    "start_time": "2023-07-06T22:02:29.302Z"
   },
   {
    "duration": 12,
    "start_time": "2023-07-06T22:02:29.312Z"
   },
   {
    "duration": 4,
    "start_time": "2023-07-06T22:02:29.326Z"
   },
   {
    "duration": 23,
    "start_time": "2023-07-06T22:02:29.332Z"
   },
   {
    "duration": 7,
    "start_time": "2023-07-06T22:02:29.357Z"
   },
   {
    "duration": 124,
    "start_time": "2023-07-06T22:02:29.365Z"
   },
   {
    "duration": 13,
    "start_time": "2023-07-06T22:02:29.500Z"
   },
   {
    "duration": 291,
    "start_time": "2023-07-06T22:02:29.515Z"
   },
   {
    "duration": 241,
    "start_time": "2023-07-06T22:02:29.808Z"
   },
   {
    "duration": 302,
    "start_time": "2023-07-06T22:02:30.051Z"
   },
   {
    "duration": 572,
    "start_time": "2023-07-06T22:02:30.354Z"
   },
   {
    "duration": 236,
    "start_time": "2023-07-06T22:02:30.928Z"
   },
   {
    "duration": 185,
    "start_time": "2023-07-06T22:02:31.166Z"
   },
   {
    "duration": 1132,
    "start_time": "2023-07-06T22:02:31.353Z"
   },
   {
    "duration": 611,
    "start_time": "2023-07-06T22:02:32.488Z"
   },
   {
    "duration": 8,
    "start_time": "2023-07-06T22:02:33.101Z"
   },
   {
    "duration": 3446,
    "start_time": "2023-07-06T22:02:33.111Z"
   },
   {
    "duration": 8,
    "start_time": "2023-07-06T22:02:36.558Z"
   },
   {
    "duration": 150,
    "start_time": "2023-07-06T22:02:36.568Z"
   },
   {
    "duration": 159,
    "start_time": "2023-07-06T22:02:36.719Z"
   },
   {
    "duration": 28,
    "start_time": "2023-07-06T22:02:36.879Z"
   },
   {
    "duration": 2838,
    "start_time": "2023-07-06T22:02:36.908Z"
   },
   {
    "duration": 2,
    "start_time": "2023-07-06T22:02:39.748Z"
   },
   {
    "duration": 18,
    "start_time": "2023-07-06T22:02:39.752Z"
   },
   {
    "duration": 22,
    "start_time": "2023-07-06T22:02:39.771Z"
   },
   {
    "duration": 12,
    "start_time": "2023-07-06T22:02:39.794Z"
   },
   {
    "duration": 33,
    "start_time": "2023-07-06T22:02:39.808Z"
   },
   {
    "duration": 335,
    "start_time": "2023-07-06T22:04:55.481Z"
   },
   {
    "duration": 108,
    "start_time": "2023-07-06T22:14:24.865Z"
   },
   {
    "duration": 55,
    "start_time": "2023-07-07T11:31:53.133Z"
   },
   {
    "duration": 1844,
    "start_time": "2023-07-07T11:31:59.817Z"
   },
   {
    "duration": 132,
    "start_time": "2023-07-07T11:32:01.663Z"
   },
   {
    "duration": 54,
    "start_time": "2023-07-07T11:32:01.796Z"
   },
   {
    "duration": 61,
    "start_time": "2023-07-07T11:32:01.852Z"
   },
   {
    "duration": 66,
    "start_time": "2023-07-07T11:32:01.914Z"
   },
   {
    "duration": 18,
    "start_time": "2023-07-07T11:32:02.250Z"
   },
   {
    "duration": 10,
    "start_time": "2023-07-07T11:32:03.730Z"
   },
   {
    "duration": 23,
    "start_time": "2023-07-07T11:32:05.897Z"
   },
   {
    "duration": 16,
    "start_time": "2023-07-07T11:32:06.430Z"
   },
   {
    "duration": 27,
    "start_time": "2023-07-07T11:32:07.027Z"
   },
   {
    "duration": 303,
    "start_time": "2023-07-07T11:32:07.854Z"
   },
   {
    "duration": 762,
    "start_time": "2023-07-07T11:33:30.661Z"
   },
   {
    "duration": 249,
    "start_time": "2023-07-07T11:33:42.116Z"
   },
   {
    "duration": 191,
    "start_time": "2023-07-07T11:34:36.170Z"
   },
   {
    "duration": 95,
    "start_time": "2023-07-07T11:35:09.187Z"
   },
   {
    "duration": 210,
    "start_time": "2023-07-07T11:42:54.569Z"
   },
   {
    "duration": 685,
    "start_time": "2023-07-07T11:45:39.834Z"
   },
   {
    "duration": 439,
    "start_time": "2023-07-07T11:46:11.188Z"
   },
   {
    "duration": 25,
    "start_time": "2023-07-07T12:04:10.644Z"
   },
   {
    "duration": 152,
    "start_time": "2023-07-07T13:23:19.735Z"
   }
  ],
  "kernelspec": {
   "display_name": "Python 3 (ipykernel)",
   "language": "python",
   "name": "python3"
  },
  "language_info": {
   "codemirror_mode": {
    "name": "ipython",
    "version": 3
   },
   "file_extension": ".py",
   "mimetype": "text/x-python",
   "name": "python",
   "nbconvert_exporter": "python",
   "pygments_lexer": "ipython3",
   "version": "3.10.9"
  },
  "toc": {
   "base_numbering": 1,
   "nav_menu": {},
   "number_sections": true,
   "sideBar": true,
   "skip_h1_title": true,
   "title_cell": "Table of Contents",
   "title_sidebar": "Contents",
   "toc_cell": false,
   "toc_position": {},
   "toc_section_display": true,
   "toc_window_display": true
  }
 },
 "nbformat": 4,
 "nbformat_minor": 2
}
