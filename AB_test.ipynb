{
 "cells": [
  {
   "cell_type": "markdown",
   "metadata": {},
   "source": [
    "# Проверка гипотиз для увеличения прибыли "
   ]
  },
  {
   "cell_type": "markdown",
   "metadata": {},
   "source": [
    "**Описание проекта**"
   ]
  },
  {
   "cell_type": "markdown",
   "metadata": {},
   "source": [
    "Вместе с отделом маркетинга вы подготовили список гипотез для увеличения выручки.\n",
    "Приоритизируйте гипотезы, запустите A/B-тест и проанализируйте результаты"
   ]
  },
  {
   "cell_type": "markdown",
   "metadata": {},
   "source": [
    "**Цель проекта**"
   ]
  },
  {
   "cell_type": "markdown",
   "metadata": {},
   "source": [
    "Проверить гипотизы и выяснить как увеличить прибыль компании"
   ]
  },
  {
   "cell_type": "markdown",
   "metadata": {},
   "source": [
    "**План исследования**"
   ]
  },
  {
   "cell_type": "markdown",
   "metadata": {},
   "source": [
    "- Обзор и предобработка данных;\n",
    "- Приоритизация гипотез;\n",
    "- Анализ A/B-теста;\n",
    "- Выводы по всей работе."
   ]
  },
  {
   "cell_type": "markdown",
   "metadata": {},
   "source": [
    "## Обзор и предобработка данных"
   ]
  },
  {
   "cell_type": "code",
   "execution_count": 1,
   "metadata": {},
   "outputs": [],
   "source": [
    "# импорт библиотек\n",
    "\n",
    "import pandas as pd\n",
    "import numpy as np\n",
    "import matplotlib.pyplot as plt\n",
    "import seaborn as sns\n",
    "import math\n",
    "import datetime as dt\n",
    "import scipy.stats as stats\n",
    "import warnings\n",
    "\n",
    "from scipy import stats as st\n",
    "\n",
    "pd.set_option('display.max_colwidth', 200)"
   ]
  },
  {
   "cell_type": "code",
   "execution_count": 2,
   "metadata": {},
   "outputs": [
    {
     "name": "stdout",
     "output_type": "stream",
     "text": [
      "<class 'pandas.core.frame.DataFrame'>\n",
      "RangeIndex: 9 entries, 0 to 8\n",
      "Data columns (total 5 columns):\n",
      " #   Column      Non-Null Count  Dtype \n",
      "---  ------      --------------  ----- \n",
      " 0   Hypothesis  9 non-null      object\n",
      " 1   Reach       9 non-null      int64 \n",
      " 2   Impact      9 non-null      int64 \n",
      " 3   Confidence  9 non-null      int64 \n",
      " 4   Efforts     9 non-null      int64 \n",
      "dtypes: int64(4), object(1)\n",
      "memory usage: 488.0+ bytes\n",
      "<class 'pandas.core.frame.DataFrame'>\n",
      "RangeIndex: 1197 entries, 0 to 1196\n",
      "Data columns (total 5 columns):\n",
      " #   Column         Non-Null Count  Dtype \n",
      "---  ------         --------------  ----- \n",
      " 0   transactionId  1197 non-null   int64 \n",
      " 1   visitorId      1197 non-null   int64 \n",
      " 2   date           1197 non-null   object\n",
      " 3   revenue        1197 non-null   int64 \n",
      " 4   group          1197 non-null   object\n",
      "dtypes: int64(3), object(2)\n",
      "memory usage: 46.9+ KB\n",
      "<class 'pandas.core.frame.DataFrame'>\n",
      "RangeIndex: 62 entries, 0 to 61\n",
      "Data columns (total 3 columns):\n",
      " #   Column    Non-Null Count  Dtype \n",
      "---  ------    --------------  ----- \n",
      " 0   date      62 non-null     object\n",
      " 1   group     62 non-null     object\n",
      " 2   visitors  62 non-null     int64 \n",
      "dtypes: int64(1), object(2)\n",
      "memory usage: 1.6+ KB\n"
     ]
    }
   ],
   "source": [
    "# выгрузим файлы \n",
    "\n",
    "hypothesis = pd.read_csv('/datasets/hypothesis.csv')\n",
    "orders = pd.read_csv('/datasets/orders.csv')\n",
    "visitors = pd.read_csv('/datasets/visitors.csv')\n",
    "\n",
    "# посмотрим типы данных всех файлов\n",
    "\n",
    "hypothesis.info()\n",
    "orders.info()\n",
    "visitors.info()"
   ]
  },
  {
   "cell_type": "code",
   "execution_count": 3,
   "metadata": {},
   "outputs": [
    {
     "data": {
      "text/html": [
       "<div>\n",
       "<style scoped>\n",
       "    .dataframe tbody tr th:only-of-type {\n",
       "        vertical-align: middle;\n",
       "    }\n",
       "\n",
       "    .dataframe tbody tr th {\n",
       "        vertical-align: top;\n",
       "    }\n",
       "\n",
       "    .dataframe thead th {\n",
       "        text-align: right;\n",
       "    }\n",
       "</style>\n",
       "<table border=\"1\" class=\"dataframe\">\n",
       "  <thead>\n",
       "    <tr style=\"text-align: right;\">\n",
       "      <th></th>\n",
       "      <th>Hypothesis</th>\n",
       "      <th>Reach</th>\n",
       "      <th>Impact</th>\n",
       "      <th>Confidence</th>\n",
       "      <th>Efforts</th>\n",
       "    </tr>\n",
       "  </thead>\n",
       "  <tbody>\n",
       "    <tr>\n",
       "      <th>0</th>\n",
       "      <td>Добавить два новых канала привлечения трафика, что позволит привлекать на 30% больше пользователей</td>\n",
       "      <td>3</td>\n",
       "      <td>10</td>\n",
       "      <td>8</td>\n",
       "      <td>6</td>\n",
       "    </tr>\n",
       "    <tr>\n",
       "      <th>1</th>\n",
       "      <td>Запустить собственную службу доставки, что сократит срок доставки заказов</td>\n",
       "      <td>2</td>\n",
       "      <td>5</td>\n",
       "      <td>4</td>\n",
       "      <td>10</td>\n",
       "    </tr>\n",
       "    <tr>\n",
       "      <th>2</th>\n",
       "      <td>Добавить блоки рекомендаций товаров на сайт интернет магазина, чтобы повысить конверсию и средний чек заказа</td>\n",
       "      <td>8</td>\n",
       "      <td>3</td>\n",
       "      <td>7</td>\n",
       "      <td>3</td>\n",
       "    </tr>\n",
       "    <tr>\n",
       "      <th>3</th>\n",
       "      <td>Изменить структура категорий, что увеличит конверсию, т.к. пользователи быстрее найдут нужный товар</td>\n",
       "      <td>8</td>\n",
       "      <td>3</td>\n",
       "      <td>3</td>\n",
       "      <td>8</td>\n",
       "    </tr>\n",
       "    <tr>\n",
       "      <th>4</th>\n",
       "      <td>Изменить цвет фона главной страницы, чтобы увеличить вовлеченность пользователей</td>\n",
       "      <td>3</td>\n",
       "      <td>1</td>\n",
       "      <td>1</td>\n",
       "      <td>1</td>\n",
       "    </tr>\n",
       "    <tr>\n",
       "      <th>5</th>\n",
       "      <td>Добавить страницу отзывов клиентов о магазине, что позволит увеличить количество заказов</td>\n",
       "      <td>3</td>\n",
       "      <td>2</td>\n",
       "      <td>2</td>\n",
       "      <td>3</td>\n",
       "    </tr>\n",
       "    <tr>\n",
       "      <th>6</th>\n",
       "      <td>Показать на главной странице баннеры с актуальными акциями и распродажами, чтобы увеличить конверсию</td>\n",
       "      <td>5</td>\n",
       "      <td>3</td>\n",
       "      <td>8</td>\n",
       "      <td>3</td>\n",
       "    </tr>\n",
       "    <tr>\n",
       "      <th>7</th>\n",
       "      <td>Добавить форму подписки на все основные страницы, чтобы собрать базу клиентов для email-рассылок</td>\n",
       "      <td>10</td>\n",
       "      <td>7</td>\n",
       "      <td>8</td>\n",
       "      <td>5</td>\n",
       "    </tr>\n",
       "    <tr>\n",
       "      <th>8</th>\n",
       "      <td>Запустить акцию, дающую скидку на товар в день рождения</td>\n",
       "      <td>1</td>\n",
       "      <td>9</td>\n",
       "      <td>9</td>\n",
       "      <td>5</td>\n",
       "    </tr>\n",
       "  </tbody>\n",
       "</table>\n",
       "</div>"
      ],
      "text/plain": [
       "                                                                                                     Hypothesis  \\\n",
       "0            Добавить два новых канала привлечения трафика, что позволит привлекать на 30% больше пользователей   \n",
       "1                                     Запустить собственную службу доставки, что сократит срок доставки заказов   \n",
       "2  Добавить блоки рекомендаций товаров на сайт интернет магазина, чтобы повысить конверсию и средний чек заказа   \n",
       "3           Изменить структура категорий, что увеличит конверсию, т.к. пользователи быстрее найдут нужный товар   \n",
       "4                              Изменить цвет фона главной страницы, чтобы увеличить вовлеченность пользователей   \n",
       "5                      Добавить страницу отзывов клиентов о магазине, что позволит увеличить количество заказов   \n",
       "6          Показать на главной странице баннеры с актуальными акциями и распродажами, чтобы увеличить конверсию   \n",
       "7              Добавить форму подписки на все основные страницы, чтобы собрать базу клиентов для email-рассылок   \n",
       "8                                                       Запустить акцию, дающую скидку на товар в день рождения   \n",
       "\n",
       "   Reach  Impact  Confidence  Efforts  \n",
       "0      3      10           8        6  \n",
       "1      2       5           4       10  \n",
       "2      8       3           7        3  \n",
       "3      8       3           3        8  \n",
       "4      3       1           1        1  \n",
       "5      3       2           2        3  \n",
       "6      5       3           8        3  \n",
       "7     10       7           8        5  \n",
       "8      1       9           9        5  "
      ]
     },
     "execution_count": 3,
     "metadata": {},
     "output_type": "execute_result"
    }
   ],
   "source": [
    "hypothesis"
   ]
  },
  {
   "cell_type": "code",
   "execution_count": 4,
   "metadata": {},
   "outputs": [
    {
     "data": {
      "text/html": [
       "<div>\n",
       "<style scoped>\n",
       "    .dataframe tbody tr th:only-of-type {\n",
       "        vertical-align: middle;\n",
       "    }\n",
       "\n",
       "    .dataframe tbody tr th {\n",
       "        vertical-align: top;\n",
       "    }\n",
       "\n",
       "    .dataframe thead th {\n",
       "        text-align: right;\n",
       "    }\n",
       "</style>\n",
       "<table border=\"1\" class=\"dataframe\">\n",
       "  <thead>\n",
       "    <tr style=\"text-align: right;\">\n",
       "      <th></th>\n",
       "      <th>transactionId</th>\n",
       "      <th>visitorId</th>\n",
       "      <th>date</th>\n",
       "      <th>revenue</th>\n",
       "      <th>group</th>\n",
       "    </tr>\n",
       "  </thead>\n",
       "  <tbody>\n",
       "    <tr>\n",
       "      <th>0</th>\n",
       "      <td>3667963787</td>\n",
       "      <td>3312258926</td>\n",
       "      <td>2019-08-15</td>\n",
       "      <td>1650</td>\n",
       "      <td>B</td>\n",
       "    </tr>\n",
       "    <tr>\n",
       "      <th>1</th>\n",
       "      <td>2804400009</td>\n",
       "      <td>3642806036</td>\n",
       "      <td>2019-08-15</td>\n",
       "      <td>730</td>\n",
       "      <td>B</td>\n",
       "    </tr>\n",
       "    <tr>\n",
       "      <th>2</th>\n",
       "      <td>2961555356</td>\n",
       "      <td>4069496402</td>\n",
       "      <td>2019-08-15</td>\n",
       "      <td>400</td>\n",
       "      <td>A</td>\n",
       "    </tr>\n",
       "    <tr>\n",
       "      <th>3</th>\n",
       "      <td>3797467345</td>\n",
       "      <td>1196621759</td>\n",
       "      <td>2019-08-15</td>\n",
       "      <td>9759</td>\n",
       "      <td>B</td>\n",
       "    </tr>\n",
       "    <tr>\n",
       "      <th>4</th>\n",
       "      <td>2282983706</td>\n",
       "      <td>2322279887</td>\n",
       "      <td>2019-08-15</td>\n",
       "      <td>2308</td>\n",
       "      <td>B</td>\n",
       "    </tr>\n",
       "    <tr>\n",
       "      <th>5</th>\n",
       "      <td>182168103</td>\n",
       "      <td>935554773</td>\n",
       "      <td>2019-08-15</td>\n",
       "      <td>2210</td>\n",
       "      <td>B</td>\n",
       "    </tr>\n",
       "    <tr>\n",
       "      <th>6</th>\n",
       "      <td>398296753</td>\n",
       "      <td>2900797465</td>\n",
       "      <td>2019-08-15</td>\n",
       "      <td>1860</td>\n",
       "      <td>B</td>\n",
       "    </tr>\n",
       "    <tr>\n",
       "      <th>7</th>\n",
       "      <td>2626614568</td>\n",
       "      <td>78758296</td>\n",
       "      <td>2019-08-15</td>\n",
       "      <td>1044</td>\n",
       "      <td>A</td>\n",
       "    </tr>\n",
       "    <tr>\n",
       "      <th>8</th>\n",
       "      <td>1576988021</td>\n",
       "      <td>295230930</td>\n",
       "      <td>2019-08-15</td>\n",
       "      <td>13710</td>\n",
       "      <td>A</td>\n",
       "    </tr>\n",
       "    <tr>\n",
       "      <th>9</th>\n",
       "      <td>1506739906</td>\n",
       "      <td>1882260405</td>\n",
       "      <td>2019-08-15</td>\n",
       "      <td>1855</td>\n",
       "      <td>B</td>\n",
       "    </tr>\n",
       "  </tbody>\n",
       "</table>\n",
       "</div>"
      ],
      "text/plain": [
       "   transactionId   visitorId        date  revenue group\n",
       "0     3667963787  3312258926  2019-08-15     1650     B\n",
       "1     2804400009  3642806036  2019-08-15      730     B\n",
       "2     2961555356  4069496402  2019-08-15      400     A\n",
       "3     3797467345  1196621759  2019-08-15     9759     B\n",
       "4     2282983706  2322279887  2019-08-15     2308     B\n",
       "5      182168103   935554773  2019-08-15     2210     B\n",
       "6      398296753  2900797465  2019-08-15     1860     B\n",
       "7     2626614568    78758296  2019-08-15     1044     A\n",
       "8     1576988021   295230930  2019-08-15    13710     A\n",
       "9     1506739906  1882260405  2019-08-15     1855     B"
      ]
     },
     "execution_count": 4,
     "metadata": {},
     "output_type": "execute_result"
    }
   ],
   "source": [
    "orders.head(10)"
   ]
  },
  {
   "cell_type": "code",
   "execution_count": 5,
   "metadata": {},
   "outputs": [
    {
     "data": {
      "text/html": [
       "<div>\n",
       "<style scoped>\n",
       "    .dataframe tbody tr th:only-of-type {\n",
       "        vertical-align: middle;\n",
       "    }\n",
       "\n",
       "    .dataframe tbody tr th {\n",
       "        vertical-align: top;\n",
       "    }\n",
       "\n",
       "    .dataframe thead th {\n",
       "        text-align: right;\n",
       "    }\n",
       "</style>\n",
       "<table border=\"1\" class=\"dataframe\">\n",
       "  <thead>\n",
       "    <tr style=\"text-align: right;\">\n",
       "      <th></th>\n",
       "      <th>date</th>\n",
       "      <th>group</th>\n",
       "      <th>visitors</th>\n",
       "    </tr>\n",
       "  </thead>\n",
       "  <tbody>\n",
       "    <tr>\n",
       "      <th>0</th>\n",
       "      <td>2019-08-01</td>\n",
       "      <td>A</td>\n",
       "      <td>719</td>\n",
       "    </tr>\n",
       "    <tr>\n",
       "      <th>1</th>\n",
       "      <td>2019-08-02</td>\n",
       "      <td>A</td>\n",
       "      <td>619</td>\n",
       "    </tr>\n",
       "    <tr>\n",
       "      <th>2</th>\n",
       "      <td>2019-08-03</td>\n",
       "      <td>A</td>\n",
       "      <td>507</td>\n",
       "    </tr>\n",
       "    <tr>\n",
       "      <th>3</th>\n",
       "      <td>2019-08-04</td>\n",
       "      <td>A</td>\n",
       "      <td>717</td>\n",
       "    </tr>\n",
       "    <tr>\n",
       "      <th>4</th>\n",
       "      <td>2019-08-05</td>\n",
       "      <td>A</td>\n",
       "      <td>756</td>\n",
       "    </tr>\n",
       "    <tr>\n",
       "      <th>5</th>\n",
       "      <td>2019-08-06</td>\n",
       "      <td>A</td>\n",
       "      <td>667</td>\n",
       "    </tr>\n",
       "    <tr>\n",
       "      <th>6</th>\n",
       "      <td>2019-08-07</td>\n",
       "      <td>A</td>\n",
       "      <td>644</td>\n",
       "    </tr>\n",
       "    <tr>\n",
       "      <th>7</th>\n",
       "      <td>2019-08-08</td>\n",
       "      <td>A</td>\n",
       "      <td>610</td>\n",
       "    </tr>\n",
       "    <tr>\n",
       "      <th>8</th>\n",
       "      <td>2019-08-09</td>\n",
       "      <td>A</td>\n",
       "      <td>617</td>\n",
       "    </tr>\n",
       "    <tr>\n",
       "      <th>9</th>\n",
       "      <td>2019-08-10</td>\n",
       "      <td>A</td>\n",
       "      <td>406</td>\n",
       "    </tr>\n",
       "  </tbody>\n",
       "</table>\n",
       "</div>"
      ],
      "text/plain": [
       "         date group  visitors\n",
       "0  2019-08-01     A       719\n",
       "1  2019-08-02     A       619\n",
       "2  2019-08-03     A       507\n",
       "3  2019-08-04     A       717\n",
       "4  2019-08-05     A       756\n",
       "5  2019-08-06     A       667\n",
       "6  2019-08-07     A       644\n",
       "7  2019-08-08     A       610\n",
       "8  2019-08-09     A       617\n",
       "9  2019-08-10     A       406"
      ]
     },
     "execution_count": 5,
     "metadata": {},
     "output_type": "execute_result"
    }
   ],
   "source": [
    "visitors.head(10)"
   ]
  },
  {
   "cell_type": "code",
   "execution_count": 6,
   "metadata": {},
   "outputs": [
    {
     "name": "stdout",
     "output_type": "stream",
     "text": [
      "Index(['hypothesis', 'reach', 'impact', 'confidence', 'efforts'], dtype='object')\n",
      "Index(['transaction_id', 'visitor_id', 'date', 'revenue', 'group'], dtype='object')\n"
     ]
    }
   ],
   "source": [
    "# Переименуем столбцы\n",
    "\n",
    "hypothesis.columns = hypothesis.columns.str.lower()\n",
    "orders = orders.rename(columns = {'transactionId':'transaction_id', 'visitorId':'visitor_id'})\n",
    "print(hypothesis.columns)\n",
    "print(orders.columns)"
   ]
  },
  {
   "cell_type": "code",
   "execution_count": 7,
   "metadata": {},
   "outputs": [
    {
     "name": "stdout",
     "output_type": "stream",
     "text": [
      "Посетители:\n",
      " date        0\n",
      "group       0\n",
      "visitors    0\n",
      "dtype: int64\n",
      "Дубликаты посетителей: 0\n",
      "Заказы:\n",
      " transaction_id    0\n",
      "visitor_id        0\n",
      "date              0\n",
      "revenue           0\n",
      "group             0\n",
      "dtype: int64\n",
      "Дубликаты заказов: 0\n",
      "Гипотезы:\n",
      " hypothesis    0\n",
      "reach         0\n",
      "impact        0\n",
      "confidence    0\n",
      "efforts       0\n",
      "dtype: int64\n",
      "Дубликаты гипотез: 0\n"
     ]
    }
   ],
   "source": [
    "# Проверим количество пропусков и явных дубликатов\n",
    "\n",
    "print('Посетители:\\n',visitors.isna().sum())\n",
    "print('Дубликаты посетителей:', visitors.duplicated().sum())\n",
    "\n",
    "print('Заказы:\\n',orders.isna().sum())\n",
    "print('Дубликаты заказов:', orders.duplicated().sum())\n",
    "\n",
    "print('Гипотезы:\\n',hypothesis.isna().sum())\n",
    "print('Дубликаты гипотез:', hypothesis.duplicated().sum())"
   ]
  },
  {
   "cell_type": "code",
   "execution_count": 8,
   "metadata": {},
   "outputs": [
    {
     "name": "stdout",
     "output_type": "stream",
     "text": [
      "<class 'pandas.core.frame.DataFrame'>\n",
      "RangeIndex: 62 entries, 0 to 61\n",
      "Data columns (total 3 columns):\n",
      " #   Column    Non-Null Count  Dtype         \n",
      "---  ------    --------------  -----         \n",
      " 0   date      62 non-null     datetime64[ns]\n",
      " 1   group     62 non-null     object        \n",
      " 2   visitors  62 non-null     int64         \n",
      "dtypes: datetime64[ns](1), int64(1), object(1)\n",
      "memory usage: 1.6+ KB\n",
      "<class 'pandas.core.frame.DataFrame'>\n",
      "RangeIndex: 1197 entries, 0 to 1196\n",
      "Data columns (total 5 columns):\n",
      " #   Column          Non-Null Count  Dtype         \n",
      "---  ------          --------------  -----         \n",
      " 0   transaction_id  1197 non-null   int64         \n",
      " 1   visitor_id      1197 non-null   int64         \n",
      " 2   date            1197 non-null   datetime64[ns]\n",
      " 3   revenue         1197 non-null   int64         \n",
      " 4   group           1197 non-null   object        \n",
      "dtypes: datetime64[ns](1), int64(3), object(1)\n",
      "memory usage: 46.9+ KB\n"
     ]
    }
   ],
   "source": [
    "# Переведем даты к нужному типу \n",
    "\n",
    "visitors['date'] = pd.to_datetime(visitors['date'])\n",
    "orders['date'] = pd.to_datetime(orders['date'])\n",
    "\n",
    "visitors.info()\n",
    "orders.info()"
   ]
  },
  {
   "cell_type": "markdown",
   "metadata": {},
   "source": [
    "**Вывод:** данные подготовила к анализу, заменила тип данных в стобдцах с датой. Так же заменила нозвания столбцов и привела их к нижниму регистру в соответствии с этикетом. Явных дубликатов и пропусков не обнаружила."
   ]
  },
  {
   "cell_type": "markdown",
   "metadata": {},
   "source": [
    "## Приоритизация гипотез"
   ]
  },
  {
   "cell_type": "code",
   "execution_count": 9,
   "metadata": {},
   "outputs": [
    {
     "data": {
      "text/html": [
       "<div>\n",
       "<style scoped>\n",
       "    .dataframe tbody tr th:only-of-type {\n",
       "        vertical-align: middle;\n",
       "    }\n",
       "\n",
       "    .dataframe tbody tr th {\n",
       "        vertical-align: top;\n",
       "    }\n",
       "\n",
       "    .dataframe thead th {\n",
       "        text-align: right;\n",
       "    }\n",
       "</style>\n",
       "<table border=\"1\" class=\"dataframe\">\n",
       "  <thead>\n",
       "    <tr style=\"text-align: right;\">\n",
       "      <th></th>\n",
       "      <th>hypothesis</th>\n",
       "      <th>ice</th>\n",
       "    </tr>\n",
       "  </thead>\n",
       "  <tbody>\n",
       "    <tr>\n",
       "      <th>8</th>\n",
       "      <td>Запустить акцию, дающую скидку на товар в день рождения</td>\n",
       "      <td>16.200000</td>\n",
       "    </tr>\n",
       "    <tr>\n",
       "      <th>0</th>\n",
       "      <td>Добавить два новых канала привлечения трафика, что позволит привлекать на 30% больше пользователей</td>\n",
       "      <td>13.333333</td>\n",
       "    </tr>\n",
       "    <tr>\n",
       "      <th>7</th>\n",
       "      <td>Добавить форму подписки на все основные страницы, чтобы собрать базу клиентов для email-рассылок</td>\n",
       "      <td>11.200000</td>\n",
       "    </tr>\n",
       "    <tr>\n",
       "      <th>6</th>\n",
       "      <td>Показать на главной странице баннеры с актуальными акциями и распродажами, чтобы увеличить конверсию</td>\n",
       "      <td>8.000000</td>\n",
       "    </tr>\n",
       "    <tr>\n",
       "      <th>2</th>\n",
       "      <td>Добавить блоки рекомендаций товаров на сайт интернет магазина, чтобы повысить конверсию и средний чек заказа</td>\n",
       "      <td>7.000000</td>\n",
       "    </tr>\n",
       "    <tr>\n",
       "      <th>1</th>\n",
       "      <td>Запустить собственную службу доставки, что сократит срок доставки заказов</td>\n",
       "      <td>2.000000</td>\n",
       "    </tr>\n",
       "    <tr>\n",
       "      <th>5</th>\n",
       "      <td>Добавить страницу отзывов клиентов о магазине, что позволит увеличить количество заказов</td>\n",
       "      <td>1.333333</td>\n",
       "    </tr>\n",
       "    <tr>\n",
       "      <th>3</th>\n",
       "      <td>Изменить структура категорий, что увеличит конверсию, т.к. пользователи быстрее найдут нужный товар</td>\n",
       "      <td>1.125000</td>\n",
       "    </tr>\n",
       "    <tr>\n",
       "      <th>4</th>\n",
       "      <td>Изменить цвет фона главной страницы, чтобы увеличить вовлеченность пользователей</td>\n",
       "      <td>1.000000</td>\n",
       "    </tr>\n",
       "  </tbody>\n",
       "</table>\n",
       "</div>"
      ],
      "text/plain": [
       "                                                                                                     hypothesis  \\\n",
       "8                                                       Запустить акцию, дающую скидку на товар в день рождения   \n",
       "0            Добавить два новых канала привлечения трафика, что позволит привлекать на 30% больше пользователей   \n",
       "7              Добавить форму подписки на все основные страницы, чтобы собрать базу клиентов для email-рассылок   \n",
       "6          Показать на главной странице баннеры с актуальными акциями и распродажами, чтобы увеличить конверсию   \n",
       "2  Добавить блоки рекомендаций товаров на сайт интернет магазина, чтобы повысить конверсию и средний чек заказа   \n",
       "1                                     Запустить собственную службу доставки, что сократит срок доставки заказов   \n",
       "5                      Добавить страницу отзывов клиентов о магазине, что позволит увеличить количество заказов   \n",
       "3           Изменить структура категорий, что увеличит конверсию, т.к. пользователи быстрее найдут нужный товар   \n",
       "4                              Изменить цвет фона главной страницы, чтобы увеличить вовлеченность пользователей   \n",
       "\n",
       "         ice  \n",
       "8  16.200000  \n",
       "0  13.333333  \n",
       "7  11.200000  \n",
       "6   8.000000  \n",
       "2   7.000000  \n",
       "1   2.000000  \n",
       "5   1.333333  \n",
       "3   1.125000  \n",
       "4   1.000000  "
      ]
     },
     "execution_count": 9,
     "metadata": {},
     "output_type": "execute_result"
    }
   ],
   "source": [
    "# Метод ICE \n",
    "\n",
    "hypothesis['ice'] = hypothesis['impact'] * hypothesis['confidence'] / hypothesis['efforts']\n",
    "\n",
    "hypothesis[['hypothesis', 'ice']].sort_values(by='ice', ascending=False)"
   ]
  },
  {
   "cell_type": "code",
   "execution_count": 10,
   "metadata": {},
   "outputs": [
    {
     "data": {
      "text/html": [
       "<div>\n",
       "<style scoped>\n",
       "    .dataframe tbody tr th:only-of-type {\n",
       "        vertical-align: middle;\n",
       "    }\n",
       "\n",
       "    .dataframe tbody tr th {\n",
       "        vertical-align: top;\n",
       "    }\n",
       "\n",
       "    .dataframe thead th {\n",
       "        text-align: right;\n",
       "    }\n",
       "</style>\n",
       "<table border=\"1\" class=\"dataframe\">\n",
       "  <thead>\n",
       "    <tr style=\"text-align: right;\">\n",
       "      <th></th>\n",
       "      <th>hypothesis</th>\n",
       "      <th>rice</th>\n",
       "    </tr>\n",
       "  </thead>\n",
       "  <tbody>\n",
       "    <tr>\n",
       "      <th>7</th>\n",
       "      <td>Добавить форму подписки на все основные страницы, чтобы собрать базу клиентов для email-рассылок</td>\n",
       "      <td>112.0</td>\n",
       "    </tr>\n",
       "    <tr>\n",
       "      <th>2</th>\n",
       "      <td>Добавить блоки рекомендаций товаров на сайт интернет магазина, чтобы повысить конверсию и средний чек заказа</td>\n",
       "      <td>56.0</td>\n",
       "    </tr>\n",
       "    <tr>\n",
       "      <th>0</th>\n",
       "      <td>Добавить два новых канала привлечения трафика, что позволит привлекать на 30% больше пользователей</td>\n",
       "      <td>40.0</td>\n",
       "    </tr>\n",
       "    <tr>\n",
       "      <th>6</th>\n",
       "      <td>Показать на главной странице баннеры с актуальными акциями и распродажами, чтобы увеличить конверсию</td>\n",
       "      <td>40.0</td>\n",
       "    </tr>\n",
       "    <tr>\n",
       "      <th>8</th>\n",
       "      <td>Запустить акцию, дающую скидку на товар в день рождения</td>\n",
       "      <td>16.2</td>\n",
       "    </tr>\n",
       "    <tr>\n",
       "      <th>3</th>\n",
       "      <td>Изменить структура категорий, что увеличит конверсию, т.к. пользователи быстрее найдут нужный товар</td>\n",
       "      <td>9.0</td>\n",
       "    </tr>\n",
       "    <tr>\n",
       "      <th>1</th>\n",
       "      <td>Запустить собственную службу доставки, что сократит срок доставки заказов</td>\n",
       "      <td>4.0</td>\n",
       "    </tr>\n",
       "    <tr>\n",
       "      <th>5</th>\n",
       "      <td>Добавить страницу отзывов клиентов о магазине, что позволит увеличить количество заказов</td>\n",
       "      <td>4.0</td>\n",
       "    </tr>\n",
       "    <tr>\n",
       "      <th>4</th>\n",
       "      <td>Изменить цвет фона главной страницы, чтобы увеличить вовлеченность пользователей</td>\n",
       "      <td>3.0</td>\n",
       "    </tr>\n",
       "  </tbody>\n",
       "</table>\n",
       "</div>"
      ],
      "text/plain": [
       "                                                                                                     hypothesis  \\\n",
       "7              Добавить форму подписки на все основные страницы, чтобы собрать базу клиентов для email-рассылок   \n",
       "2  Добавить блоки рекомендаций товаров на сайт интернет магазина, чтобы повысить конверсию и средний чек заказа   \n",
       "0            Добавить два новых канала привлечения трафика, что позволит привлекать на 30% больше пользователей   \n",
       "6          Показать на главной странице баннеры с актуальными акциями и распродажами, чтобы увеличить конверсию   \n",
       "8                                                       Запустить акцию, дающую скидку на товар в день рождения   \n",
       "3           Изменить структура категорий, что увеличит конверсию, т.к. пользователи быстрее найдут нужный товар   \n",
       "1                                     Запустить собственную службу доставки, что сократит срок доставки заказов   \n",
       "5                      Добавить страницу отзывов клиентов о магазине, что позволит увеличить количество заказов   \n",
       "4                              Изменить цвет фона главной страницы, чтобы увеличить вовлеченность пользователей   \n",
       "\n",
       "    rice  \n",
       "7  112.0  \n",
       "2   56.0  \n",
       "0   40.0  \n",
       "6   40.0  \n",
       "8   16.2  \n",
       "3    9.0  \n",
       "1    4.0  \n",
       "5    4.0  \n",
       "4    3.0  "
      ]
     },
     "execution_count": 10,
     "metadata": {},
     "output_type": "execute_result"
    }
   ],
   "source": [
    "# Метод RICE\n",
    "\n",
    "hypothesis['rice'] = hypothesis['reach'] * hypothesis['impact'] * hypothesis['confidence'] / hypothesis['efforts']\n",
    "\n",
    "hypothesis[['hypothesis', 'rice']].sort_values(by='rice', ascending=False)"
   ]
  },
  {
   "cell_type": "code",
   "execution_count": 11,
   "metadata": {},
   "outputs": [
    {
     "data": {
      "text/html": [
       "<div>\n",
       "<style scoped>\n",
       "    .dataframe tbody tr th:only-of-type {\n",
       "        vertical-align: middle;\n",
       "    }\n",
       "\n",
       "    .dataframe tbody tr th {\n",
       "        vertical-align: top;\n",
       "    }\n",
       "\n",
       "    .dataframe thead th {\n",
       "        text-align: right;\n",
       "    }\n",
       "</style>\n",
       "<table border=\"1\" class=\"dataframe\">\n",
       "  <thead>\n",
       "    <tr style=\"text-align: right;\">\n",
       "      <th></th>\n",
       "      <th>hypothesis</th>\n",
       "      <th>ice</th>\n",
       "      <th>rice</th>\n",
       "    </tr>\n",
       "  </thead>\n",
       "  <tbody>\n",
       "    <tr>\n",
       "      <th>7</th>\n",
       "      <td>Добавить форму подписки на все основные страницы, чтобы собрать базу клиентов для email-рассылок</td>\n",
       "      <td>11.200000</td>\n",
       "      <td>112.0</td>\n",
       "    </tr>\n",
       "    <tr>\n",
       "      <th>2</th>\n",
       "      <td>Добавить блоки рекомендаций товаров на сайт интернет магазина, чтобы повысить конверсию и средний чек заказа</td>\n",
       "      <td>7.000000</td>\n",
       "      <td>56.0</td>\n",
       "    </tr>\n",
       "    <tr>\n",
       "      <th>0</th>\n",
       "      <td>Добавить два новых канала привлечения трафика, что позволит привлекать на 30% больше пользователей</td>\n",
       "      <td>13.333333</td>\n",
       "      <td>40.0</td>\n",
       "    </tr>\n",
       "    <tr>\n",
       "      <th>6</th>\n",
       "      <td>Показать на главной странице баннеры с актуальными акциями и распродажами, чтобы увеличить конверсию</td>\n",
       "      <td>8.000000</td>\n",
       "      <td>40.0</td>\n",
       "    </tr>\n",
       "    <tr>\n",
       "      <th>8</th>\n",
       "      <td>Запустить акцию, дающую скидку на товар в день рождения</td>\n",
       "      <td>16.200000</td>\n",
       "      <td>16.2</td>\n",
       "    </tr>\n",
       "  </tbody>\n",
       "</table>\n",
       "</div>"
      ],
      "text/plain": [
       "                                                                                                     hypothesis  \\\n",
       "7              Добавить форму подписки на все основные страницы, чтобы собрать базу клиентов для email-рассылок   \n",
       "2  Добавить блоки рекомендаций товаров на сайт интернет магазина, чтобы повысить конверсию и средний чек заказа   \n",
       "0            Добавить два новых канала привлечения трафика, что позволит привлекать на 30% больше пользователей   \n",
       "6          Показать на главной странице баннеры с актуальными акциями и распродажами, чтобы увеличить конверсию   \n",
       "8                                                       Запустить акцию, дающую скидку на товар в день рождения   \n",
       "\n",
       "         ice   rice  \n",
       "7  11.200000  112.0  \n",
       "2   7.000000   56.0  \n",
       "0  13.333333   40.0  \n",
       "6   8.000000   40.0  \n",
       "8  16.200000   16.2  "
      ]
     },
     "execution_count": 11,
     "metadata": {},
     "output_type": "execute_result"
    }
   ],
   "source": [
    "# Соединим полученные таблицы \n",
    "\n",
    "hypothesis[['hypothesis','ice', 'rice']].sort_values(by='rice', ascending=False).head(5)"
   ]
  },
  {
   "cell_type": "markdown",
   "metadata": {},
   "source": [
    "**Вывод:** приотезация гипотиз изменилась тк в методе RICE учитывается охват пользователй а в ICE - нет. Тау же вывела топ 5 самых приоритетных гипотез. На мой взгляд, одна из самых выиграшных гипотез: \"Добавить форму подписки на все основные страницы, чтобы собрать базу клиентов для email-рассылок\", у нее высокие показатели и по RICE и по ICE."
   ]
  },
  {
   "cell_type": "markdown",
   "metadata": {},
   "source": [
    "## Анализ A/B-теста"
   ]
  },
  {
   "cell_type": "markdown",
   "metadata": {},
   "source": [
    "### Кумулятивные метрики"
   ]
  },
  {
   "cell_type": "code",
   "execution_count": 12,
   "metadata": {},
   "outputs": [
    {
     "data": {
      "text/html": [
       "<div>\n",
       "<style scoped>\n",
       "    .dataframe tbody tr th:only-of-type {\n",
       "        vertical-align: middle;\n",
       "    }\n",
       "\n",
       "    .dataframe tbody tr th {\n",
       "        vertical-align: top;\n",
       "    }\n",
       "\n",
       "    .dataframe thead th {\n",
       "        text-align: right;\n",
       "    }\n",
       "</style>\n",
       "<table border=\"1\" class=\"dataframe\">\n",
       "  <thead>\n",
       "    <tr style=\"text-align: right;\">\n",
       "      <th></th>\n",
       "      <th>date</th>\n",
       "      <th>group</th>\n",
       "      <th>transaction_id</th>\n",
       "      <th>visitor_id</th>\n",
       "      <th>revenue</th>\n",
       "    </tr>\n",
       "  </thead>\n",
       "  <tbody>\n",
       "    <tr>\n",
       "      <th>55</th>\n",
       "      <td>2019-08-01</td>\n",
       "      <td>A</td>\n",
       "      <td>24</td>\n",
       "      <td>20</td>\n",
       "      <td>148579</td>\n",
       "    </tr>\n",
       "    <tr>\n",
       "      <th>66</th>\n",
       "      <td>2019-08-01</td>\n",
       "      <td>B</td>\n",
       "      <td>21</td>\n",
       "      <td>20</td>\n",
       "      <td>101217</td>\n",
       "    </tr>\n",
       "    <tr>\n",
       "      <th>175</th>\n",
       "      <td>2019-08-02</td>\n",
       "      <td>A</td>\n",
       "      <td>44</td>\n",
       "      <td>38</td>\n",
       "      <td>242401</td>\n",
       "    </tr>\n",
       "    <tr>\n",
       "      <th>173</th>\n",
       "      <td>2019-08-02</td>\n",
       "      <td>B</td>\n",
       "      <td>45</td>\n",
       "      <td>43</td>\n",
       "      <td>266748</td>\n",
       "    </tr>\n",
       "    <tr>\n",
       "      <th>291</th>\n",
       "      <td>2019-08-03</td>\n",
       "      <td>A</td>\n",
       "      <td>68</td>\n",
       "      <td>62</td>\n",
       "      <td>354874</td>\n",
       "    </tr>\n",
       "  </tbody>\n",
       "</table>\n",
       "</div>"
      ],
      "text/plain": [
       "          date group  transaction_id  visitor_id  revenue\n",
       "55  2019-08-01     A              24          20   148579\n",
       "66  2019-08-01     B              21          20   101217\n",
       "175 2019-08-02     A              44          38   242401\n",
       "173 2019-08-02     B              45          43   266748\n",
       "291 2019-08-03     A              68          62   354874"
      ]
     },
     "execution_count": 12,
     "metadata": {},
     "output_type": "execute_result"
    }
   ],
   "source": [
    "# Создадим датафрейм с уникальными значениями 'data' и 'group' таблицы orders и избавимся от дубликатов\n",
    "\n",
    "datesGroups = orders[['date', 'group']].drop_duplicates()\n",
    "\n",
    "# получаем агрегированные кумулятивные по дням данные о заказах \n",
    "\n",
    "ordersAggregated = datesGroups.apply(\n",
    "    lambda x: orders[\n",
    "        np.logical_and(\n",
    "            orders['date'] <= x['date'], orders['group'] == x['group']\n",
    "        )\n",
    "    ].agg(\n",
    "        {\n",
    "            'date': 'max',\n",
    "            'group': 'max',\n",
    "            'transaction_id': 'nunique',\n",
    "            'visitor_id': 'nunique',\n",
    "            'revenue': 'sum',\n",
    "        }\n",
    "    ),\n",
    "    axis=1,\n",
    ").sort_values(by=['date', 'group'])\n",
    "\n",
    "ordersAggregated.head(5)"
   ]
  },
  {
   "cell_type": "code",
   "execution_count": 13,
   "metadata": {},
   "outputs": [
    {
     "data": {
      "text/html": [
       "<div>\n",
       "<style scoped>\n",
       "    .dataframe tbody tr th:only-of-type {\n",
       "        vertical-align: middle;\n",
       "    }\n",
       "\n",
       "    .dataframe tbody tr th {\n",
       "        vertical-align: top;\n",
       "    }\n",
       "\n",
       "    .dataframe thead th {\n",
       "        text-align: right;\n",
       "    }\n",
       "</style>\n",
       "<table border=\"1\" class=\"dataframe\">\n",
       "  <thead>\n",
       "    <tr style=\"text-align: right;\">\n",
       "      <th></th>\n",
       "      <th>date</th>\n",
       "      <th>group</th>\n",
       "      <th>visitors</th>\n",
       "    </tr>\n",
       "  </thead>\n",
       "  <tbody>\n",
       "    <tr>\n",
       "      <th>55</th>\n",
       "      <td>2019-08-01</td>\n",
       "      <td>A</td>\n",
       "      <td>719</td>\n",
       "    </tr>\n",
       "    <tr>\n",
       "      <th>66</th>\n",
       "      <td>2019-08-01</td>\n",
       "      <td>B</td>\n",
       "      <td>713</td>\n",
       "    </tr>\n",
       "    <tr>\n",
       "      <th>175</th>\n",
       "      <td>2019-08-02</td>\n",
       "      <td>A</td>\n",
       "      <td>1338</td>\n",
       "    </tr>\n",
       "    <tr>\n",
       "      <th>173</th>\n",
       "      <td>2019-08-02</td>\n",
       "      <td>B</td>\n",
       "      <td>1294</td>\n",
       "    </tr>\n",
       "    <tr>\n",
       "      <th>291</th>\n",
       "      <td>2019-08-03</td>\n",
       "      <td>A</td>\n",
       "      <td>1845</td>\n",
       "    </tr>\n",
       "  </tbody>\n",
       "</table>\n",
       "</div>"
      ],
      "text/plain": [
       "          date group  visitors\n",
       "55  2019-08-01     A       719\n",
       "66  2019-08-01     B       713\n",
       "175 2019-08-02     A      1338\n",
       "173 2019-08-02     B      1294\n",
       "291 2019-08-03     A      1845"
      ]
     },
     "execution_count": 13,
     "metadata": {},
     "output_type": "execute_result"
    }
   ],
   "source": [
    "# получаем агрегированные кумулятивные по дням данные о посетителях интернет-магазина\n",
    "\n",
    "visitorsAggregated = datesGroups.apply(\n",
    "    lambda x: visitors[\n",
    "        np.logical_and(\n",
    "            visitors['date'] <= x['date'], visitors['group'] == x['group']\n",
    "        )\n",
    "    ].agg({'date': 'max', 'group': 'max', 'visitors': 'sum'}),\n",
    "    axis=1,\n",
    ").sort_values(by=['date', 'group'])\n",
    "visitorsAggregated.head(5)"
   ]
  },
  {
   "cell_type": "code",
   "execution_count": 14,
   "metadata": {},
   "outputs": [
    {
     "data": {
      "text/html": [
       "<div>\n",
       "<style scoped>\n",
       "    .dataframe tbody tr th:only-of-type {\n",
       "        vertical-align: middle;\n",
       "    }\n",
       "\n",
       "    .dataframe tbody tr th {\n",
       "        vertical-align: top;\n",
       "    }\n",
       "\n",
       "    .dataframe thead th {\n",
       "        text-align: right;\n",
       "    }\n",
       "</style>\n",
       "<table border=\"1\" class=\"dataframe\">\n",
       "  <thead>\n",
       "    <tr style=\"text-align: right;\">\n",
       "      <th></th>\n",
       "      <th>date</th>\n",
       "      <th>group</th>\n",
       "      <th>orders</th>\n",
       "      <th>buyers</th>\n",
       "      <th>revenue</th>\n",
       "      <th>visitors</th>\n",
       "      <th>conversion</th>\n",
       "    </tr>\n",
       "  </thead>\n",
       "  <tbody>\n",
       "    <tr>\n",
       "      <th>0</th>\n",
       "      <td>2019-08-01</td>\n",
       "      <td>A</td>\n",
       "      <td>24</td>\n",
       "      <td>20</td>\n",
       "      <td>148579</td>\n",
       "      <td>719</td>\n",
       "      <td>0.033380</td>\n",
       "    </tr>\n",
       "    <tr>\n",
       "      <th>1</th>\n",
       "      <td>2019-08-01</td>\n",
       "      <td>B</td>\n",
       "      <td>21</td>\n",
       "      <td>20</td>\n",
       "      <td>101217</td>\n",
       "      <td>713</td>\n",
       "      <td>0.029453</td>\n",
       "    </tr>\n",
       "    <tr>\n",
       "      <th>2</th>\n",
       "      <td>2019-08-02</td>\n",
       "      <td>A</td>\n",
       "      <td>44</td>\n",
       "      <td>38</td>\n",
       "      <td>242401</td>\n",
       "      <td>1338</td>\n",
       "      <td>0.032885</td>\n",
       "    </tr>\n",
       "    <tr>\n",
       "      <th>3</th>\n",
       "      <td>2019-08-02</td>\n",
       "      <td>B</td>\n",
       "      <td>45</td>\n",
       "      <td>43</td>\n",
       "      <td>266748</td>\n",
       "      <td>1294</td>\n",
       "      <td>0.034776</td>\n",
       "    </tr>\n",
       "    <tr>\n",
       "      <th>4</th>\n",
       "      <td>2019-08-03</td>\n",
       "      <td>A</td>\n",
       "      <td>68</td>\n",
       "      <td>62</td>\n",
       "      <td>354874</td>\n",
       "      <td>1845</td>\n",
       "      <td>0.036856</td>\n",
       "    </tr>\n",
       "  </tbody>\n",
       "</table>\n",
       "</div>"
      ],
      "text/plain": [
       "        date group  orders  buyers  revenue  visitors  conversion\n",
       "0 2019-08-01     A      24      20   148579       719    0.033380\n",
       "1 2019-08-01     B      21      20   101217       713    0.029453\n",
       "2 2019-08-02     A      44      38   242401      1338    0.032885\n",
       "3 2019-08-02     B      45      43   266748      1294    0.034776\n",
       "4 2019-08-03     A      68      62   354874      1845    0.036856"
      ]
     },
     "execution_count": 14,
     "metadata": {},
     "output_type": "execute_result"
    }
   ],
   "source": [
    "# объединяем кумулятивные данные в одной таблице и добавляем конверсию\n",
    "\n",
    "cumulativeData = ordersAggregated.merge(\n",
    "    visitorsAggregated, left_on=['date', 'group'], right_on=['date', 'group']\n",
    ")\n",
    "\n",
    "cumulativeData.columns = [\n",
    "    'date',\n",
    "    'group',\n",
    "    'orders',\n",
    "    'buyers',\n",
    "    'revenue',\n",
    "    'visitors',\n",
    "]\n",
    "\n",
    "cumulativeData['conversion'] = (\n",
    "    cumulativeData['orders'] / cumulativeData['visitors']\n",
    ")\n",
    "\n",
    "cumulativeData.head(5)"
   ]
  },
  {
   "cell_type": "code",
   "execution_count": 15,
   "metadata": {},
   "outputs": [
    {
     "data": {
      "image/png": "[encoded data removed]",
      "text/plain": [
       "<Figure size 432x288 with 1 Axes>"
      ]
     },
     "metadata": {
      "needs_background": "light"
     },
     "output_type": "display_data"
    }
   ],
   "source": [
    "# Строим график кумулятивной выручки по дням группы\n",
    "\n",
    "cumulativeRevenueA = cumulativeData[cumulativeData['group']=='A'][['date','revenue', 'orders']]\n",
    "\n",
    "cumulativeRevenueB = cumulativeData[cumulativeData['group']=='B'][['date','revenue', 'orders']]\n",
    "\n",
    "plt.plot(cumulativeRevenueA['date'], cumulativeRevenueA['revenue'], label='A')\n",
    "plt.plot(cumulativeRevenueB['date'], cumulativeRevenueB['revenue'], label='B')\n",
    "plt.title('График кумулятивной выручки по дням групп')\n",
    "plt.ylabel(\"Выручка\")\n",
    "plt.xticks(rotation=90)\n",
    "plt.legend()\n",
    "plt.show()"
   ]
  },
  {
   "cell_type": "markdown",
   "metadata": {},
   "source": [
    "**Вывод:** кумулятивная выручка у группы А меньше чем у группы В. В группе В есть довольно резкое изменение в период с 17 августа до 21 августа 2019 года, возможно было резкое увеличение заказов или дорогая покупка."
   ]
  },
  {
   "cell_type": "code",
   "execution_count": 16,
   "metadata": {},
   "outputs": [
    {
     "data": {
      "image/png": "[encoded data removed]",
      "text/plain": [
       "<Figure size 432x288 with 1 Axes>"
      ]
     },
     "metadata": {
      "needs_background": "light"
     },
     "output_type": "display_data"
    }
   ],
   "source": [
    "#Строим графики кумулятивного среднего чека по дням\n",
    "\n",
    "plt.plot(cumulativeRevenueA['date'], cumulativeRevenueA['revenue']/cumulativeRevenueA['orders'], label='A')\n",
    "plt.plot(cumulativeRevenueB['date'], cumulativeRevenueB['revenue']/cumulativeRevenueB['orders'], label='B')\n",
    "plt.title('Графики кумулятивного среднего чека по дням')\n",
    "plt.ylabel(\"Средний чек\")\n",
    "plt.xticks(rotation=90)\n",
    "plt.legend()\n",
    "plt.show()"
   ]
  },
  {
   "cell_type": "markdown",
   "metadata": {},
   "source": [
    "**Вывод:** кумулятивный средний чек у группы В выше. У группы В был резкий скачек  в тот же период, скорее всего была дорогая покупака.Сначала не долгое время лидировала группа А, почти на следуйщий день первенство перехватила группа В и почти все время лидиковала  (только 13-08-2019 группе А удалось увеличить средний чек). Обе группых стабилизировались к концу графика."
   ]
  },
  {
   "cell_type": "code",
   "execution_count": 17,
   "metadata": {},
   "outputs": [
    {
     "data": {
      "image/png": "[encoded data removed]",
      "text/plain": [
       "<Figure size 432x288 with 1 Axes>"
      ]
     },
     "metadata": {
      "needs_background": "light"
     },
     "output_type": "display_data"
    }
   ],
   "source": [
    "#Строим график относительно различия кумулятивного среднего чека группы B к группе A. \n",
    "\n",
    "mergedCumulativeRevenue = cumulativeRevenueA.merge(cumulativeRevenueB, left_on='date', right_on='date', how='left', suffixes=['A', 'B'])\n",
    "plt.plot(mergedCumulativeRevenue['date'], (mergedCumulativeRevenue['revenueB']/mergedCumulativeRevenue['ordersB'])/(mergedCumulativeRevenue['revenueA']/mergedCumulativeRevenue['ordersA'])-1)\n",
    "\n",
    "# добавляем ось X\n",
    "plt.axhline(y=0, color='black', linestyle='--') \n",
    "plt.title('График относительного изменения кумулятивного среднего чека группы B к группе A')\n",
    "plt.xticks(rotation=90)\n",
    "plt.show()"
   ]
  },
  {
   "cell_type": "markdown",
   "metadata": {},
   "source": [
    "**Вывод:** график резко меняется в некоторых местах, что говорит нам  крупных покупках."
   ]
  },
  {
   "cell_type": "code",
   "execution_count": 18,
   "metadata": {},
   "outputs": [
    {
     "data": {
      "image/png": "[encoded data removed]",
      "text/plain": [
       "<Figure size 432x288 with 1 Axes>"
      ]
     },
     "metadata": {
      "needs_background": "light"
     },
     "output_type": "display_data"
    }
   ],
   "source": [
    "# Построим графики кумулятивной конверсии по дням по группам.\n",
    "\n",
    "cumulativeData['conversion'] = cumulativeData['orders']/cumulativeData['visitors']\n",
    "cumulativeDataA = cumulativeData[cumulativeData['group']=='A']\n",
    "cumulativeDataB = cumulativeData[cumulativeData['group']=='B']\n",
    "\n",
    "plt.plot(cumulativeDataA['date'], cumulativeDataA['conversion'], label='A')\n",
    "plt.plot(cumulativeDataB['date'], cumulativeDataB['conversion'], label='B')\n",
    "plt.legend()\n",
    "plt.title('Кумулятивная конверсия по дням по группам')\n",
    "plt.ylabel('Количество заказов')\n",
    "plt.xticks(rotation=90)\n",
    "plt.show()"
   ]
  },
  {
   "cell_type": "markdown",
   "metadata": {},
   "source": [
    "**Вывод:** количество заказов выше у группы В. В начале графика обе группы сделали резкий скачек, дальше их количество заказов выровнилось, первенство всзяла группа В."
   ]
  },
  {
   "cell_type": "code",
   "execution_count": 19,
   "metadata": {},
   "outputs": [
    {
     "data": {
      "image/png": "[encoded data removed]",
      "text/plain": [
       "<Figure size 432x288 with 1 Axes>"
      ]
     },
     "metadata": {
      "needs_background": "light"
     },
     "output_type": "display_data"
    }
   ],
   "source": [
    "# Построим график относительного различия кумулятивной конверсии группы B к группе A.\n",
    "\n",
    "mergedCumulativeConversions = cumulativeDataA[['date','conversion']].merge(cumulativeDataB[['date','conversion']], left_on='date', right_on='date', how='left', suffixes=['A', 'B'])\n",
    "\n",
    "plt.plot(mergedCumulativeConversions['date'], mergedCumulativeConversions['conversionB']/mergedCumulativeConversions['conversionA']-1, label=\"Относительный прирост количества заказов группы B относительно группы A\")\n",
    "plt.legend()\n",
    "\n",
    "plt.axhline(y=0, color='black', linestyle='--')\n",
    "plt.axhline(y=0.15, color='grey', linestyle='--')\n",
    "plt.xticks(rotation=90)\n",
    "plt.show()"
   ]
  },
  {
   "cell_type": "markdown",
   "metadata": {},
   "source": [
    "**Вывод:** количество заказов группы В выше чем у группы А, количество заказов сначала растет, потом падает, затем снова растет. График зафиксировался примерно около 0,14."
   ]
  },
  {
   "cell_type": "markdown",
   "metadata": {},
   "source": [
    "### Анализ выбросов и всплесков: крайние значения данных"
   ]
  },
  {
   "cell_type": "code",
   "execution_count": 20,
   "metadata": {},
   "outputs": [
    {
     "name": "stdout",
     "output_type": "stream",
     "text": [
      "      visitor_id  orders\n",
      "1023  4256040402      11\n",
      "591   2458001652      11\n",
      "569   2378935119       9\n",
      "487   2038680547       8\n",
      "44     199603092       5\n",
      "744   3062433592       5\n",
      "55     237748145       5\n",
      "917   3803269165       5\n",
      "299   1230306981       5\n",
      "897   3717692402       5\n"
     ]
    },
    {
     "data": {
      "image/png": "[encoded data removed]",
      "text/plain": [
       "<Figure size 432x288 with 1 Axes>"
      ]
     },
     "metadata": {
      "needs_background": "light"
     },
     "output_type": "display_data"
    }
   ],
   "source": [
    "# Построим гистограмму распределения числа заказов\n",
    "\n",
    "ordersByUsers = (\n",
    "    orders.groupby('visitor_id', as_index=False)\n",
    "    .agg({'transaction_id': 'nunique'})\n",
    ")\n",
    "ordersByUsers.columns = ['visitor_id', 'orders']\n",
    "print(ordersByUsers.sort_values(by='orders', ascending=False).head(10))\n",
    "\n",
    "plt.hist(ordersByUsers['orders']) \n",
    "plt.title('Распределение числа заказов')\n",
    "plt.xlabel('Количество заказов')\n",
    "plt.ylabel('Количество пользователей')\n",
    "plt.show()"
   ]
  },
  {
   "cell_type": "markdown",
   "metadata": {},
   "source": [
    "**Вывод:** большинство пользователей сделали 1 заказ, но есть два пользователя которые сделали по 11 заказов."
   ]
  },
  {
   "cell_type": "code",
   "execution_count": 21,
   "metadata": {},
   "outputs": [
    {
     "data": {
      "image/png": "[encoded data removed]",
      "text/plain": [
       "<Figure size 432x288 with 1 Axes>"
      ]
     },
     "metadata": {
      "needs_background": "light"
     },
     "output_type": "display_data"
    }
   ],
   "source": [
    "# Построим диаграмму распределения числа заказов\n",
    "\n",
    "x_values = pd.Series(range(0, len(ordersByUsers)))\n",
    "plt.scatter(x_values, ordersByUsers['orders']) \n",
    "plt.title('Распределение числа заказов')\n",
    "plt.xlabel('Количество пользователей')\n",
    "plt.show()"
   ]
  },
  {
   "cell_type": "markdown",
   "metadata": {},
   "source": [
    "**Вывод:** есть пользователи которые сделали по 2-3 заказа, что бы проверить являются ли они аномальными, посчитаем выборочные перцентили."
   ]
  },
  {
   "cell_type": "code",
   "execution_count": 22,
   "metadata": {},
   "outputs": [
    {
     "data": {
      "text/plain": [
       "array([2., 4.])"
      ]
     },
     "execution_count": 22,
     "metadata": {},
     "output_type": "execute_result"
    }
   ],
   "source": [
    "np.percentile(ordersByUsers['orders'], [95, 99])"
   ]
  },
  {
   "cell_type": "markdown",
   "metadata": {},
   "source": [
    "**Вывод:** не больше 5% пользователей сделали 2 и больше заказа. Верхнюю границу возьмем 4 заказа на одного пользователя."
   ]
  },
  {
   "cell_type": "code",
   "execution_count": 23,
   "metadata": {},
   "outputs": [
    {
     "name": "stdout",
     "output_type": "stream",
     "text": [
      "      transaction_id  visitor_id       date  revenue group\n",
      "425        590470918  1920142716 2019-08-19  1294500     B\n",
      "1196      3936777065  2108080724 2019-08-15   202740     B\n",
      "858        192721366  1316129916 2019-08-27    93940     A\n",
      "1136       666610489  1307669133 2019-08-13    92550     A\n",
      "744       3668308183   888512513 2019-08-27    86620     B\n",
      "682       1216533772  4266935830 2019-08-29    78990     B\n",
      "662       1811671147  4266935830 2019-08-29    78990     A\n",
      "743       3603576309  4133034833 2019-08-09    67990     A\n",
      "1103      1348774318  1164614297 2019-08-12    66350     A\n",
      "1099       316924019   148427295 2019-08-12    65710     A\n"
     ]
    },
    {
     "data": {
      "image/png": "[encoded data removed]",
      "text/plain": [
       "<Figure size 432x288 with 1 Axes>"
      ]
     },
     "metadata": {
      "needs_background": "light"
     },
     "output_type": "display_data"
    }
   ],
   "source": [
    "# Построим гистограмму распределения выручек с заказов по пользователям\n",
    "\n",
    "print(orders.sort_values(by='revenue', ascending=False).head(10))\n",
    "\n",
    "plt.hist(orders['revenue']) \n",
    "plt.title('Распределение стоимости заказов по пользователям')\n",
    "plt.xlabel('Стоимость заказов')\n",
    "plt.ylabel('Количество пользователей')\n",
    "plt.show()"
   ]
  },
  {
   "cell_type": "markdown",
   "metadata": {},
   "source": [
    "**Вывод:** самые дорогие заказы стоили:202740 и 1294500, его сделали пользователи из группы В, их стоит убрать в диаграмме, чтобы более детально расмотреть других пользователей."
   ]
  },
  {
   "cell_type": "code",
   "execution_count": 24,
   "metadata": {},
   "outputs": [
    {
     "data": {
      "image/png": "[encoded data removed]",
      "text/plain": [
       "<Figure size 432x288 with 1 Axes>"
      ]
     },
     "metadata": {
      "needs_background": "light"
     },
     "output_type": "display_data"
    }
   ],
   "source": [
    "# Построим диаграмму распределения выручек с заказов по пользователям\n",
    "\n",
    "x_values = pd.Series(range(0, len(orders['revenue'])))\n",
    "plt.ylim(0, 150000)\n",
    "plt.scatter(x_values, orders['revenue']) \n",
    "plt.title('Распределение стоимости заказов по пользователям')\n",
    "plt.xlabel('Заказы')\n",
    "plt.show()"
   ]
  },
  {
   "cell_type": "markdown",
   "metadata": {},
   "source": [
    "**Вывод:** большая часть заказов до 20000. Посчитаем 95 и 99 прецентили."
   ]
  },
  {
   "cell_type": "code",
   "execution_count": 25,
   "metadata": {},
   "outputs": [
    {
     "data": {
      "text/plain": [
       "array([28000. , 58233.2])"
      ]
     },
     "execution_count": 25,
     "metadata": {},
     "output_type": "execute_result"
    }
   ],
   "source": [
    "np.percentile(orders['revenue'], [95, 99])"
   ]
  },
  {
   "cell_type": "markdown",
   "metadata": {},
   "source": [
    "**Вывод:** граница аномалий 58233."
   ]
  },
  {
   "cell_type": "markdown",
   "metadata": {},
   "source": [
    "### Анализ статистической значимости"
   ]
  },
  {
   "cell_type": "markdown",
   "metadata": {},
   "source": [
    "#### \"Серые\" данные"
   ]
  },
  {
   "cell_type": "markdown",
   "metadata": {},
   "source": [
    "Посчитаем статистическую значимость различий в среднем числе заказов на пользователя и среднем чеке между группами по «сырым» данным — без удаления аномальных пользователей."
   ]
  },
  {
   "cell_type": "markdown",
   "metadata": {},
   "source": [
    "Сформулируем гипотезы. Нулевая: в \"серых\" данных различий в среднем количестве заказов между группами нет. Альтернативная: в \"серых\" данных различия в среднем между группами есть."
   ]
  },
  {
   "cell_type": "markdown",
   "metadata": {},
   "source": [
    "Подготовим данны к проверке гипотез критерием Манна-Уитни.Уровень статистической значимости установим 0.05."
   ]
  },
  {
   "cell_type": "code",
   "execution_count": 26,
   "metadata": {},
   "outputs": [
    {
     "name": "stdout",
     "output_type": "stream",
     "text": [
      "        date  ordersPerDateA  revenuePerDateA  ordersPerDateB  \\\n",
      "0 2019-08-01              24           148579              21   \n",
      "1 2019-08-02              20            93822              24   \n",
      "2 2019-08-03              24           112473              16   \n",
      "3 2019-08-04              16            70825              17   \n",
      "4 2019-08-05              25           124218              23   \n",
      "\n",
      "   revenuePerDateB  ordersCummulativeA  revenueCummulativeA  \\\n",
      "0           101217                  24               148579   \n",
      "1           165531                  44               242401   \n",
      "2           114248                  68               354874   \n",
      "3           108571                  84               425699   \n",
      "4            92428                 109               549917   \n",
      "\n",
      "   ordersCummulativeB  revenueCummulativeB  visitorsPerDateA  \\\n",
      "0                  21               101217               719   \n",
      "1                  45               266748               619   \n",
      "2                  61               380996               507   \n",
      "3                  78               489567               717   \n",
      "4                 101               581995               756   \n",
      "\n",
      "   visitorsPerDateB  visitorsCummulativeA  visitorsCummulativeB  \n",
      "0               713                   719                   713  \n",
      "1               581                  1338                  1294  \n",
      "2               509                  1845                  1803  \n",
      "3               770                  2562                  2573  \n",
      "4               707                  3318                  3280  \n"
     ]
    }
   ],
   "source": [
    "visitorsADaily = visitors[visitors['group'] == 'A'][['date', 'visitors']]\n",
    "visitorsADaily.columns = ['date', 'visitorsPerDateA']\n",
    "\n",
    "visitorsACummulative = visitorsADaily.apply(\n",
    "    lambda x: visitorsADaily[visitorsADaily['date'] <= x['date']].agg(\n",
    "        {'date': 'max', 'visitorsPerDateA': 'sum'}\n",
    "    ),\n",
    "    axis=1,\n",
    ")\n",
    "visitorsACummulative.columns = ['date', 'visitorsCummulativeA']\n",
    "\n",
    "visitorsBDaily = visitors[visitors['group'] == 'B'][['date', 'visitors']]\n",
    "visitorsBDaily.columns = ['date', 'visitorsPerDateB']\n",
    "\n",
    "visitorsBCummulative = visitorsBDaily.apply(\n",
    "    lambda x: visitorsBDaily[visitorsBDaily['date'] <= x['date']].agg(\n",
    "        {'date': 'max', 'visitorsPerDateB': 'sum'}\n",
    "    ),\n",
    "    axis=1,\n",
    ")\n",
    "visitorsBCummulative.columns = ['date', 'visitorsCummulativeB']\n",
    "\n",
    "ordersADaily = (\n",
    "    orders[orders['group'] == 'A'][['date', 'transaction_id', 'visitor_id', 'revenue']]\n",
    "    .groupby('date', as_index=False)\n",
    "    .agg({'transaction_id': pd.Series.nunique, 'revenue': 'sum'})\n",
    ")\n",
    "ordersADaily.columns = ['date', 'ordersPerDateA', 'revenuePerDateA']\n",
    "\n",
    "ordersACummulative = ordersADaily.apply(\n",
    "    lambda x: ordersADaily[ordersADaily['date'] <= x['date']].agg(\n",
    "        {'date': 'max', 'ordersPerDateA': 'sum', 'revenuePerDateA': 'sum'}\n",
    "    ),\n",
    "    axis=1,\n",
    ").sort_values(by=['date'])\n",
    "ordersACummulative.columns = [\n",
    "    'date',\n",
    "    'ordersCummulativeA',\n",
    "    'revenueCummulativeA',\n",
    "]\n",
    "\n",
    "ordersBDaily = (\n",
    "    orders[orders['group'] == 'B'][['date', 'transaction_id', 'visitor_id', 'revenue']]\n",
    "    .groupby('date', as_index=False)\n",
    "    .agg({'transaction_id': pd.Series.nunique, 'revenue': 'sum'})\n",
    ")\n",
    "ordersBDaily.columns = ['date', 'ordersPerDateB', 'revenuePerDateB']\n",
    "\n",
    "ordersBCummulative = ordersBDaily.apply(\n",
    "    lambda x: ordersBDaily[ordersBDaily['date'] <= x['date']].agg(\n",
    "        {'date': 'max', 'ordersPerDateB': 'sum', 'revenuePerDateB': 'sum'}\n",
    "    ),\n",
    "    axis=1,\n",
    ").sort_values(by=['date'])\n",
    "ordersBCummulative.columns = [\n",
    "    'date',\n",
    "    'ordersCummulativeB',\n",
    "    'revenueCummulativeB',\n",
    "]\n",
    "\n",
    "data = (\n",
    "    ordersADaily.merge(\n",
    "        ordersBDaily, left_on='date', right_on='date', how='left'\n",
    "    )\n",
    "    .merge(ordersACummulative, left_on='date', right_on='date', how='left')\n",
    "    .merge(ordersBCummulative, left_on='date', right_on='date', how='left')\n",
    "    .merge(visitorsADaily, left_on='date', right_on='date', how='left')\n",
    "    .merge(visitorsBDaily, left_on='date', right_on='date', how='left')\n",
    "    .merge(visitorsACummulative, left_on='date', right_on='date', how='left')\n",
    "    .merge(visitorsBCummulative, left_on='date', right_on='date', how='left')\n",
    ")\n",
    "\n",
    "print(data.head(5))"
   ]
  },
  {
   "cell_type": "code",
   "execution_count": 27,
   "metadata": {},
   "outputs": [],
   "source": [
    "# Объявим переменные sampleA и sampleB\n",
    "\n",
    "ordersByUsersA = (\n",
    "    orders[orders['group'] == 'A']\n",
    "    .groupby('visitor_id', as_index=False)\n",
    "    .agg({'transaction_id': pd.Series.nunique})\n",
    ")\n",
    "ordersByUsersA.columns = ['visitor_id', 'orders']\n",
    "\n",
    "ordersByUsersB = (\n",
    "    orders[orders['group'] == 'B']\n",
    "    .groupby('visitor_id', as_index=False)\n",
    "    .agg({'transaction_id': pd.Series.nunique})\n",
    ")\n",
    "ordersByUsersB.columns = ['visitor_id', 'orders'] \n",
    "\n",
    "sampleA = pd.concat([ordersByUsersA['orders'],pd.Series(0, index=np.arange(data['visitorsPerDateA'].sum() - len(ordersByUsersA['orders'])), name='orders')],axis=0)\n",
    "\n",
    "sampleB = pd.concat([ordersByUsersB['orders'],pd.Series(0, index=np.arange(data['visitorsPerDateB'].sum() - len(ordersByUsersB['orders'])), name='orders')],axis=0) \n"
   ]
  },
  {
   "cell_type": "code",
   "execution_count": 33,
   "metadata": {},
   "outputs": [
    {
     "name": "stdout",
     "output_type": "stream",
     "text": [
      "p-value: 0.01679\n",
      "относительное различие в среднем между группами: 0.138\n"
     ]
    }
   ],
   "source": [
    "# Выведите относительное различие в среднем между группами и p-value для сравнения среднего между группами\n",
    "\n",
    "print('p-value:',\"{0:.5f}\".format(stats.mannwhitneyu(sampleA, sampleB)[1]))\n",
    "print('относительное различие в среднем между группами:',\n",
    "    \"{0:.3f}\".format(\n",
    "        (data['ordersPerDateB'].sum() / data['visitorsPerDateB'].sum())\n",
    "        / (data['ordersPerDateA'].sum() / data['visitorsPerDateA'].sum())\n",
    "        - 1\n",
    "    )\n",
    ")"
   ]
  },
  {
   "cell_type": "markdown",
   "metadata": {},
   "source": [
    "**Вывод:** по серым данным группы различаются. Группа В относительно больше группы А на 13,8%. Тк p-value - 0.01679, что меньше 0.05, принимаем альтернативную гипотезу различия в среднем между группами есть."
   ]
  },
  {
   "cell_type": "markdown",
   "metadata": {},
   "source": [
    "**Сформулируем гипотезы для проверки среднего чека**.\n",
    "- **Нулевая: в \"серых\" данных различий в среднем чеке между группами нет.**\n",
    "- **Альтернативная: в \"серых\" различия в среднем чеке между группами есть.**"
   ]
  },
  {
   "cell_type": "code",
   "execution_count": 29,
   "metadata": {},
   "outputs": [
    {
     "name": "stdout",
     "output_type": "stream",
     "text": [
      "p-value: 0.729\n",
      "статистическая значимость различий в среднем чеке: 0.259\n"
     ]
    }
   ],
   "source": [
    "# Посчитаем статистическую значимость различий в среднем чеке заказа между группами по «сырым» данным\n",
    "\n",
    "print('p-value:','{0:.3f}'.format(stats.mannwhitneyu(orders[orders['group']=='A']['revenue'], orders[orders['group']=='B']['revenue'])[1]))\n",
    "print('статистическая значимость различий в среднем чеке:', '{0:.3f}'.format(orders[orders['group']=='B']['revenue'].mean()/orders[orders['group']=='A']['revenue'].mean()-1)) "
   ]
  },
  {
   "cell_type": "markdown",
   "metadata": {},
   "source": [
    "**Вывод:** тк p-value - 0.729, значит различий в среднем количестве заказов между группами нет. Средний чек у группы В на 25,9% больше чем у группы А"
   ]
  },
  {
   "cell_type": "markdown",
   "metadata": {},
   "source": [
    "#### «Очищенные» данные."
   ]
  },
  {
   "cell_type": "markdown",
   "metadata": {},
   "source": [
    "В пункте 3.2 мы выявили аномалии: число заказов - больше 4, и заказ дороже 58233."
   ]
  },
  {
   "cell_type": "code",
   "execution_count": 30,
   "metadata": {
    "scrolled": true
   },
   "outputs": [
    {
     "name": "stdout",
     "output_type": "stream",
     "text": [
      "1099     148427295\n",
      "949      887908475\n",
      "744      888512513\n",
      "1103    1164614297\n",
      "1136    1307669133\n",
      "Name: visitor_id, dtype: int64\n"
     ]
    },
    {
     "data": {
      "text/plain": [
       "15"
      ]
     },
     "execution_count": 30,
     "metadata": {},
     "output_type": "execute_result"
    }
   ],
   "source": [
    "# Вясним количество аномальных пользователей \n",
    "\n",
    "usersWithManyOrders = pd.concat(\n",
    "    [\n",
    "        ordersByUsersA[ordersByUsersA['orders'] > 4]['visitor_id'],\n",
    "        ordersByUsersB[ordersByUsersB['orders'] > 4]['visitor_id'],\n",
    "    ],\n",
    "    axis=0,\n",
    ")\n",
    "usersWithExpensiveOrders = orders[orders['revenue'] > 58233]['visitor_id']\n",
    "abnormalUsers = (\n",
    "    pd.concat([usersWithManyOrders, usersWithExpensiveOrders], axis=0)\n",
    "    .drop_duplicates()\n",
    "    .sort_values()\n",
    ")\n",
    "print(abnormalUsers.head(5))\n",
    "abnormalUsers.shape[0]"
   ]
  },
  {
   "cell_type": "markdown",
   "metadata": {},
   "source": [
    "**Вывод:** всего аномальных пользователей 15."
   ]
  },
  {
   "cell_type": "markdown",
   "metadata": {},
   "source": [
    "**Сформулируем гипотезы для очищенных данных:**\n",
    "- **Нулевая: в \"отфильтрованных\" данных различий в среднем количестве заказов между группами нет.**\n",
    "- **Альтернативная: в \"отфильтрованных\" данных различия в среднем между группами есть.**"
   ]
  },
  {
   "cell_type": "markdown",
   "metadata": {},
   "source": [
    "**Сформулируем гипотезы для проверки среднего чека**.\n",
    "- **Нулевая: в \"отфильтрованных\" данных различий в среднем чеке между группами нет.**\n",
    "- **Альтернативная: в \"отфильтрованных\" данных в среднем чеке между группами есть.**"
   ]
  },
  {
   "cell_type": "code",
   "execution_count": 31,
   "metadata": {},
   "outputs": [
    {
     "name": "stdout",
     "output_type": "stream",
     "text": [
      "p-value: 0.01438\n",
      "относительное различие в среднем между группами: 0.153\n"
     ]
    }
   ],
   "source": [
    "# Посчитаем статистическую значимость различий в конверсии между группами теста по очищенным данным\n",
    "\n",
    "sampleAFiltered = pd.concat(\n",
    "    [\n",
    "        ordersByUsersA[\n",
    "            np.logical_not(ordersByUsersA['visitor_id'].isin(abnormalUsers))\n",
    "        ]['orders'],\n",
    "        pd.Series(\n",
    "            0,\n",
    "            index=np.arange(\n",
    "                data['visitorsPerDateA'].sum() - len(ordersByUsersA['orders'])\n",
    "            ),\n",
    "            name='orders',\n",
    "        ),\n",
    "    ],\n",
    "    axis=0,\n",
    ")\n",
    "\n",
    "sampleBFiltered = pd.concat(\n",
    "    [\n",
    "        ordersByUsersB[\n",
    "            np.logical_not(ordersByUsersB['visitor_id'].isin(abnormalUsers))\n",
    "        ]['orders'],\n",
    "        pd.Series(\n",
    "            0,\n",
    "            index=np.arange(\n",
    "                data['visitorsPerDateB'].sum() - len(ordersByUsersB['orders'])\n",
    "            ),\n",
    "            name='orders',\n",
    "        ),\n",
    "    ],\n",
    "    axis=0,\n",
    ") \n",
    "\n",
    "sampleAFiltered = pd.concat(\n",
    "    [\n",
    "        ordersByUsersA[\n",
    "            np.logical_not(ordersByUsersA['visitor_id'].isin(abnormalUsers))\n",
    "        ]['orders'],\n",
    "        pd.Series(\n",
    "            0,\n",
    "            index=np.arange(\n",
    "                data['visitorsPerDateA'].sum() - len(ordersByUsersA['orders'])\n",
    "            ),\n",
    "            name='orders',\n",
    "        ),\n",
    "    ],\n",
    "    axis=0,\n",
    ")\n",
    "\n",
    "sampleBFiltered = pd.concat(\n",
    "    [\n",
    "        ordersByUsersB[\n",
    "            np.logical_not(ordersByUsersB['visitor_id'].isin(abnormalUsers))\n",
    "        ]['orders'],\n",
    "        pd.Series(\n",
    "            0,\n",
    "            index=np.arange(\n",
    "                data['visitorsPerDateB'].sum() - len(ordersByUsersB['orders'])\n",
    "            ),\n",
    "            name='orders',\n",
    "        ),\n",
    "    ],\n",
    "    axis=0,\n",
    ") \n",
    "\n",
    "sampleAFiltered = pd.concat(\n",
    "    [\n",
    "        ordersByUsersA[\n",
    "            np.logical_not(ordersByUsersA['visitor_id'].isin(abnormalUsers))\n",
    "        ]['orders'],\n",
    "        pd.Series(\n",
    "            0,\n",
    "            index=np.arange(\n",
    "                data['visitorsPerDateA'].sum() - len(ordersByUsersA['orders'])\n",
    "            ),\n",
    "            name='orders',\n",
    "        ),\n",
    "    ],\n",
    "    axis=0,\n",
    ") \n",
    "\n",
    "sampleBFiltered = pd.concat(\n",
    "    [\n",
    "        ordersByUsersB[\n",
    "            np.logical_not(ordersByUsersB['visitor_id'].isin(abnormalUsers))\n",
    "        ]['orders'],\n",
    "        pd.Series(\n",
    "            0,\n",
    "            index=np.arange(\n",
    "                data['visitorsPerDateB'].sum() - len(ordersByUsersB['orders'])\n",
    "            ),\n",
    "            name='orders',\n",
    "        ),\n",
    "    ],\n",
    "    axis=0,\n",
    ") \n",
    "\n",
    "print('p-value:', '{0:.5f}'.format(stats.mannwhitneyu(sampleAFiltered, sampleBFiltered)[1]))\n",
    "print('относительное различие в среднем между группами:', '{0:.3f}'.format(sampleBFiltered.mean()/sampleAFiltered.mean()-1)) "
   ]
  },
  {
   "cell_type": "markdown",
   "metadata": {},
   "source": [
    "**Вывод:** тк p-value - 0.01438, в \"очищенных\" данных разница в количестве заказов между группами есть. Принимаем альтернативную гипотезу. Группа В больше группы А на 15,3%. После очищения данных разница в количестве заказов изменилась с 13,8% до 15,3%"
   ]
  },
  {
   "cell_type": "code",
   "execution_count": 32,
   "metadata": {},
   "outputs": [
    {
     "name": "stdout",
     "output_type": "stream",
     "text": [
      "p-value: 0.851\n",
      "статистическая значимость различий в среднем чеке: -0.00575\n"
     ]
    }
   ],
   "source": [
    "# Посчитаем статистическую значимость различий в среднем чеке заказа между группами по «очищенным» данным\n",
    "\n",
    "print('p-value:',\n",
    "    '{0:.3f}'.format(\n",
    "        stats.mannwhitneyu(\n",
    "            orders[\n",
    "                np.logical_and(\n",
    "                    orders['group'] == 'A',\n",
    "                    np.logical_not(orders['visitor_id'].isin(abnormalUsers)),\n",
    "                )\n",
    "            ]['revenue'],\n",
    "            orders[\n",
    "                np.logical_and(\n",
    "                    orders['group'] == 'B',\n",
    "                    np.logical_not(orders['visitor_id'].isin(abnormalUsers)),\n",
    "                )\n",
    "            ]['revenue'],\n",
    "        )[1]\n",
    "    )\n",
    ")\n",
    "\n",
    "print('статистическая значимость различий в среднем чеке:',\n",
    "    \"{0:.5f}\".format(\n",
    "        orders[\n",
    "            np.logical_and(\n",
    "                orders['group'] == 'B',\n",
    "                np.logical_not(orders['visitor_id'].isin(abnormalUsers)),\n",
    "            )\n",
    "        ]['revenue'].mean()\n",
    "        / orders[\n",
    "            np.logical_and(\n",
    "                orders['group'] == 'A',\n",
    "                np.logical_not(orders['visitor_id'].isin(abnormalUsers)),\n",
    "            )\n",
    "        ]['revenue'].mean()\n",
    "        - 1\n",
    "    )\n",
    ") "
   ]
  },
  {
   "cell_type": "markdown",
   "metadata": {},
   "source": [
    "**Вывод:** p-value - 0.851, следовательно различий в среднем количестве заказов между группами нет. Различия в среднем чеке между группами -0.57%. После очищения данных средний чек у группы В с превосходства на 25,9% изменился на -0.57%"
   ]
  },
  {
   "cell_type": "markdown",
   "metadata": {},
   "source": [
    "## Общие выводы"
   ]
  },
  {
   "cell_type": "markdown",
   "metadata": {},
   "source": [
    "Гипотезы на которые следует обратить внимание:\n",
    "- \"Запустить акцию, дающую скидку на товар в день рождения\"\n",
    "- \"Добавить два новых канала привлечения трафика, что позволит привлекать на 30% больше пользователей\"\n",
    "- \"Добавить форму подписки на все основные страницы, чтобы собрать базу клиентов для email-рассылок\"\n",
    "- \"Добавить блоки рекомендаций товаров на сайт интернет магазина, чтобы повысить конверсию и средний чек заказа\t\""
   ]
  },
  {
   "cell_type": "markdown",
   "metadata": {},
   "source": [
    "Анализ А/В теста:\n",
    "- График количества заказов выше у группы В\n",
    "- Относительное различие в среднем между группами (как сырые так и данные без аномалий) на 13,8%-15,3% больше у группы В.\n",
    "- Средний чек у группы В выше чем у группы А."
   ]
  },
  {
   "cell_type": "markdown",
   "metadata": {},
   "source": [
    "Проверки гипотез показали:\n",
    "- Средний чек после \"очищения\" данных показал что различий между данными нет(в \"сырых\" данных различия так же не было). До очищения средний чек был выше у группы В на 25,9%, после очищения он изменился на -0,57%\n",
    "- Различия между группами есть, как до очищения данных, так и после. До очищения группа В 13,8%, после 15,3%."
   ]
  },
  {
   "cell_type": "markdown",
   "metadata": {},
   "source": [
    "Рекоменую остановить тест и присудить явную победу группе В, она по всем показателям обгоняет группу А."
   ]
  },
  {
   "cell_type": "code",
   "execution_count": null,
   "metadata": {},
   "outputs": [],
   "source": []
  }
 ],
 "metadata": {
  "ExecuteTimeLog": [
   {
    "duration": 1432,
    "start_time": "2023-05-17T15:30:28.685Z"
   },
   {
    "duration": 102,
    "start_time": "2023-05-17T15:34:58.479Z"
   },
   {
    "duration": 160,
    "start_time": "2023-05-17T15:36:10.092Z"
   },
   {
    "duration": 107,
    "start_time": "2023-05-17T15:37:40.729Z"
   },
   {
    "duration": 24,
    "start_time": "2023-05-17T15:38:38.239Z"
   },
   {
    "duration": 5,
    "start_time": "2023-05-17T15:39:06.426Z"
   },
   {
    "duration": 109,
    "start_time": "2023-05-17T15:39:07.318Z"
   },
   {
    "duration": 13,
    "start_time": "2023-05-17T15:39:08.336Z"
   },
   {
    "duration": 100,
    "start_time": "2023-05-17T15:41:45.062Z"
   },
   {
    "duration": 4,
    "start_time": "2023-05-17T15:43:40.207Z"
   },
   {
    "duration": 4,
    "start_time": "2023-05-17T15:43:40.804Z"
   },
   {
    "duration": 105,
    "start_time": "2023-05-17T15:43:41.424Z"
   },
   {
    "duration": 25,
    "start_time": "2023-05-17T15:43:42.300Z"
   },
   {
    "duration": 16,
    "start_time": "2023-05-17T15:43:47.005Z"
   },
   {
    "duration": 6,
    "start_time": "2023-05-17T15:44:07.495Z"
   },
   {
    "duration": 5,
    "start_time": "2023-05-17T15:44:07.916Z"
   },
   {
    "duration": 99,
    "start_time": "2023-05-17T15:44:08.404Z"
   },
   {
    "duration": 15,
    "start_time": "2023-05-17T15:44:09.359Z"
   },
   {
    "duration": 175,
    "start_time": "2023-05-17T15:45:02.827Z"
   },
   {
    "duration": 17,
    "start_time": "2023-05-17T15:45:03.395Z"
   },
   {
    "duration": 4,
    "start_time": "2023-05-17T15:45:19.420Z"
   },
   {
    "duration": 101,
    "start_time": "2023-05-17T15:45:19.902Z"
   },
   {
    "duration": 13,
    "start_time": "2023-05-17T15:45:20.596Z"
   },
   {
    "duration": 19,
    "start_time": "2023-05-17T15:47:35.075Z"
   },
   {
    "duration": 13,
    "start_time": "2023-05-17T15:47:46.782Z"
   },
   {
    "duration": 8,
    "start_time": "2023-05-17T15:47:57.812Z"
   },
   {
    "duration": 9,
    "start_time": "2023-05-17T15:48:14.420Z"
   },
   {
    "duration": 3,
    "start_time": "2023-05-17T15:52:01.147Z"
   },
   {
    "duration": 16,
    "start_time": "2023-05-17T15:54:56.805Z"
   },
   {
    "duration": 4,
    "start_time": "2023-05-17T15:55:33.651Z"
   },
   {
    "duration": 12,
    "start_time": "2023-05-17T15:55:41.639Z"
   },
   {
    "duration": 2,
    "start_time": "2023-05-17T15:56:52.825Z"
   },
   {
    "duration": 12,
    "start_time": "2023-05-17T15:57:56.012Z"
   },
   {
    "duration": 17,
    "start_time": "2023-05-17T15:58:09.298Z"
   },
   {
    "duration": 17,
    "start_time": "2023-05-17T15:58:16.927Z"
   },
   {
    "duration": 15,
    "start_time": "2023-05-17T15:59:38.535Z"
   },
   {
    "duration": 31,
    "start_time": "2023-05-17T16:01:19.505Z"
   },
   {
    "duration": 21,
    "start_time": "2023-05-17T16:07:56.898Z"
   },
   {
    "duration": 11,
    "start_time": "2023-05-17T16:09:04.853Z"
   },
   {
    "duration": 14,
    "start_time": "2023-05-17T16:10:28.496Z"
   },
   {
    "duration": 11,
    "start_time": "2023-05-17T16:11:38.330Z"
   },
   {
    "duration": 412,
    "start_time": "2023-05-17T16:13:26.101Z"
   },
   {
    "duration": 305,
    "start_time": "2023-05-17T16:13:37.951Z"
   },
   {
    "duration": 356,
    "start_time": "2023-05-17T16:13:48.500Z"
   },
   {
    "duration": 384,
    "start_time": "2023-05-17T16:14:15.494Z"
   },
   {
    "duration": 14,
    "start_time": "2023-05-17T16:14:36.287Z"
   },
   {
    "duration": 305,
    "start_time": "2023-05-17T16:15:17.925Z"
   },
   {
    "duration": 342,
    "start_time": "2023-05-17T16:15:25.234Z"
   },
   {
    "duration": 502,
    "start_time": "2023-05-17T16:15:47.342Z"
   },
   {
    "duration": 478,
    "start_time": "2023-05-17T16:15:53.923Z"
   },
   {
    "duration": 407,
    "start_time": "2023-05-17T16:16:26.654Z"
   },
   {
    "duration": 8,
    "start_time": "2023-05-17T16:35:43.432Z"
   },
   {
    "duration": 6,
    "start_time": "2023-05-17T16:35:56.937Z"
   },
   {
    "duration": 12,
    "start_time": "2023-05-17T16:36:19.790Z"
   },
   {
    "duration": 34,
    "start_time": "2023-05-17T18:15:58.027Z"
   },
   {
    "duration": 28,
    "start_time": "2023-05-17T18:16:49.806Z"
   },
   {
    "duration": 974,
    "start_time": "2023-05-17T18:23:35.463Z"
   },
   {
    "duration": 943,
    "start_time": "2023-05-17T18:23:48.622Z"
   },
   {
    "duration": 897,
    "start_time": "2023-05-17T18:23:57.349Z"
   },
   {
    "duration": 699,
    "start_time": "2023-05-17T18:25:30.720Z"
   },
   {
    "duration": 18,
    "start_time": "2023-05-17T18:28:20.202Z"
   },
   {
    "duration": 278,
    "start_time": "2023-05-17T18:28:41.950Z"
   },
   {
    "duration": 193,
    "start_time": "2023-05-17T18:28:50.913Z"
   },
   {
    "duration": 181,
    "start_time": "2023-05-17T18:29:11.634Z"
   },
   {
    "duration": 132,
    "start_time": "2023-05-17T18:29:30.097Z"
   },
   {
    "duration": 184,
    "start_time": "2023-05-17T18:29:54.411Z"
   },
   {
    "duration": 232,
    "start_time": "2023-05-17T18:30:07.863Z"
   },
   {
    "duration": 11,
    "start_time": "2023-05-17T18:32:20.412Z"
   },
   {
    "duration": 24,
    "start_time": "2023-05-17T18:32:48.000Z"
   },
   {
    "duration": 381,
    "start_time": "2023-05-17T18:35:13.151Z"
   },
   {
    "duration": 294,
    "start_time": "2023-05-17T18:36:26.736Z"
   },
   {
    "duration": 305,
    "start_time": "2023-05-17T18:37:42.831Z"
   },
   {
    "duration": 325,
    "start_time": "2023-05-17T18:38:04.197Z"
   },
   {
    "duration": 364,
    "start_time": "2023-05-17T18:39:42.754Z"
   },
   {
    "duration": 310,
    "start_time": "2023-05-17T18:40:19.803Z"
   },
   {
    "duration": 306,
    "start_time": "2023-05-17T18:40:29.905Z"
   },
   {
    "duration": 371,
    "start_time": "2023-05-17T18:41:29.403Z"
   },
   {
    "duration": 434,
    "start_time": "2023-05-17T18:42:22.696Z"
   },
   {
    "duration": 301,
    "start_time": "2023-05-17T18:43:27.152Z"
   },
   {
    "duration": 327,
    "start_time": "2023-05-17T18:43:34.426Z"
   },
   {
    "duration": 350,
    "start_time": "2023-05-17T18:45:10.311Z"
   },
   {
    "duration": 378,
    "start_time": "2023-05-17T18:45:24.206Z"
   },
   {
    "duration": 407,
    "start_time": "2023-05-17T18:45:38.236Z"
   },
   {
    "duration": 538,
    "start_time": "2023-05-17T18:47:10.916Z"
   },
   {
    "duration": 482,
    "start_time": "2023-05-17T18:47:56.943Z"
   },
   {
    "duration": 419,
    "start_time": "2023-05-17T18:55:13.837Z"
   },
   {
    "duration": 22,
    "start_time": "2023-05-17T19:11:54.172Z"
   },
   {
    "duration": 176,
    "start_time": "2023-05-17T19:12:10.811Z"
   },
   {
    "duration": 193,
    "start_time": "2023-05-17T19:13:27.336Z"
   },
   {
    "duration": 18,
    "start_time": "2023-05-17T19:16:05.304Z"
   },
   {
    "duration": 226,
    "start_time": "2023-05-17T19:16:17.493Z"
   },
   {
    "duration": 46,
    "start_time": "2023-05-17T19:17:46.208Z"
   },
   {
    "duration": 181,
    "start_time": "2023-05-17T19:18:14.402Z"
   },
   {
    "duration": 210,
    "start_time": "2023-05-17T19:21:05.508Z"
   },
   {
    "duration": 182,
    "start_time": "2023-05-17T19:21:40.673Z"
   },
   {
    "duration": 7,
    "start_time": "2023-05-17T19:24:41.970Z"
   },
   {
    "duration": 222,
    "start_time": "2023-05-17T19:29:43.062Z"
   },
   {
    "duration": 249,
    "start_time": "2023-05-17T19:34:39.794Z"
   },
   {
    "duration": 236,
    "start_time": "2023-05-17T19:37:16.230Z"
   },
   {
    "duration": 61,
    "start_time": "2023-05-17T19:39:42.402Z"
   },
   {
    "duration": 10,
    "start_time": "2023-05-17T19:39:48.522Z"
   },
   {
    "duration": 231,
    "start_time": "2023-05-17T19:57:24.510Z"
   },
   {
    "duration": 228,
    "start_time": "2023-05-17T19:57:44.052Z"
   },
   {
    "duration": 231,
    "start_time": "2023-05-17T19:57:51.353Z"
   },
   {
    "duration": 236,
    "start_time": "2023-05-17T19:57:56.808Z"
   },
   {
    "duration": 51,
    "start_time": "2023-05-18T07:28:54.220Z"
   },
   {
    "duration": 10,
    "start_time": "2023-05-18T07:30:24.587Z"
   },
   {
    "duration": 1440,
    "start_time": "2023-05-18T07:30:56.655Z"
   },
   {
    "duration": 215,
    "start_time": "2023-05-18T07:30:58.097Z"
   },
   {
    "duration": 11,
    "start_time": "2023-05-18T07:30:58.314Z"
   },
   {
    "duration": 10,
    "start_time": "2023-05-18T07:30:58.327Z"
   },
   {
    "duration": 25,
    "start_time": "2023-05-18T07:30:58.338Z"
   },
   {
    "duration": 9,
    "start_time": "2023-05-18T07:30:58.365Z"
   },
   {
    "duration": 16,
    "start_time": "2023-05-18T07:30:58.376Z"
   },
   {
    "duration": 78,
    "start_time": "2023-05-18T07:30:58.394Z"
   },
   {
    "duration": 13,
    "start_time": "2023-05-18T07:30:58.474Z"
   },
   {
    "duration": 12,
    "start_time": "2023-05-18T07:30:58.490Z"
   },
   {
    "duration": 14,
    "start_time": "2023-05-18T07:30:58.503Z"
   },
   {
    "duration": 193,
    "start_time": "2023-05-18T07:30:58.518Z"
   },
   {
    "duration": 137,
    "start_time": "2023-05-18T07:30:58.713Z"
   },
   {
    "duration": 27,
    "start_time": "2023-05-18T07:30:58.852Z"
   },
   {
    "duration": 275,
    "start_time": "2023-05-18T07:30:58.880Z"
   },
   {
    "duration": 193,
    "start_time": "2023-05-18T07:30:59.157Z"
   },
   {
    "duration": 365,
    "start_time": "2023-05-18T07:30:59.352Z"
   },
   {
    "duration": 211,
    "start_time": "2023-05-18T07:30:59.719Z"
   },
   {
    "duration": 304,
    "start_time": "2023-05-18T07:30:59.932Z"
   },
   {
    "duration": 142,
    "start_time": "2023-05-18T07:31:00.238Z"
   },
   {
    "duration": 132,
    "start_time": "2023-05-18T07:31:00.382Z"
   },
   {
    "duration": 7,
    "start_time": "2023-05-18T07:31:00.516Z"
   },
   {
    "duration": 252,
    "start_time": "2023-05-18T07:31:00.526Z"
   },
   {
    "duration": 143,
    "start_time": "2023-05-18T07:31:00.780Z"
   },
   {
    "duration": 6,
    "start_time": "2023-05-18T07:31:00.924Z"
   },
   {
    "duration": 229,
    "start_time": "2023-05-18T07:31:00.931Z"
   },
   {
    "duration": 145,
    "start_time": "2023-05-18T07:31:01.162Z"
   },
   {
    "duration": 135,
    "start_time": "2023-05-18T07:32:48.188Z"
   },
   {
    "duration": 5,
    "start_time": "2023-05-18T07:36:10.084Z"
   },
   {
    "duration": 4,
    "start_time": "2023-05-18T07:36:18.270Z"
   },
   {
    "duration": 20,
    "start_time": "2023-05-18T07:37:30.735Z"
   },
   {
    "duration": 22,
    "start_time": "2023-05-18T07:40:00.574Z"
   },
   {
    "duration": 8,
    "start_time": "2023-05-18T07:49:48.411Z"
   },
   {
    "duration": 13,
    "start_time": "2023-05-18T07:50:12.923Z"
   },
   {
    "duration": 14,
    "start_time": "2023-05-18T07:51:39.765Z"
   },
   {
    "duration": 18,
    "start_time": "2023-05-18T07:51:48.592Z"
   },
   {
    "duration": 32,
    "start_time": "2023-05-18T07:53:37.973Z"
   },
   {
    "duration": 12,
    "start_time": "2023-05-18T08:00:05.798Z"
   },
   {
    "duration": 12,
    "start_time": "2023-05-18T08:01:17.613Z"
   },
   {
    "duration": 11,
    "start_time": "2023-05-18T08:01:34.701Z"
   },
   {
    "duration": 870,
    "start_time": "2023-05-18T08:04:13.355Z"
   },
   {
    "duration": 810,
    "start_time": "2023-05-18T08:05:25.726Z"
   },
   {
    "duration": 34,
    "start_time": "2023-05-18T08:06:04.429Z"
   },
   {
    "duration": 36,
    "start_time": "2023-05-18T08:08:28.708Z"
   },
   {
    "duration": 20,
    "start_time": "2023-05-18T08:13:04.278Z"
   },
   {
    "duration": 14,
    "start_time": "2023-05-18T08:13:14.848Z"
   },
   {
    "duration": 22,
    "start_time": "2023-05-18T08:14:14.167Z"
   },
   {
    "duration": 1273,
    "start_time": "2023-05-18T08:35:14.706Z"
   },
   {
    "duration": 117,
    "start_time": "2023-05-18T08:35:15.987Z"
   },
   {
    "duration": 14,
    "start_time": "2023-05-18T08:35:16.107Z"
   },
   {
    "duration": 10,
    "start_time": "2023-05-18T08:35:16.124Z"
   },
   {
    "duration": 21,
    "start_time": "2023-05-18T08:35:16.136Z"
   },
   {
    "duration": 11,
    "start_time": "2023-05-18T08:35:16.180Z"
   },
   {
    "duration": 22,
    "start_time": "2023-05-18T08:35:16.194Z"
   },
   {
    "duration": 35,
    "start_time": "2023-05-18T08:35:16.218Z"
   },
   {
    "duration": 16,
    "start_time": "2023-05-18T08:35:16.284Z"
   },
   {
    "duration": 11,
    "start_time": "2023-05-18T08:35:16.303Z"
   },
   {
    "duration": 11,
    "start_time": "2023-05-18T08:35:16.316Z"
   },
   {
    "duration": 222,
    "start_time": "2023-05-18T08:35:16.328Z"
   },
   {
    "duration": 161,
    "start_time": "2023-05-18T08:35:16.552Z"
   },
   {
    "duration": 16,
    "start_time": "2023-05-18T08:35:16.715Z"
   },
   {
    "duration": 381,
    "start_time": "2023-05-18T08:35:16.733Z"
   },
   {
    "duration": 217,
    "start_time": "2023-05-18T08:35:17.116Z"
   },
   {
    "duration": 363,
    "start_time": "2023-05-18T08:35:17.336Z"
   },
   {
    "duration": 264,
    "start_time": "2023-05-18T08:35:17.703Z"
   },
   {
    "duration": 381,
    "start_time": "2023-05-18T08:35:17.980Z"
   },
   {
    "duration": 149,
    "start_time": "2023-05-18T08:35:18.363Z"
   },
   {
    "duration": 145,
    "start_time": "2023-05-18T08:35:18.514Z"
   },
   {
    "duration": 33,
    "start_time": "2023-05-18T08:35:18.661Z"
   },
   {
    "duration": 286,
    "start_time": "2023-05-18T08:35:18.697Z"
   },
   {
    "duration": 175,
    "start_time": "2023-05-18T08:35:18.985Z"
   },
   {
    "duration": 5,
    "start_time": "2023-05-18T08:35:19.162Z"
   },
   {
    "duration": 266,
    "start_time": "2023-05-18T08:35:19.178Z"
   },
   {
    "duration": 260,
    "start_time": "2023-05-18T08:35:19.446Z"
   },
   {
    "duration": 37,
    "start_time": "2023-05-18T08:35:19.711Z"
   },
   {
    "duration": 35,
    "start_time": "2023-05-18T08:35:19.750Z"
   },
   {
    "duration": 18,
    "start_time": "2023-05-18T08:35:19.788Z"
   },
   {
    "duration": 74,
    "start_time": "2023-05-18T08:35:19.809Z"
   },
   {
    "duration": 21,
    "start_time": "2023-05-18T08:35:19.889Z"
   },
   {
    "duration": 1114,
    "start_time": "2023-05-19T01:04:23.688Z"
   },
   {
    "duration": 109,
    "start_time": "2023-05-19T01:04:24.804Z"
   },
   {
    "duration": 20,
    "start_time": "2023-05-19T01:04:24.915Z"
   },
   {
    "duration": 26,
    "start_time": "2023-05-19T01:04:24.937Z"
   },
   {
    "duration": 16,
    "start_time": "2023-05-19T01:04:24.964Z"
   },
   {
    "duration": 12,
    "start_time": "2023-05-19T01:04:24.982Z"
   },
   {
    "duration": 17,
    "start_time": "2023-05-19T01:04:24.996Z"
   },
   {
    "duration": 34,
    "start_time": "2023-05-19T01:04:25.015Z"
   },
   {
    "duration": 13,
    "start_time": "2023-05-19T01:04:25.050Z"
   },
   {
    "duration": 9,
    "start_time": "2023-05-19T01:04:25.066Z"
   },
   {
    "duration": 10,
    "start_time": "2023-05-19T01:04:25.076Z"
   },
   {
    "duration": 197,
    "start_time": "2023-05-19T01:04:25.087Z"
   },
   {
    "duration": 154,
    "start_time": "2023-05-19T01:04:25.286Z"
   },
   {
    "duration": 14,
    "start_time": "2023-05-19T01:04:25.441Z"
   },
   {
    "duration": 270,
    "start_time": "2023-05-19T01:04:25.457Z"
   },
   {
    "duration": 187,
    "start_time": "2023-05-19T01:04:25.728Z"
   },
   {
    "duration": 290,
    "start_time": "2023-05-19T01:04:25.917Z"
   },
   {
    "duration": 205,
    "start_time": "2023-05-19T01:04:26.209Z"
   },
   {
    "duration": 299,
    "start_time": "2023-05-19T01:04:26.415Z"
   },
   {
    "duration": 141,
    "start_time": "2023-05-19T01:04:26.716Z"
   },
   {
    "duration": 113,
    "start_time": "2023-05-19T01:04:26.859Z"
   },
   {
    "duration": 4,
    "start_time": "2023-05-19T01:04:26.973Z"
   },
   {
    "duration": 215,
    "start_time": "2023-05-19T01:04:26.979Z"
   },
   {
    "duration": 153,
    "start_time": "2023-05-19T01:04:27.195Z"
   },
   {
    "duration": 6,
    "start_time": "2023-05-19T01:04:27.350Z"
   },
   {
    "duration": 225,
    "start_time": "2023-05-19T01:04:27.357Z"
   },
   {
    "duration": 164,
    "start_time": "2023-05-19T01:04:27.584Z"
   },
   {
    "duration": 21,
    "start_time": "2023-05-19T01:04:27.751Z"
   },
   {
    "duration": 11,
    "start_time": "2023-05-19T01:04:27.774Z"
   },
   {
    "duration": 10,
    "start_time": "2023-05-19T01:04:27.786Z"
   },
   {
    "duration": 70,
    "start_time": "2023-05-19T01:04:27.798Z"
   },
   {
    "duration": 13,
    "start_time": "2023-05-19T01:04:27.870Z"
   },
   {
    "duration": 46,
    "start_time": "2023-05-19T08:34:49.256Z"
   },
   {
    "duration": 1337,
    "start_time": "2023-05-19T08:35:01.417Z"
   },
   {
    "duration": 237,
    "start_time": "2023-05-19T08:35:02.755Z"
   },
   {
    "duration": 10,
    "start_time": "2023-05-19T08:35:02.994Z"
   },
   {
    "duration": 18,
    "start_time": "2023-05-19T08:35:03.005Z"
   },
   {
    "duration": 18,
    "start_time": "2023-05-19T08:35:03.024Z"
   },
   {
    "duration": 7,
    "start_time": "2023-05-19T08:35:03.043Z"
   },
   {
    "duration": 13,
    "start_time": "2023-05-19T08:35:03.051Z"
   },
   {
    "duration": 21,
    "start_time": "2023-05-19T08:35:03.065Z"
   },
   {
    "duration": 10,
    "start_time": "2023-05-19T08:35:03.087Z"
   },
   {
    "duration": 9,
    "start_time": "2023-05-19T08:35:03.099Z"
   },
   {
    "duration": 9,
    "start_time": "2023-05-19T08:35:03.109Z"
   },
   {
    "duration": 166,
    "start_time": "2023-05-19T08:35:03.119Z"
   },
   {
    "duration": 112,
    "start_time": "2023-05-19T08:35:03.286Z"
   },
   {
    "duration": 12,
    "start_time": "2023-05-19T08:35:03.400Z"
   },
   {
    "duration": 237,
    "start_time": "2023-05-19T08:35:03.413Z"
   },
   {
    "duration": 156,
    "start_time": "2023-05-19T08:35:03.652Z"
   },
   {
    "duration": 296,
    "start_time": "2023-05-19T08:35:03.810Z"
   },
   {
    "duration": 176,
    "start_time": "2023-05-19T08:35:04.108Z"
   },
   {
    "duration": 292,
    "start_time": "2023-05-19T08:35:04.286Z"
   },
   {
    "duration": 106,
    "start_time": "2023-05-19T08:35:04.584Z"
   },
   {
    "duration": 109,
    "start_time": "2023-05-19T08:35:04.692Z"
   },
   {
    "duration": 4,
    "start_time": "2023-05-19T08:35:04.803Z"
   },
   {
    "duration": 194,
    "start_time": "2023-05-19T08:35:04.808Z"
   },
   {
    "duration": 123,
    "start_time": "2023-05-19T08:35:05.004Z"
   },
   {
    "duration": 5,
    "start_time": "2023-05-19T08:35:05.128Z"
   },
   {
    "duration": 196,
    "start_time": "2023-05-19T08:35:05.134Z"
   },
   {
    "duration": 124,
    "start_time": "2023-05-19T08:35:05.331Z"
   },
   {
    "duration": 26,
    "start_time": "2023-05-19T08:35:05.458Z"
   },
   {
    "duration": 9,
    "start_time": "2023-05-19T08:35:05.486Z"
   },
   {
    "duration": 30,
    "start_time": "2023-05-19T08:35:05.496Z"
   },
   {
    "duration": 34,
    "start_time": "2023-05-19T08:35:05.528Z"
   },
   {
    "duration": 13,
    "start_time": "2023-05-19T08:35:05.564Z"
   },
   {
    "duration": 204,
    "start_time": "2023-05-19T08:40:06.097Z"
   },
   {
    "duration": 255,
    "start_time": "2023-05-19T08:41:01.341Z"
   },
   {
    "duration": 109,
    "start_time": "2023-05-19T08:43:00.744Z"
   },
   {
    "duration": 235,
    "start_time": "2023-05-19T08:43:16.401Z"
   },
   {
    "duration": 110,
    "start_time": "2023-05-19T08:43:29.328Z"
   },
   {
    "duration": 124,
    "start_time": "2023-05-19T08:44:28.208Z"
   },
   {
    "duration": 10,
    "start_time": "2023-05-19T09:08:49.435Z"
   },
   {
    "duration": 1150,
    "start_time": "2023-05-19T09:17:58.243Z"
   },
   {
    "duration": 89,
    "start_time": "2023-05-19T09:17:59.394Z"
   },
   {
    "duration": 11,
    "start_time": "2023-05-19T09:17:59.484Z"
   },
   {
    "duration": 12,
    "start_time": "2023-05-19T09:17:59.496Z"
   },
   {
    "duration": 10,
    "start_time": "2023-05-19T09:17:59.509Z"
   },
   {
    "duration": 27,
    "start_time": "2023-05-19T09:17:59.521Z"
   },
   {
    "duration": 14,
    "start_time": "2023-05-19T09:17:59.550Z"
   },
   {
    "duration": 18,
    "start_time": "2023-05-19T09:17:59.565Z"
   },
   {
    "duration": 10,
    "start_time": "2023-05-19T09:17:59.584Z"
   },
   {
    "duration": 17,
    "start_time": "2023-05-19T09:17:59.595Z"
   },
   {
    "duration": 11,
    "start_time": "2023-05-19T09:17:59.613Z"
   },
   {
    "duration": 179,
    "start_time": "2023-05-19T09:17:59.625Z"
   },
   {
    "duration": 134,
    "start_time": "2023-05-19T09:17:59.805Z"
   },
   {
    "duration": 13,
    "start_time": "2023-05-19T09:17:59.942Z"
   },
   {
    "duration": 270,
    "start_time": "2023-05-19T09:17:59.957Z"
   },
   {
    "duration": 170,
    "start_time": "2023-05-19T09:18:00.229Z"
   },
   {
    "duration": 265,
    "start_time": "2023-05-19T09:18:00.401Z"
   },
   {
    "duration": 183,
    "start_time": "2023-05-19T09:18:00.667Z"
   },
   {
    "duration": 303,
    "start_time": "2023-05-19T09:18:00.851Z"
   },
   {
    "duration": 121,
    "start_time": "2023-05-19T09:18:01.155Z"
   },
   {
    "duration": 105,
    "start_time": "2023-05-19T09:18:01.284Z"
   },
   {
    "duration": 4,
    "start_time": "2023-05-19T09:18:01.391Z"
   },
   {
    "duration": 235,
    "start_time": "2023-05-19T09:18:01.396Z"
   },
   {
    "duration": 124,
    "start_time": "2023-05-19T09:18:01.633Z"
   },
   {
    "duration": 5,
    "start_time": "2023-05-19T09:18:01.758Z"
   },
   {
    "duration": 217,
    "start_time": "2023-05-19T09:18:01.764Z"
   },
   {
    "duration": 284,
    "start_time": "2023-05-19T09:18:01.983Z"
   },
   {
    "duration": 27,
    "start_time": "2023-05-19T09:18:02.269Z"
   },
   {
    "duration": 48,
    "start_time": "2023-05-19T09:18:02.297Z"
   },
   {
    "duration": 53,
    "start_time": "2023-05-19T09:18:02.346Z"
   },
   {
    "duration": 229,
    "start_time": "2023-05-19T09:18:02.400Z"
   },
   {
    "duration": 22,
    "start_time": "2023-05-19T09:18:02.631Z"
   },
   {
    "duration": 97,
    "start_time": "2023-05-19T09:36:04.577Z"
   },
   {
    "duration": 11,
    "start_time": "2023-05-19T09:36:30.843Z"
   },
   {
    "duration": 3,
    "start_time": "2023-05-19T09:36:59.780Z"
   },
   {
    "duration": 4,
    "start_time": "2023-05-19T09:37:25.358Z"
   },
   {
    "duration": 11,
    "start_time": "2023-05-19T09:37:30.383Z"
   },
   {
    "duration": 9,
    "start_time": "2023-05-19T09:37:41.683Z"
   },
   {
    "duration": 1000,
    "start_time": "2023-05-19T09:38:06.629Z"
   },
   {
    "duration": 84,
    "start_time": "2023-05-19T09:38:07.631Z"
   },
   {
    "duration": 9,
    "start_time": "2023-05-19T09:38:07.716Z"
   },
   {
    "duration": 22,
    "start_time": "2023-05-19T09:38:07.727Z"
   },
   {
    "duration": 37,
    "start_time": "2023-05-19T09:38:07.751Z"
   },
   {
    "duration": 30,
    "start_time": "2023-05-19T09:38:07.790Z"
   },
   {
    "duration": 32,
    "start_time": "2023-05-19T09:38:07.822Z"
   },
   {
    "duration": 34,
    "start_time": "2023-05-19T09:38:07.855Z"
   },
   {
    "duration": 21,
    "start_time": "2023-05-19T09:38:07.890Z"
   },
   {
    "duration": 31,
    "start_time": "2023-05-19T09:38:07.913Z"
   },
   {
    "duration": 48,
    "start_time": "2023-05-19T09:38:07.945Z"
   },
   {
    "duration": 159,
    "start_time": "2023-05-19T09:38:07.995Z"
   },
   {
    "duration": 138,
    "start_time": "2023-05-19T09:38:08.155Z"
   },
   {
    "duration": 12,
    "start_time": "2023-05-19T09:38:08.295Z"
   },
   {
    "duration": 259,
    "start_time": "2023-05-19T09:38:08.309Z"
   },
   {
    "duration": 161,
    "start_time": "2023-05-19T09:38:08.569Z"
   },
   {
    "duration": 249,
    "start_time": "2023-05-19T09:38:08.731Z"
   },
   {
    "duration": 178,
    "start_time": "2023-05-19T09:38:08.981Z"
   },
   {
    "duration": 297,
    "start_time": "2023-05-19T09:38:09.160Z"
   },
   {
    "duration": 113,
    "start_time": "2023-05-19T09:38:09.459Z"
   },
   {
    "duration": 100,
    "start_time": "2023-05-19T09:38:09.574Z"
   },
   {
    "duration": 11,
    "start_time": "2023-05-19T09:38:09.676Z"
   },
   {
    "duration": 181,
    "start_time": "2023-05-19T09:38:09.688Z"
   },
   {
    "duration": 123,
    "start_time": "2023-05-19T09:38:09.870Z"
   },
   {
    "duration": 4,
    "start_time": "2023-05-19T09:38:09.994Z"
   },
   {
    "duration": 192,
    "start_time": "2023-05-19T09:38:09.999Z"
   },
   {
    "duration": 119,
    "start_time": "2023-05-19T09:38:10.193Z"
   },
   {
    "duration": 19,
    "start_time": "2023-05-19T09:38:10.315Z"
   },
   {
    "duration": 9,
    "start_time": "2023-05-19T09:38:10.336Z"
   },
   {
    "duration": 9,
    "start_time": "2023-05-19T09:38:10.347Z"
   },
   {
    "duration": 54,
    "start_time": "2023-05-19T09:38:10.357Z"
   },
   {
    "duration": 33,
    "start_time": "2023-05-19T09:38:10.412Z"
   },
   {
    "duration": 19,
    "start_time": "2023-05-19T09:39:30.927Z"
   }
  ],
  "kernelspec": {
   "display_name": "Python 3 (ipykernel)",
   "language": "python",
   "name": "python3"
  },
  "language_info": {
   "codemirror_mode": {
    "name": "ipython",
    "version": 3
   },
   "file_extension": ".py",
   "mimetype": "text/x-python",
   "name": "python",
   "nbconvert_exporter": "python",
   "pygments_lexer": "ipython3",
   "version": "3.10.9"
  },
  "toc": {
   "base_numbering": 1,
   "nav_menu": {},
   "number_sections": true,
   "sideBar": true,
   "skip_h1_title": true,
   "title_cell": "Table of Contents",
   "title_sidebar": "Contents",
   "toc_cell": false,
   "toc_position": {},
   "toc_section_display": true,
   "toc_window_display": false
  }
 },
 "nbformat": 4,
 "nbformat_minor": 2
}
